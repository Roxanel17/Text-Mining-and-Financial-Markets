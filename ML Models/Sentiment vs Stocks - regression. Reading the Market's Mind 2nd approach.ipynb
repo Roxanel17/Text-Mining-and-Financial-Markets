{
 "cells": [
  {
   "cell_type": "markdown",
   "id": "3067af29",
   "metadata": {},
   "source": [
    "### Sentiment Analysis & Stocks Data"
   ]
  },
  {
   "cell_type": "markdown",
   "id": "dfb8acc1",
   "metadata": {},
   "source": [
    "### 1. Return VS. Sentiment - an approach based on relations \n",
    "\n",
    "\n",
    "- Sentiment from tweets about Tesla and Tesla's stocks data\n",
    "- Sentiment from tweets about Bitcoin and Bitcoin's stocks data \n",
    "- Sentiment from tweets about Dogecoin and Dogecoin's stocks data "
   ]
  },
  {
   "cell_type": "code",
   "execution_count": 1,
   "id": "eeeb599d",
   "metadata": {},
   "outputs": [
    {
     "name": "stderr",
     "output_type": "stream",
     "text": [
      "/opt/homebrew/Caskroom/miniforge/base/envs/conda_env/lib/python3.8/site-packages/requests/__init__.py:102: RequestsDependencyWarning: urllib3 (1.26.9) or chardet (5.1.0)/charset_normalizer (2.0.12) doesn't match a supported version!\n",
      "  warnings.warn(\"urllib3 ({}) or chardet ({})/charset_normalizer ({}) doesn't match a supported \"\n"
     ]
    }
   ],
   "source": [
    "import pandas as pd\n",
    "import numpy as np\n",
    "import yfinance as yf\n",
    "import matplotlib.pyplot as plt\n",
    "from datetime import datetime\n",
    "import seaborn as sns\n",
    "sns.set_style('darkgrid')\n",
    "%matplotlib inline\n",
    "import statsmodels.formula.api as smf"
   ]
  },
  {
   "cell_type": "markdown",
   "id": "8b04ffbf",
   "metadata": {},
   "source": [
    "Reading the data"
   ]
  },
  {
   "cell_type": "code",
   "execution_count": 2,
   "id": "eda6eeba",
   "metadata": {},
   "outputs": [
    {
     "data": {
      "text/html": [
       "<div>\n",
       "<style scoped>\n",
       "    .dataframe tbody tr th:only-of-type {\n",
       "        vertical-align: middle;\n",
       "    }\n",
       "\n",
       "    .dataframe tbody tr th {\n",
       "        vertical-align: top;\n",
       "    }\n",
       "\n",
       "    .dataframe thead th {\n",
       "        text-align: right;\n",
       "    }\n",
       "</style>\n",
       "<table border=\"1\" class=\"dataframe\">\n",
       "  <thead>\n",
       "    <tr style=\"text-align: right;\">\n",
       "      <th></th>\n",
       "      <th>Date</th>\n",
       "      <th>Close_Tsla</th>\n",
       "      <th>Volume_Tsla</th>\n",
       "      <th>simple_return_Tsla</th>\n",
       "      <th>log_return_Tsla</th>\n",
       "      <th>Close_Tsla_Rescaled</th>\n",
       "      <th>Close_Btc</th>\n",
       "      <th>Volume_Btc</th>\n",
       "      <th>simple_return_Btc</th>\n",
       "      <th>log_return_Btc</th>\n",
       "      <th>Close_Btc_Rescaled</th>\n",
       "      <th>Close_Doge</th>\n",
       "      <th>Volume_Doge</th>\n",
       "      <th>simple_return_Doge</th>\n",
       "      <th>log_return_Doge</th>\n",
       "      <th>Close_Doge_Rescaled</th>\n",
       "      <th>label_rt_Tsla</th>\n",
       "      <th>label_rt_Btc</th>\n",
       "      <th>label_rt_Doge</th>\n",
       "    </tr>\n",
       "  </thead>\n",
       "  <tbody>\n",
       "    <tr>\n",
       "      <th>0</th>\n",
       "      <td>2010-06-29</td>\n",
       "      <td>1.592667</td>\n",
       "      <td>281494500</td>\n",
       "      <td>NaN</td>\n",
       "      <td>NaN</td>\n",
       "      <td>0.001319</td>\n",
       "      <td>NaN</td>\n",
       "      <td>NaN</td>\n",
       "      <td>NaN</td>\n",
       "      <td>NaN</td>\n",
       "      <td>NaN</td>\n",
       "      <td>NaN</td>\n",
       "      <td>NaN</td>\n",
       "      <td>NaN</td>\n",
       "      <td>NaN</td>\n",
       "      <td>NaN</td>\n",
       "      <td>0</td>\n",
       "      <td>0</td>\n",
       "      <td>0</td>\n",
       "    </tr>\n",
       "    <tr>\n",
       "      <th>1</th>\n",
       "      <td>2010-06-30</td>\n",
       "      <td>1.588667</td>\n",
       "      <td>257806500</td>\n",
       "      <td>-0.002511</td>\n",
       "      <td>-0.002515</td>\n",
       "      <td>0.001309</td>\n",
       "      <td>NaN</td>\n",
       "      <td>NaN</td>\n",
       "      <td>NaN</td>\n",
       "      <td>NaN</td>\n",
       "      <td>NaN</td>\n",
       "      <td>NaN</td>\n",
       "      <td>NaN</td>\n",
       "      <td>NaN</td>\n",
       "      <td>NaN</td>\n",
       "      <td>NaN</td>\n",
       "      <td>0</td>\n",
       "      <td>0</td>\n",
       "      <td>0</td>\n",
       "    </tr>\n",
       "    <tr>\n",
       "      <th>2</th>\n",
       "      <td>2010-07-01</td>\n",
       "      <td>1.464000</td>\n",
       "      <td>123282000</td>\n",
       "      <td>-0.078473</td>\n",
       "      <td>-0.081723</td>\n",
       "      <td>0.001004</td>\n",
       "      <td>NaN</td>\n",
       "      <td>NaN</td>\n",
       "      <td>NaN</td>\n",
       "      <td>NaN</td>\n",
       "      <td>NaN</td>\n",
       "      <td>NaN</td>\n",
       "      <td>NaN</td>\n",
       "      <td>NaN</td>\n",
       "      <td>NaN</td>\n",
       "      <td>NaN</td>\n",
       "      <td>0</td>\n",
       "      <td>0</td>\n",
       "      <td>0</td>\n",
       "    </tr>\n",
       "    <tr>\n",
       "      <th>3</th>\n",
       "      <td>2010-07-02</td>\n",
       "      <td>1.280000</td>\n",
       "      <td>77097000</td>\n",
       "      <td>-0.125683</td>\n",
       "      <td>-0.134312</td>\n",
       "      <td>0.000554</td>\n",
       "      <td>NaN</td>\n",
       "      <td>NaN</td>\n",
       "      <td>NaN</td>\n",
       "      <td>NaN</td>\n",
       "      <td>NaN</td>\n",
       "      <td>NaN</td>\n",
       "      <td>NaN</td>\n",
       "      <td>NaN</td>\n",
       "      <td>NaN</td>\n",
       "      <td>NaN</td>\n",
       "      <td>0</td>\n",
       "      <td>0</td>\n",
       "      <td>0</td>\n",
       "    </tr>\n",
       "    <tr>\n",
       "      <th>4</th>\n",
       "      <td>2010-07-06</td>\n",
       "      <td>1.074000</td>\n",
       "      <td>103003500</td>\n",
       "      <td>-0.160937</td>\n",
       "      <td>-0.175470</td>\n",
       "      <td>0.000051</td>\n",
       "      <td>NaN</td>\n",
       "      <td>NaN</td>\n",
       "      <td>NaN</td>\n",
       "      <td>NaN</td>\n",
       "      <td>NaN</td>\n",
       "      <td>NaN</td>\n",
       "      <td>NaN</td>\n",
       "      <td>NaN</td>\n",
       "      <td>NaN</td>\n",
       "      <td>NaN</td>\n",
       "      <td>0</td>\n",
       "      <td>0</td>\n",
       "      <td>0</td>\n",
       "    </tr>\n",
       "  </tbody>\n",
       "</table>\n",
       "</div>"
      ],
      "text/plain": [
       "         Date  Close_Tsla  Volume_Tsla  simple_return_Tsla  log_return_Tsla  \\\n",
       "0  2010-06-29    1.592667    281494500                 NaN              NaN   \n",
       "1  2010-06-30    1.588667    257806500           -0.002511        -0.002515   \n",
       "2  2010-07-01    1.464000    123282000           -0.078473        -0.081723   \n",
       "3  2010-07-02    1.280000     77097000           -0.125683        -0.134312   \n",
       "4  2010-07-06    1.074000    103003500           -0.160937        -0.175470   \n",
       "\n",
       "   Close_Tsla_Rescaled  Close_Btc  Volume_Btc  simple_return_Btc  \\\n",
       "0             0.001319        NaN         NaN                NaN   \n",
       "1             0.001309        NaN         NaN                NaN   \n",
       "2             0.001004        NaN         NaN                NaN   \n",
       "3             0.000554        NaN         NaN                NaN   \n",
       "4             0.000051        NaN         NaN                NaN   \n",
       "\n",
       "   log_return_Btc  Close_Btc_Rescaled  Close_Doge  Volume_Doge  \\\n",
       "0             NaN                 NaN         NaN          NaN   \n",
       "1             NaN                 NaN         NaN          NaN   \n",
       "2             NaN                 NaN         NaN          NaN   \n",
       "3             NaN                 NaN         NaN          NaN   \n",
       "4             NaN                 NaN         NaN          NaN   \n",
       "\n",
       "   simple_return_Doge  log_return_Doge  Close_Doge_Rescaled  label_rt_Tsla  \\\n",
       "0                 NaN              NaN                  NaN              0   \n",
       "1                 NaN              NaN                  NaN              0   \n",
       "2                 NaN              NaN                  NaN              0   \n",
       "3                 NaN              NaN                  NaN              0   \n",
       "4                 NaN              NaN                  NaN              0   \n",
       "\n",
       "   label_rt_Btc  label_rt_Doge  \n",
       "0             0              0  \n",
       "1             0              0  \n",
       "2             0              0  \n",
       "3             0              0  \n",
       "4             0              0  "
      ]
     },
     "execution_count": 2,
     "metadata": {},
     "output_type": "execute_result"
    }
   ],
   "source": [
    "stocks = pd.read_csv('../data/stocks_data.csv')\n",
    "stocks.head()"
   ]
  },
  {
   "cell_type": "code",
   "execution_count": 3,
   "id": "80fb8366",
   "metadata": {},
   "outputs": [
    {
     "data": {
      "text/html": [
       "<div>\n",
       "<style scoped>\n",
       "    .dataframe tbody tr th:only-of-type {\n",
       "        vertical-align: middle;\n",
       "    }\n",
       "\n",
       "    .dataframe tbody tr th {\n",
       "        vertical-align: top;\n",
       "    }\n",
       "\n",
       "    .dataframe thead th {\n",
       "        text-align: right;\n",
       "    }\n",
       "</style>\n",
       "<table border=\"1\" class=\"dataframe\">\n",
       "  <thead>\n",
       "    <tr style=\"text-align: right;\">\n",
       "      <th></th>\n",
       "      <th>date</th>\n",
       "      <th>Close_Tsla</th>\n",
       "      <th>Volume_Tsla</th>\n",
       "      <th>simple_return_Tsla</th>\n",
       "      <th>log_return_Tsla</th>\n",
       "      <th>Close_Tsla_Rescaled</th>\n",
       "      <th>Close_Btc</th>\n",
       "      <th>Volume_Btc</th>\n",
       "      <th>simple_return_Btc</th>\n",
       "      <th>log_return_Btc</th>\n",
       "      <th>Close_Btc_Rescaled</th>\n",
       "      <th>Close_Doge</th>\n",
       "      <th>Volume_Doge</th>\n",
       "      <th>simple_return_Doge</th>\n",
       "      <th>log_return_Doge</th>\n",
       "      <th>Close_Doge_Rescaled</th>\n",
       "      <th>label_rt_Tsla</th>\n",
       "      <th>label_rt_Btc</th>\n",
       "      <th>label_rt_Doge</th>\n",
       "    </tr>\n",
       "  </thead>\n",
       "  <tbody>\n",
       "    <tr>\n",
       "      <th>0</th>\n",
       "      <td>2010-06-29</td>\n",
       "      <td>1.592667</td>\n",
       "      <td>281494500</td>\n",
       "      <td>NaN</td>\n",
       "      <td>NaN</td>\n",
       "      <td>0.001319</td>\n",
       "      <td>NaN</td>\n",
       "      <td>NaN</td>\n",
       "      <td>NaN</td>\n",
       "      <td>NaN</td>\n",
       "      <td>NaN</td>\n",
       "      <td>NaN</td>\n",
       "      <td>NaN</td>\n",
       "      <td>NaN</td>\n",
       "      <td>NaN</td>\n",
       "      <td>NaN</td>\n",
       "      <td>0</td>\n",
       "      <td>0</td>\n",
       "      <td>0</td>\n",
       "    </tr>\n",
       "    <tr>\n",
       "      <th>1</th>\n",
       "      <td>2010-06-30</td>\n",
       "      <td>1.588667</td>\n",
       "      <td>257806500</td>\n",
       "      <td>-0.002511</td>\n",
       "      <td>-0.002515</td>\n",
       "      <td>0.001309</td>\n",
       "      <td>NaN</td>\n",
       "      <td>NaN</td>\n",
       "      <td>NaN</td>\n",
       "      <td>NaN</td>\n",
       "      <td>NaN</td>\n",
       "      <td>NaN</td>\n",
       "      <td>NaN</td>\n",
       "      <td>NaN</td>\n",
       "      <td>NaN</td>\n",
       "      <td>NaN</td>\n",
       "      <td>0</td>\n",
       "      <td>0</td>\n",
       "      <td>0</td>\n",
       "    </tr>\n",
       "    <tr>\n",
       "      <th>2</th>\n",
       "      <td>2010-07-01</td>\n",
       "      <td>1.464000</td>\n",
       "      <td>123282000</td>\n",
       "      <td>-0.078473</td>\n",
       "      <td>-0.081723</td>\n",
       "      <td>0.001004</td>\n",
       "      <td>NaN</td>\n",
       "      <td>NaN</td>\n",
       "      <td>NaN</td>\n",
       "      <td>NaN</td>\n",
       "      <td>NaN</td>\n",
       "      <td>NaN</td>\n",
       "      <td>NaN</td>\n",
       "      <td>NaN</td>\n",
       "      <td>NaN</td>\n",
       "      <td>NaN</td>\n",
       "      <td>0</td>\n",
       "      <td>0</td>\n",
       "      <td>0</td>\n",
       "    </tr>\n",
       "    <tr>\n",
       "      <th>3</th>\n",
       "      <td>2010-07-02</td>\n",
       "      <td>1.280000</td>\n",
       "      <td>77097000</td>\n",
       "      <td>-0.125683</td>\n",
       "      <td>-0.134312</td>\n",
       "      <td>0.000554</td>\n",
       "      <td>NaN</td>\n",
       "      <td>NaN</td>\n",
       "      <td>NaN</td>\n",
       "      <td>NaN</td>\n",
       "      <td>NaN</td>\n",
       "      <td>NaN</td>\n",
       "      <td>NaN</td>\n",
       "      <td>NaN</td>\n",
       "      <td>NaN</td>\n",
       "      <td>NaN</td>\n",
       "      <td>0</td>\n",
       "      <td>0</td>\n",
       "      <td>0</td>\n",
       "    </tr>\n",
       "    <tr>\n",
       "      <th>4</th>\n",
       "      <td>2010-07-06</td>\n",
       "      <td>1.074000</td>\n",
       "      <td>103003500</td>\n",
       "      <td>-0.160937</td>\n",
       "      <td>-0.175470</td>\n",
       "      <td>0.000051</td>\n",
       "      <td>NaN</td>\n",
       "      <td>NaN</td>\n",
       "      <td>NaN</td>\n",
       "      <td>NaN</td>\n",
       "      <td>NaN</td>\n",
       "      <td>NaN</td>\n",
       "      <td>NaN</td>\n",
       "      <td>NaN</td>\n",
       "      <td>NaN</td>\n",
       "      <td>NaN</td>\n",
       "      <td>0</td>\n",
       "      <td>0</td>\n",
       "      <td>0</td>\n",
       "    </tr>\n",
       "  </tbody>\n",
       "</table>\n",
       "</div>"
      ],
      "text/plain": [
       "         date  Close_Tsla  Volume_Tsla  simple_return_Tsla  log_return_Tsla  \\\n",
       "0  2010-06-29    1.592667    281494500                 NaN              NaN   \n",
       "1  2010-06-30    1.588667    257806500           -0.002511        -0.002515   \n",
       "2  2010-07-01    1.464000    123282000           -0.078473        -0.081723   \n",
       "3  2010-07-02    1.280000     77097000           -0.125683        -0.134312   \n",
       "4  2010-07-06    1.074000    103003500           -0.160937        -0.175470   \n",
       "\n",
       "   Close_Tsla_Rescaled  Close_Btc  Volume_Btc  simple_return_Btc  \\\n",
       "0             0.001319        NaN         NaN                NaN   \n",
       "1             0.001309        NaN         NaN                NaN   \n",
       "2             0.001004        NaN         NaN                NaN   \n",
       "3             0.000554        NaN         NaN                NaN   \n",
       "4             0.000051        NaN         NaN                NaN   \n",
       "\n",
       "   log_return_Btc  Close_Btc_Rescaled  Close_Doge  Volume_Doge  \\\n",
       "0             NaN                 NaN         NaN          NaN   \n",
       "1             NaN                 NaN         NaN          NaN   \n",
       "2             NaN                 NaN         NaN          NaN   \n",
       "3             NaN                 NaN         NaN          NaN   \n",
       "4             NaN                 NaN         NaN          NaN   \n",
       "\n",
       "   simple_return_Doge  log_return_Doge  Close_Doge_Rescaled  label_rt_Tsla  \\\n",
       "0                 NaN              NaN                  NaN              0   \n",
       "1                 NaN              NaN                  NaN              0   \n",
       "2                 NaN              NaN                  NaN              0   \n",
       "3                 NaN              NaN                  NaN              0   \n",
       "4                 NaN              NaN                  NaN              0   \n",
       "\n",
       "   label_rt_Btc  label_rt_Doge  \n",
       "0             0              0  \n",
       "1             0              0  \n",
       "2             0              0  \n",
       "3             0              0  \n",
       "4             0              0  "
      ]
     },
     "execution_count": 3,
     "metadata": {},
     "output_type": "execute_result"
    }
   ],
   "source": [
    "stocks.rename(columns={\"Date\": \"date\"}, inplace=True)\n",
    "stocks.head()"
   ]
  },
  {
   "cell_type": "code",
   "execution_count": 4,
   "id": "67f06300",
   "metadata": {},
   "outputs": [
    {
     "data": {
      "text/html": [
       "<div>\n",
       "<style scoped>\n",
       "    .dataframe tbody tr th:only-of-type {\n",
       "        vertical-align: middle;\n",
       "    }\n",
       "\n",
       "    .dataframe tbody tr th {\n",
       "        vertical-align: top;\n",
       "    }\n",
       "\n",
       "    .dataframe thead th {\n",
       "        text-align: right;\n",
       "    }\n",
       "</style>\n",
       "<table border=\"1\" class=\"dataframe\">\n",
       "  <thead>\n",
       "    <tr style=\"text-align: right;\">\n",
       "      <th></th>\n",
       "      <th>date</th>\n",
       "      <th>Close_Doge</th>\n",
       "      <th>Volume_Doge</th>\n",
       "      <th>simple_return_Doge</th>\n",
       "      <th>log_return_Doge</th>\n",
       "      <th>Close_Doge_Rescaled</th>\n",
       "    </tr>\n",
       "  </thead>\n",
       "  <tbody>\n",
       "    <tr>\n",
       "      <th>0</th>\n",
       "      <td>2010-06-29</td>\n",
       "      <td>NaN</td>\n",
       "      <td>NaN</td>\n",
       "      <td>NaN</td>\n",
       "      <td>NaN</td>\n",
       "      <td>NaN</td>\n",
       "    </tr>\n",
       "    <tr>\n",
       "      <th>1</th>\n",
       "      <td>2010-06-30</td>\n",
       "      <td>NaN</td>\n",
       "      <td>NaN</td>\n",
       "      <td>NaN</td>\n",
       "      <td>NaN</td>\n",
       "      <td>NaN</td>\n",
       "    </tr>\n",
       "    <tr>\n",
       "      <th>2</th>\n",
       "      <td>2010-07-01</td>\n",
       "      <td>NaN</td>\n",
       "      <td>NaN</td>\n",
       "      <td>NaN</td>\n",
       "      <td>NaN</td>\n",
       "      <td>NaN</td>\n",
       "    </tr>\n",
       "    <tr>\n",
       "      <th>3</th>\n",
       "      <td>2010-07-02</td>\n",
       "      <td>NaN</td>\n",
       "      <td>NaN</td>\n",
       "      <td>NaN</td>\n",
       "      <td>NaN</td>\n",
       "      <td>NaN</td>\n",
       "    </tr>\n",
       "    <tr>\n",
       "      <th>4</th>\n",
       "      <td>2010-07-06</td>\n",
       "      <td>NaN</td>\n",
       "      <td>NaN</td>\n",
       "      <td>NaN</td>\n",
       "      <td>NaN</td>\n",
       "      <td>NaN</td>\n",
       "    </tr>\n",
       "    <tr>\n",
       "      <th>...</th>\n",
       "      <td>...</td>\n",
       "      <td>...</td>\n",
       "      <td>...</td>\n",
       "      <td>...</td>\n",
       "      <td>...</td>\n",
       "      <td>...</td>\n",
       "    </tr>\n",
       "    <tr>\n",
       "      <th>3236</th>\n",
       "      <td>2023-05-08</td>\n",
       "      <td>0.072473</td>\n",
       "      <td>459549555.0</td>\n",
       "      <td>-0.055234</td>\n",
       "      <td>-0.056818</td>\n",
       "      <td>0.104477</td>\n",
       "    </tr>\n",
       "    <tr>\n",
       "      <th>3237</th>\n",
       "      <td>2023-05-09</td>\n",
       "      <td>0.073139</td>\n",
       "      <td>249148363.0</td>\n",
       "      <td>0.009190</td>\n",
       "      <td>0.009148</td>\n",
       "      <td>0.105451</td>\n",
       "    </tr>\n",
       "    <tr>\n",
       "      <th>3238</th>\n",
       "      <td>2023-05-10</td>\n",
       "      <td>0.073226</td>\n",
       "      <td>344464160.0</td>\n",
       "      <td>0.001190</td>\n",
       "      <td>0.001189</td>\n",
       "      <td>0.105578</td>\n",
       "    </tr>\n",
       "    <tr>\n",
       "      <th>3239</th>\n",
       "      <td>2023-05-11</td>\n",
       "      <td>0.072085</td>\n",
       "      <td>325440313.0</td>\n",
       "      <td>-0.015582</td>\n",
       "      <td>-0.015705</td>\n",
       "      <td>0.103910</td>\n",
       "    </tr>\n",
       "    <tr>\n",
       "      <th>3240</th>\n",
       "      <td>2023-05-12</td>\n",
       "      <td>0.072459</td>\n",
       "      <td>365130285.0</td>\n",
       "      <td>0.005188</td>\n",
       "      <td>0.005175</td>\n",
       "      <td>0.104457</td>\n",
       "    </tr>\n",
       "  </tbody>\n",
       "</table>\n",
       "<p>3241 rows × 6 columns</p>\n",
       "</div>"
      ],
      "text/plain": [
       "            date  Close_Doge  Volume_Doge  simple_return_Doge  \\\n",
       "0     2010-06-29         NaN          NaN                 NaN   \n",
       "1     2010-06-30         NaN          NaN                 NaN   \n",
       "2     2010-07-01         NaN          NaN                 NaN   \n",
       "3     2010-07-02         NaN          NaN                 NaN   \n",
       "4     2010-07-06         NaN          NaN                 NaN   \n",
       "...          ...         ...          ...                 ...   \n",
       "3236  2023-05-08    0.072473  459549555.0           -0.055234   \n",
       "3237  2023-05-09    0.073139  249148363.0            0.009190   \n",
       "3238  2023-05-10    0.073226  344464160.0            0.001190   \n",
       "3239  2023-05-11    0.072085  325440313.0           -0.015582   \n",
       "3240  2023-05-12    0.072459  365130285.0            0.005188   \n",
       "\n",
       "      log_return_Doge  Close_Doge_Rescaled  \n",
       "0                 NaN                  NaN  \n",
       "1                 NaN                  NaN  \n",
       "2                 NaN                  NaN  \n",
       "3                 NaN                  NaN  \n",
       "4                 NaN                  NaN  \n",
       "...               ...                  ...  \n",
       "3236        -0.056818             0.104477  \n",
       "3237         0.009148             0.105451  \n",
       "3238         0.001189             0.105578  \n",
       "3239        -0.015705             0.103910  \n",
       "3240         0.005175             0.104457  \n",
       "\n",
       "[3241 rows x 6 columns]"
      ]
     },
     "execution_count": 4,
     "metadata": {},
     "output_type": "execute_result"
    }
   ],
   "source": [
    "tesla_stocks = stocks[['date', 'Close_Tsla', 'Volume_Tsla', 'simple_return_Tsla', 'log_return_Tsla', \n",
    "                      'Close_Tsla_Rescaled']]\n",
    "tesla_stocks\n",
    "\n",
    "bitcoin_stocks = stocks[['date', 'Close_Btc', 'Volume_Btc', 'simple_return_Btc', 'log_return_Btc', \n",
    "                      'Close_Btc_Rescaled']]\n",
    "bitcoin_stocks\n",
    "\n",
    "dogecoin_stocks = stocks[['date', 'Close_Doge', 'Volume_Doge', 'simple_return_Doge', 'log_return_Doge', \n",
    "                      'Close_Doge_Rescaled']]\n",
    "dogecoin_stocks"
   ]
  },
  {
   "cell_type": "code",
   "execution_count": 5,
   "id": "a34aa9bc",
   "metadata": {},
   "outputs": [
    {
     "name": "stderr",
     "output_type": "stream",
     "text": [
      "/var/folders/yv/j0g0g70d35zb6gycr0585f9c0000gn/T/ipykernel_5092/3913704129.py:1: SettingWithCopyWarning: \n",
      "A value is trying to be set on a copy of a slice from a DataFrame\n",
      "\n",
      "See the caveats in the documentation: https://pandas.pydata.org/pandas-docs/stable/user_guide/indexing.html#returning-a-view-versus-a-copy\n",
      "  tesla_stocks.dropna(inplace=True)\n",
      "/var/folders/yv/j0g0g70d35zb6gycr0585f9c0000gn/T/ipykernel_5092/3913704129.py:4: SettingWithCopyWarning: \n",
      "A value is trying to be set on a copy of a slice from a DataFrame\n",
      "\n",
      "See the caveats in the documentation: https://pandas.pydata.org/pandas-docs/stable/user_guide/indexing.html#returning-a-view-versus-a-copy\n",
      "  bitcoin_stocks.dropna(inplace=True)\n",
      "/var/folders/yv/j0g0g70d35zb6gycr0585f9c0000gn/T/ipykernel_5092/3913704129.py:7: SettingWithCopyWarning: \n",
      "A value is trying to be set on a copy of a slice from a DataFrame\n",
      "\n",
      "See the caveats in the documentation: https://pandas.pydata.org/pandas-docs/stable/user_guide/indexing.html#returning-a-view-versus-a-copy\n",
      "  dogecoin_stocks.dropna(inplace=True)\n"
     ]
    },
    {
     "data": {
      "text/html": [
       "<div>\n",
       "<style scoped>\n",
       "    .dataframe tbody tr th:only-of-type {\n",
       "        vertical-align: middle;\n",
       "    }\n",
       "\n",
       "    .dataframe tbody tr th {\n",
       "        vertical-align: top;\n",
       "    }\n",
       "\n",
       "    .dataframe thead th {\n",
       "        text-align: right;\n",
       "    }\n",
       "</style>\n",
       "<table border=\"1\" class=\"dataframe\">\n",
       "  <thead>\n",
       "    <tr style=\"text-align: right;\">\n",
       "      <th></th>\n",
       "      <th>date</th>\n",
       "      <th>Close_Doge</th>\n",
       "      <th>Volume_Doge</th>\n",
       "      <th>simple_return_Doge</th>\n",
       "      <th>log_return_Doge</th>\n",
       "      <th>Close_Doge_Rescaled</th>\n",
       "    </tr>\n",
       "  </thead>\n",
       "  <tbody>\n",
       "    <tr>\n",
       "      <th>1857</th>\n",
       "      <td>2017-11-10</td>\n",
       "      <td>0.001163</td>\n",
       "      <td>4246520.0</td>\n",
       "      <td>-0.178092</td>\n",
       "      <td>-0.196127</td>\n",
       "      <td>0.000183</td>\n",
       "    </tr>\n",
       "    <tr>\n",
       "      <th>1858</th>\n",
       "      <td>2017-11-13</td>\n",
       "      <td>0.001211</td>\n",
       "      <td>2481270.0</td>\n",
       "      <td>0.166667</td>\n",
       "      <td>0.154151</td>\n",
       "      <td>0.000253</td>\n",
       "    </tr>\n",
       "    <tr>\n",
       "      <th>1859</th>\n",
       "      <td>2017-11-14</td>\n",
       "      <td>0.001184</td>\n",
       "      <td>2660340.0</td>\n",
       "      <td>-0.022296</td>\n",
       "      <td>-0.022548</td>\n",
       "      <td>0.000214</td>\n",
       "    </tr>\n",
       "    <tr>\n",
       "      <th>1860</th>\n",
       "      <td>2017-11-15</td>\n",
       "      <td>0.001339</td>\n",
       "      <td>2840180.0</td>\n",
       "      <td>0.130912</td>\n",
       "      <td>0.123024</td>\n",
       "      <td>0.000440</td>\n",
       "    </tr>\n",
       "    <tr>\n",
       "      <th>1861</th>\n",
       "      <td>2017-11-16</td>\n",
       "      <td>0.001390</td>\n",
       "      <td>3423010.0</td>\n",
       "      <td>0.038088</td>\n",
       "      <td>0.037381</td>\n",
       "      <td>0.000515</td>\n",
       "    </tr>\n",
       "    <tr>\n",
       "      <th>...</th>\n",
       "      <td>...</td>\n",
       "      <td>...</td>\n",
       "      <td>...</td>\n",
       "      <td>...</td>\n",
       "      <td>...</td>\n",
       "      <td>...</td>\n",
       "    </tr>\n",
       "    <tr>\n",
       "      <th>3236</th>\n",
       "      <td>2023-05-08</td>\n",
       "      <td>0.072473</td>\n",
       "      <td>459549555.0</td>\n",
       "      <td>-0.055234</td>\n",
       "      <td>-0.056818</td>\n",
       "      <td>0.104477</td>\n",
       "    </tr>\n",
       "    <tr>\n",
       "      <th>3237</th>\n",
       "      <td>2023-05-09</td>\n",
       "      <td>0.073139</td>\n",
       "      <td>249148363.0</td>\n",
       "      <td>0.009190</td>\n",
       "      <td>0.009148</td>\n",
       "      <td>0.105451</td>\n",
       "    </tr>\n",
       "    <tr>\n",
       "      <th>3238</th>\n",
       "      <td>2023-05-10</td>\n",
       "      <td>0.073226</td>\n",
       "      <td>344464160.0</td>\n",
       "      <td>0.001190</td>\n",
       "      <td>0.001189</td>\n",
       "      <td>0.105578</td>\n",
       "    </tr>\n",
       "    <tr>\n",
       "      <th>3239</th>\n",
       "      <td>2023-05-11</td>\n",
       "      <td>0.072085</td>\n",
       "      <td>325440313.0</td>\n",
       "      <td>-0.015582</td>\n",
       "      <td>-0.015705</td>\n",
       "      <td>0.103910</td>\n",
       "    </tr>\n",
       "    <tr>\n",
       "      <th>3240</th>\n",
       "      <td>2023-05-12</td>\n",
       "      <td>0.072459</td>\n",
       "      <td>365130285.0</td>\n",
       "      <td>0.005188</td>\n",
       "      <td>0.005175</td>\n",
       "      <td>0.104457</td>\n",
       "    </tr>\n",
       "  </tbody>\n",
       "</table>\n",
       "<p>1384 rows × 6 columns</p>\n",
       "</div>"
      ],
      "text/plain": [
       "            date  Close_Doge  Volume_Doge  simple_return_Doge  \\\n",
       "1857  2017-11-10    0.001163    4246520.0           -0.178092   \n",
       "1858  2017-11-13    0.001211    2481270.0            0.166667   \n",
       "1859  2017-11-14    0.001184    2660340.0           -0.022296   \n",
       "1860  2017-11-15    0.001339    2840180.0            0.130912   \n",
       "1861  2017-11-16    0.001390    3423010.0            0.038088   \n",
       "...          ...         ...          ...                 ...   \n",
       "3236  2023-05-08    0.072473  459549555.0           -0.055234   \n",
       "3237  2023-05-09    0.073139  249148363.0            0.009190   \n",
       "3238  2023-05-10    0.073226  344464160.0            0.001190   \n",
       "3239  2023-05-11    0.072085  325440313.0           -0.015582   \n",
       "3240  2023-05-12    0.072459  365130285.0            0.005188   \n",
       "\n",
       "      log_return_Doge  Close_Doge_Rescaled  \n",
       "1857        -0.196127             0.000183  \n",
       "1858         0.154151             0.000253  \n",
       "1859        -0.022548             0.000214  \n",
       "1860         0.123024             0.000440  \n",
       "1861         0.037381             0.000515  \n",
       "...               ...                  ...  \n",
       "3236        -0.056818             0.104477  \n",
       "3237         0.009148             0.105451  \n",
       "3238         0.001189             0.105578  \n",
       "3239        -0.015705             0.103910  \n",
       "3240         0.005175             0.104457  \n",
       "\n",
       "[1384 rows x 6 columns]"
      ]
     },
     "execution_count": 5,
     "metadata": {},
     "output_type": "execute_result"
    }
   ],
   "source": [
    "tesla_stocks.dropna(inplace=True)\n",
    "tesla_stocks\n",
    "\n",
    "bitcoin_stocks.dropna(inplace=True)\n",
    "bitcoin_stocks\n",
    "\n",
    "dogecoin_stocks.dropna(inplace=True)\n",
    "dogecoin_stocks"
   ]
  },
  {
   "cell_type": "code",
   "execution_count": 6,
   "id": "701f850f",
   "metadata": {},
   "outputs": [],
   "source": [
    "tesla_indicators = pd.read_csv('../data/tesla_sentiment.csv')\n",
    "bitcoin_indicators = pd.read_csv('../data/bitcoin_sentiment.csv')\n",
    "dogecoin_indicators = pd.read_csv('../data/dogecoin_sentiment.csv')"
   ]
  },
  {
   "cell_type": "code",
   "execution_count": 7,
   "id": "4133ee2e",
   "metadata": {},
   "outputs": [],
   "source": [
    "bitcoin_stocks.set_index('date', inplace=True)\n",
    "dogecoin_stocks.set_index('date', inplace=True)\n",
    "tesla_stocks.set_index('date', inplace=True)\n",
    "\n",
    "tesla_indicators.set_index('date', inplace=True)\n",
    "bitcoin_indicators.set_index('date', inplace=True)\n",
    "dogecoin_indicators.set_index('date', inplace=True)"
   ]
  },
  {
   "cell_type": "code",
   "execution_count": 8,
   "id": "bb5ff827",
   "metadata": {},
   "outputs": [
    {
     "data": {
      "text/html": [
       "<div>\n",
       "<style scoped>\n",
       "    .dataframe tbody tr th:only-of-type {\n",
       "        vertical-align: middle;\n",
       "    }\n",
       "\n",
       "    .dataframe tbody tr th {\n",
       "        vertical-align: top;\n",
       "    }\n",
       "\n",
       "    .dataframe thead th {\n",
       "        text-align: right;\n",
       "    }\n",
       "</style>\n",
       "<table border=\"1\" class=\"dataframe\">\n",
       "  <thead>\n",
       "    <tr style=\"text-align: right;\">\n",
       "      <th></th>\n",
       "      <th>Close_Tsla</th>\n",
       "      <th>Volume_Tsla</th>\n",
       "      <th>simple_return_Tsla</th>\n",
       "      <th>log_return_Tsla</th>\n",
       "      <th>Close_Tsla_Rescaled</th>\n",
       "      <th>vader_clean_compound</th>\n",
       "      <th>vader_clean_polarity</th>\n",
       "      <th>vader_negative</th>\n",
       "      <th>vader_positive</th>\n",
       "      <th>vader_neutral</th>\n",
       "    </tr>\n",
       "    <tr>\n",
       "      <th>date</th>\n",
       "      <th></th>\n",
       "      <th></th>\n",
       "      <th></th>\n",
       "      <th></th>\n",
       "      <th></th>\n",
       "      <th></th>\n",
       "      <th></th>\n",
       "      <th></th>\n",
       "      <th></th>\n",
       "      <th></th>\n",
       "    </tr>\n",
       "  </thead>\n",
       "  <tbody>\n",
       "    <tr>\n",
       "      <th>2010-06-30</th>\n",
       "      <td>1.588667</td>\n",
       "      <td>257806500</td>\n",
       "      <td>-0.002511</td>\n",
       "      <td>-0.002515</td>\n",
       "      <td>0.001309</td>\n",
       "      <td>NaN</td>\n",
       "      <td>NaN</td>\n",
       "      <td>NaN</td>\n",
       "      <td>NaN</td>\n",
       "      <td>NaN</td>\n",
       "    </tr>\n",
       "    <tr>\n",
       "      <th>2010-07-01</th>\n",
       "      <td>1.464000</td>\n",
       "      <td>123282000</td>\n",
       "      <td>-0.078473</td>\n",
       "      <td>-0.081723</td>\n",
       "      <td>0.001004</td>\n",
       "      <td>NaN</td>\n",
       "      <td>NaN</td>\n",
       "      <td>NaN</td>\n",
       "      <td>NaN</td>\n",
       "      <td>NaN</td>\n",
       "    </tr>\n",
       "    <tr>\n",
       "      <th>2010-07-02</th>\n",
       "      <td>1.280000</td>\n",
       "      <td>77097000</td>\n",
       "      <td>-0.125683</td>\n",
       "      <td>-0.134312</td>\n",
       "      <td>0.000554</td>\n",
       "      <td>NaN</td>\n",
       "      <td>NaN</td>\n",
       "      <td>NaN</td>\n",
       "      <td>NaN</td>\n",
       "      <td>NaN</td>\n",
       "    </tr>\n",
       "    <tr>\n",
       "      <th>2010-07-06</th>\n",
       "      <td>1.074000</td>\n",
       "      <td>103003500</td>\n",
       "      <td>-0.160937</td>\n",
       "      <td>-0.175470</td>\n",
       "      <td>0.000051</td>\n",
       "      <td>NaN</td>\n",
       "      <td>NaN</td>\n",
       "      <td>NaN</td>\n",
       "      <td>NaN</td>\n",
       "      <td>NaN</td>\n",
       "    </tr>\n",
       "    <tr>\n",
       "      <th>2010-07-07</th>\n",
       "      <td>1.053333</td>\n",
       "      <td>103825500</td>\n",
       "      <td>-0.019243</td>\n",
       "      <td>-0.019431</td>\n",
       "      <td>0.000000</td>\n",
       "      <td>NaN</td>\n",
       "      <td>NaN</td>\n",
       "      <td>NaN</td>\n",
       "      <td>NaN</td>\n",
       "      <td>NaN</td>\n",
       "    </tr>\n",
       "    <tr>\n",
       "      <th>...</th>\n",
       "      <td>...</td>\n",
       "      <td>...</td>\n",
       "      <td>...</td>\n",
       "      <td>...</td>\n",
       "      <td>...</td>\n",
       "      <td>...</td>\n",
       "      <td>...</td>\n",
       "      <td>...</td>\n",
       "      <td>...</td>\n",
       "      <td>...</td>\n",
       "    </tr>\n",
       "    <tr>\n",
       "      <th>2023-05-08</th>\n",
       "      <td>171.789993</td>\n",
       "      <td>112249400</td>\n",
       "      <td>0.010173</td>\n",
       "      <td>0.010121</td>\n",
       "      <td>0.417534</td>\n",
       "      <td>-0.4215</td>\n",
       "      <td>-1.0</td>\n",
       "      <td>0.322</td>\n",
       "      <td>0.000</td>\n",
       "      <td>0.678</td>\n",
       "    </tr>\n",
       "    <tr>\n",
       "      <th>2023-05-09</th>\n",
       "      <td>169.149994</td>\n",
       "      <td>88965000</td>\n",
       "      <td>-0.015368</td>\n",
       "      <td>-0.015487</td>\n",
       "      <td>0.411078</td>\n",
       "      <td>NaN</td>\n",
       "      <td>NaN</td>\n",
       "      <td>NaN</td>\n",
       "      <td>NaN</td>\n",
       "      <td>NaN</td>\n",
       "    </tr>\n",
       "    <tr>\n",
       "      <th>2023-05-10</th>\n",
       "      <td>168.539993</td>\n",
       "      <td>119840700</td>\n",
       "      <td>-0.003606</td>\n",
       "      <td>-0.003613</td>\n",
       "      <td>0.409586</td>\n",
       "      <td>0.5994</td>\n",
       "      <td>1.0</td>\n",
       "      <td>0.000</td>\n",
       "      <td>0.565</td>\n",
       "      <td>0.435</td>\n",
       "    </tr>\n",
       "    <tr>\n",
       "      <th>2023-05-11</th>\n",
       "      <td>172.080002</td>\n",
       "      <td>103889900</td>\n",
       "      <td>0.021004</td>\n",
       "      <td>0.020786</td>\n",
       "      <td>0.418243</td>\n",
       "      <td>NaN</td>\n",
       "      <td>NaN</td>\n",
       "      <td>NaN</td>\n",
       "      <td>NaN</td>\n",
       "      <td>NaN</td>\n",
       "    </tr>\n",
       "    <tr>\n",
       "      <th>2023-05-12</th>\n",
       "      <td>167.979996</td>\n",
       "      <td>157577100</td>\n",
       "      <td>-0.023826</td>\n",
       "      <td>-0.024115</td>\n",
       "      <td>0.408217</td>\n",
       "      <td>0.3400</td>\n",
       "      <td>1.0</td>\n",
       "      <td>0.000</td>\n",
       "      <td>0.255</td>\n",
       "      <td>0.745</td>\n",
       "    </tr>\n",
       "  </tbody>\n",
       "</table>\n",
       "<p>3240 rows × 10 columns</p>\n",
       "</div>"
      ],
      "text/plain": [
       "            Close_Tsla  Volume_Tsla  simple_return_Tsla  log_return_Tsla  \\\n",
       "date                                                                       \n",
       "2010-06-30    1.588667    257806500           -0.002511        -0.002515   \n",
       "2010-07-01    1.464000    123282000           -0.078473        -0.081723   \n",
       "2010-07-02    1.280000     77097000           -0.125683        -0.134312   \n",
       "2010-07-06    1.074000    103003500           -0.160937        -0.175470   \n",
       "2010-07-07    1.053333    103825500           -0.019243        -0.019431   \n",
       "...                ...          ...                 ...              ...   \n",
       "2023-05-08  171.789993    112249400            0.010173         0.010121   \n",
       "2023-05-09  169.149994     88965000           -0.015368        -0.015487   \n",
       "2023-05-10  168.539993    119840700           -0.003606        -0.003613   \n",
       "2023-05-11  172.080002    103889900            0.021004         0.020786   \n",
       "2023-05-12  167.979996    157577100           -0.023826        -0.024115   \n",
       "\n",
       "            Close_Tsla_Rescaled  vader_clean_compound  vader_clean_polarity  \\\n",
       "date                                                                          \n",
       "2010-06-30             0.001309                   NaN                   NaN   \n",
       "2010-07-01             0.001004                   NaN                   NaN   \n",
       "2010-07-02             0.000554                   NaN                   NaN   \n",
       "2010-07-06             0.000051                   NaN                   NaN   \n",
       "2010-07-07             0.000000                   NaN                   NaN   \n",
       "...                         ...                   ...                   ...   \n",
       "2023-05-08             0.417534               -0.4215                  -1.0   \n",
       "2023-05-09             0.411078                   NaN                   NaN   \n",
       "2023-05-10             0.409586                0.5994                   1.0   \n",
       "2023-05-11             0.418243                   NaN                   NaN   \n",
       "2023-05-12             0.408217                0.3400                   1.0   \n",
       "\n",
       "            vader_negative  vader_positive  vader_neutral  \n",
       "date                                                       \n",
       "2010-06-30             NaN             NaN            NaN  \n",
       "2010-07-01             NaN             NaN            NaN  \n",
       "2010-07-02             NaN             NaN            NaN  \n",
       "2010-07-06             NaN             NaN            NaN  \n",
       "2010-07-07             NaN             NaN            NaN  \n",
       "...                    ...             ...            ...  \n",
       "2023-05-08           0.322           0.000          0.678  \n",
       "2023-05-09             NaN             NaN            NaN  \n",
       "2023-05-10           0.000           0.565          0.435  \n",
       "2023-05-11             NaN             NaN            NaN  \n",
       "2023-05-12           0.000           0.255          0.745  \n",
       "\n",
       "[3240 rows x 10 columns]"
      ]
     },
     "execution_count": 8,
     "metadata": {},
     "output_type": "execute_result"
    }
   ],
   "source": [
    "tesla = pd.merge(tesla_stocks, tesla_indicators, left_index=True, right_index=True, how='left')\n",
    "tesla"
   ]
  },
  {
   "cell_type": "code",
   "execution_count": 9,
   "id": "099d69ea",
   "metadata": {},
   "outputs": [
    {
     "data": {
      "text/html": [
       "<div>\n",
       "<style scoped>\n",
       "    .dataframe tbody tr th:only-of-type {\n",
       "        vertical-align: middle;\n",
       "    }\n",
       "\n",
       "    .dataframe tbody tr th {\n",
       "        vertical-align: top;\n",
       "    }\n",
       "\n",
       "    .dataframe thead th {\n",
       "        text-align: right;\n",
       "    }\n",
       "</style>\n",
       "<table border=\"1\" class=\"dataframe\">\n",
       "  <thead>\n",
       "    <tr style=\"text-align: right;\">\n",
       "      <th></th>\n",
       "      <th>Close_Btc</th>\n",
       "      <th>Volume_Btc</th>\n",
       "      <th>simple_return_Btc</th>\n",
       "      <th>log_return_Btc</th>\n",
       "      <th>Close_Btc_Rescaled</th>\n",
       "      <th>vader_clean_compound</th>\n",
       "      <th>vader_clean_polarity</th>\n",
       "      <th>vader_negative</th>\n",
       "      <th>vader_positive</th>\n",
       "      <th>vader_neutral</th>\n",
       "    </tr>\n",
       "    <tr>\n",
       "      <th>date</th>\n",
       "      <th></th>\n",
       "      <th></th>\n",
       "      <th></th>\n",
       "      <th></th>\n",
       "      <th></th>\n",
       "      <th></th>\n",
       "      <th></th>\n",
       "      <th></th>\n",
       "      <th></th>\n",
       "      <th></th>\n",
       "    </tr>\n",
       "  </thead>\n",
       "  <tbody>\n",
       "    <tr>\n",
       "      <th>2014-09-18</th>\n",
       "      <td>424.440002</td>\n",
       "      <td>3.448320e+07</td>\n",
       "      <td>-0.071926</td>\n",
       "      <td>-0.074643</td>\n",
       "      <td>0.003655</td>\n",
       "      <td>NaN</td>\n",
       "      <td>NaN</td>\n",
       "      <td>NaN</td>\n",
       "      <td>NaN</td>\n",
       "      <td>NaN</td>\n",
       "    </tr>\n",
       "    <tr>\n",
       "      <th>2014-09-19</th>\n",
       "      <td>394.795990</td>\n",
       "      <td>3.791970e+07</td>\n",
       "      <td>-0.069843</td>\n",
       "      <td>-0.072402</td>\n",
       "      <td>0.003216</td>\n",
       "      <td>NaN</td>\n",
       "      <td>NaN</td>\n",
       "      <td>NaN</td>\n",
       "      <td>NaN</td>\n",
       "      <td>NaN</td>\n",
       "    </tr>\n",
       "    <tr>\n",
       "      <th>2014-09-22</th>\n",
       "      <td>402.152008</td>\n",
       "      <td>2.412760e+07</td>\n",
       "      <td>0.008352</td>\n",
       "      <td>0.008317</td>\n",
       "      <td>0.003325</td>\n",
       "      <td>NaN</td>\n",
       "      <td>NaN</td>\n",
       "      <td>NaN</td>\n",
       "      <td>NaN</td>\n",
       "      <td>NaN</td>\n",
       "    </tr>\n",
       "    <tr>\n",
       "      <th>2014-09-23</th>\n",
       "      <td>435.790985</td>\n",
       "      <td>4.509950e+07</td>\n",
       "      <td>0.083647</td>\n",
       "      <td>0.080333</td>\n",
       "      <td>0.003824</td>\n",
       "      <td>NaN</td>\n",
       "      <td>NaN</td>\n",
       "      <td>NaN</td>\n",
       "      <td>NaN</td>\n",
       "      <td>NaN</td>\n",
       "    </tr>\n",
       "    <tr>\n",
       "      <th>2014-09-24</th>\n",
       "      <td>423.204987</td>\n",
       "      <td>3.062770e+07</td>\n",
       "      <td>-0.028881</td>\n",
       "      <td>-0.029306</td>\n",
       "      <td>0.003637</td>\n",
       "      <td>NaN</td>\n",
       "      <td>NaN</td>\n",
       "      <td>NaN</td>\n",
       "      <td>NaN</td>\n",
       "      <td>NaN</td>\n",
       "    </tr>\n",
       "    <tr>\n",
       "      <th>...</th>\n",
       "      <td>...</td>\n",
       "      <td>...</td>\n",
       "      <td>...</td>\n",
       "      <td>...</td>\n",
       "      <td>...</td>\n",
       "      <td>...</td>\n",
       "      <td>...</td>\n",
       "      <td>...</td>\n",
       "      <td>...</td>\n",
       "      <td>...</td>\n",
       "    </tr>\n",
       "    <tr>\n",
       "      <th>2023-05-08</th>\n",
       "      <td>27694.273438</td>\n",
       "      <td>1.912290e+10</td>\n",
       "      <td>-0.026734</td>\n",
       "      <td>-0.027097</td>\n",
       "      <td>0.408320</td>\n",
       "      <td>NaN</td>\n",
       "      <td>NaN</td>\n",
       "      <td>NaN</td>\n",
       "      <td>NaN</td>\n",
       "      <td>NaN</td>\n",
       "    </tr>\n",
       "    <tr>\n",
       "      <th>2023-05-09</th>\n",
       "      <td>27658.775391</td>\n",
       "      <td>1.412859e+10</td>\n",
       "      <td>-0.001282</td>\n",
       "      <td>-0.001283</td>\n",
       "      <td>0.407793</td>\n",
       "      <td>NaN</td>\n",
       "      <td>NaN</td>\n",
       "      <td>NaN</td>\n",
       "      <td>NaN</td>\n",
       "      <td>NaN</td>\n",
       "    </tr>\n",
       "    <tr>\n",
       "      <th>2023-05-10</th>\n",
       "      <td>27621.755859</td>\n",
       "      <td>2.065603e+10</td>\n",
       "      <td>-0.001338</td>\n",
       "      <td>-0.001339</td>\n",
       "      <td>0.407244</td>\n",
       "      <td>NaN</td>\n",
       "      <td>NaN</td>\n",
       "      <td>NaN</td>\n",
       "      <td>NaN</td>\n",
       "      <td>NaN</td>\n",
       "    </tr>\n",
       "    <tr>\n",
       "      <th>2023-05-11</th>\n",
       "      <td>27000.789062</td>\n",
       "      <td>1.672434e+10</td>\n",
       "      <td>-0.022481</td>\n",
       "      <td>-0.022738</td>\n",
       "      <td>0.398029</td>\n",
       "      <td>NaN</td>\n",
       "      <td>NaN</td>\n",
       "      <td>NaN</td>\n",
       "      <td>NaN</td>\n",
       "      <td>NaN</td>\n",
       "    </tr>\n",
       "    <tr>\n",
       "      <th>2023-05-12</th>\n",
       "      <td>26804.990234</td>\n",
       "      <td>1.931360e+10</td>\n",
       "      <td>-0.007252</td>\n",
       "      <td>-0.007278</td>\n",
       "      <td>0.395124</td>\n",
       "      <td>NaN</td>\n",
       "      <td>NaN</td>\n",
       "      <td>NaN</td>\n",
       "      <td>NaN</td>\n",
       "      <td>NaN</td>\n",
       "    </tr>\n",
       "  </tbody>\n",
       "</table>\n",
       "<p>2178 rows × 10 columns</p>\n",
       "</div>"
      ],
      "text/plain": [
       "               Close_Btc    Volume_Btc  simple_return_Btc  log_return_Btc  \\\n",
       "date                                                                        \n",
       "2014-09-18    424.440002  3.448320e+07          -0.071926       -0.074643   \n",
       "2014-09-19    394.795990  3.791970e+07          -0.069843       -0.072402   \n",
       "2014-09-22    402.152008  2.412760e+07           0.008352        0.008317   \n",
       "2014-09-23    435.790985  4.509950e+07           0.083647        0.080333   \n",
       "2014-09-24    423.204987  3.062770e+07          -0.028881       -0.029306   \n",
       "...                  ...           ...                ...             ...   \n",
       "2023-05-08  27694.273438  1.912290e+10          -0.026734       -0.027097   \n",
       "2023-05-09  27658.775391  1.412859e+10          -0.001282       -0.001283   \n",
       "2023-05-10  27621.755859  2.065603e+10          -0.001338       -0.001339   \n",
       "2023-05-11  27000.789062  1.672434e+10          -0.022481       -0.022738   \n",
       "2023-05-12  26804.990234  1.931360e+10          -0.007252       -0.007278   \n",
       "\n",
       "            Close_Btc_Rescaled  vader_clean_compound  vader_clean_polarity  \\\n",
       "date                                                                         \n",
       "2014-09-18            0.003655                   NaN                   NaN   \n",
       "2014-09-19            0.003216                   NaN                   NaN   \n",
       "2014-09-22            0.003325                   NaN                   NaN   \n",
       "2014-09-23            0.003824                   NaN                   NaN   \n",
       "2014-09-24            0.003637                   NaN                   NaN   \n",
       "...                        ...                   ...                   ...   \n",
       "2023-05-08            0.408320                   NaN                   NaN   \n",
       "2023-05-09            0.407793                   NaN                   NaN   \n",
       "2023-05-10            0.407244                   NaN                   NaN   \n",
       "2023-05-11            0.398029                   NaN                   NaN   \n",
       "2023-05-12            0.395124                   NaN                   NaN   \n",
       "\n",
       "            vader_negative  vader_positive  vader_neutral  \n",
       "date                                                       \n",
       "2014-09-18             NaN             NaN            NaN  \n",
       "2014-09-19             NaN             NaN            NaN  \n",
       "2014-09-22             NaN             NaN            NaN  \n",
       "2014-09-23             NaN             NaN            NaN  \n",
       "2014-09-24             NaN             NaN            NaN  \n",
       "...                    ...             ...            ...  \n",
       "2023-05-08             NaN             NaN            NaN  \n",
       "2023-05-09             NaN             NaN            NaN  \n",
       "2023-05-10             NaN             NaN            NaN  \n",
       "2023-05-11             NaN             NaN            NaN  \n",
       "2023-05-12             NaN             NaN            NaN  \n",
       "\n",
       "[2178 rows x 10 columns]"
      ]
     },
     "execution_count": 9,
     "metadata": {},
     "output_type": "execute_result"
    }
   ],
   "source": [
    "bitcoin = pd.merge(bitcoin_stocks, bitcoin_indicators, left_index=True, right_index=True, how='left')\n",
    "bitcoin"
   ]
  },
  {
   "cell_type": "code",
   "execution_count": 10,
   "id": "76c22070",
   "metadata": {},
   "outputs": [
    {
     "data": {
      "text/html": [
       "<div>\n",
       "<style scoped>\n",
       "    .dataframe tbody tr th:only-of-type {\n",
       "        vertical-align: middle;\n",
       "    }\n",
       "\n",
       "    .dataframe tbody tr th {\n",
       "        vertical-align: top;\n",
       "    }\n",
       "\n",
       "    .dataframe thead th {\n",
       "        text-align: right;\n",
       "    }\n",
       "</style>\n",
       "<table border=\"1\" class=\"dataframe\">\n",
       "  <thead>\n",
       "    <tr style=\"text-align: right;\">\n",
       "      <th></th>\n",
       "      <th>Close_Doge</th>\n",
       "      <th>Volume_Doge</th>\n",
       "      <th>simple_return_Doge</th>\n",
       "      <th>log_return_Doge</th>\n",
       "      <th>Close_Doge_Rescaled</th>\n",
       "      <th>vader_clean_compound</th>\n",
       "      <th>vader_clean_polarity</th>\n",
       "      <th>vader_negative</th>\n",
       "      <th>vader_positive</th>\n",
       "      <th>vader_neutral</th>\n",
       "    </tr>\n",
       "    <tr>\n",
       "      <th>date</th>\n",
       "      <th></th>\n",
       "      <th></th>\n",
       "      <th></th>\n",
       "      <th></th>\n",
       "      <th></th>\n",
       "      <th></th>\n",
       "      <th></th>\n",
       "      <th></th>\n",
       "      <th></th>\n",
       "      <th></th>\n",
       "    </tr>\n",
       "  </thead>\n",
       "  <tbody>\n",
       "    <tr>\n",
       "      <th>2017-11-10</th>\n",
       "      <td>0.001163</td>\n",
       "      <td>4246520.0</td>\n",
       "      <td>-0.178092</td>\n",
       "      <td>-0.196127</td>\n",
       "      <td>0.000183</td>\n",
       "      <td>NaN</td>\n",
       "      <td>NaN</td>\n",
       "      <td>NaN</td>\n",
       "      <td>NaN</td>\n",
       "      <td>NaN</td>\n",
       "    </tr>\n",
       "    <tr>\n",
       "      <th>2017-11-13</th>\n",
       "      <td>0.001211</td>\n",
       "      <td>2481270.0</td>\n",
       "      <td>0.166667</td>\n",
       "      <td>0.154151</td>\n",
       "      <td>0.000253</td>\n",
       "      <td>NaN</td>\n",
       "      <td>NaN</td>\n",
       "      <td>NaN</td>\n",
       "      <td>NaN</td>\n",
       "      <td>NaN</td>\n",
       "    </tr>\n",
       "    <tr>\n",
       "      <th>2017-11-14</th>\n",
       "      <td>0.001184</td>\n",
       "      <td>2660340.0</td>\n",
       "      <td>-0.022296</td>\n",
       "      <td>-0.022548</td>\n",
       "      <td>0.000214</td>\n",
       "      <td>NaN</td>\n",
       "      <td>NaN</td>\n",
       "      <td>NaN</td>\n",
       "      <td>NaN</td>\n",
       "      <td>NaN</td>\n",
       "    </tr>\n",
       "    <tr>\n",
       "      <th>2017-11-15</th>\n",
       "      <td>0.001339</td>\n",
       "      <td>2840180.0</td>\n",
       "      <td>0.130912</td>\n",
       "      <td>0.123024</td>\n",
       "      <td>0.000440</td>\n",
       "      <td>NaN</td>\n",
       "      <td>NaN</td>\n",
       "      <td>NaN</td>\n",
       "      <td>NaN</td>\n",
       "      <td>NaN</td>\n",
       "    </tr>\n",
       "    <tr>\n",
       "      <th>2017-11-16</th>\n",
       "      <td>0.001390</td>\n",
       "      <td>3423010.0</td>\n",
       "      <td>0.038088</td>\n",
       "      <td>0.037381</td>\n",
       "      <td>0.000515</td>\n",
       "      <td>NaN</td>\n",
       "      <td>NaN</td>\n",
       "      <td>NaN</td>\n",
       "      <td>NaN</td>\n",
       "      <td>NaN</td>\n",
       "    </tr>\n",
       "    <tr>\n",
       "      <th>...</th>\n",
       "      <td>...</td>\n",
       "      <td>...</td>\n",
       "      <td>...</td>\n",
       "      <td>...</td>\n",
       "      <td>...</td>\n",
       "      <td>...</td>\n",
       "      <td>...</td>\n",
       "      <td>...</td>\n",
       "      <td>...</td>\n",
       "      <td>...</td>\n",
       "    </tr>\n",
       "    <tr>\n",
       "      <th>2023-05-08</th>\n",
       "      <td>0.072473</td>\n",
       "      <td>459549555.0</td>\n",
       "      <td>-0.055234</td>\n",
       "      <td>-0.056818</td>\n",
       "      <td>0.104477</td>\n",
       "      <td>NaN</td>\n",
       "      <td>NaN</td>\n",
       "      <td>NaN</td>\n",
       "      <td>NaN</td>\n",
       "      <td>NaN</td>\n",
       "    </tr>\n",
       "    <tr>\n",
       "      <th>2023-05-09</th>\n",
       "      <td>0.073139</td>\n",
       "      <td>249148363.0</td>\n",
       "      <td>0.009190</td>\n",
       "      <td>0.009148</td>\n",
       "      <td>0.105451</td>\n",
       "      <td>NaN</td>\n",
       "      <td>NaN</td>\n",
       "      <td>NaN</td>\n",
       "      <td>NaN</td>\n",
       "      <td>NaN</td>\n",
       "    </tr>\n",
       "    <tr>\n",
       "      <th>2023-05-10</th>\n",
       "      <td>0.073226</td>\n",
       "      <td>344464160.0</td>\n",
       "      <td>0.001190</td>\n",
       "      <td>0.001189</td>\n",
       "      <td>0.105578</td>\n",
       "      <td>NaN</td>\n",
       "      <td>NaN</td>\n",
       "      <td>NaN</td>\n",
       "      <td>NaN</td>\n",
       "      <td>NaN</td>\n",
       "    </tr>\n",
       "    <tr>\n",
       "      <th>2023-05-11</th>\n",
       "      <td>0.072085</td>\n",
       "      <td>325440313.0</td>\n",
       "      <td>-0.015582</td>\n",
       "      <td>-0.015705</td>\n",
       "      <td>0.103910</td>\n",
       "      <td>NaN</td>\n",
       "      <td>NaN</td>\n",
       "      <td>NaN</td>\n",
       "      <td>NaN</td>\n",
       "      <td>NaN</td>\n",
       "    </tr>\n",
       "    <tr>\n",
       "      <th>2023-05-12</th>\n",
       "      <td>0.072459</td>\n",
       "      <td>365130285.0</td>\n",
       "      <td>0.005188</td>\n",
       "      <td>0.005175</td>\n",
       "      <td>0.104457</td>\n",
       "      <td>NaN</td>\n",
       "      <td>NaN</td>\n",
       "      <td>NaN</td>\n",
       "      <td>NaN</td>\n",
       "      <td>NaN</td>\n",
       "    </tr>\n",
       "  </tbody>\n",
       "</table>\n",
       "<p>1384 rows × 10 columns</p>\n",
       "</div>"
      ],
      "text/plain": [
       "            Close_Doge  Volume_Doge  simple_return_Doge  log_return_Doge  \\\n",
       "date                                                                       \n",
       "2017-11-10    0.001163    4246520.0           -0.178092        -0.196127   \n",
       "2017-11-13    0.001211    2481270.0            0.166667         0.154151   \n",
       "2017-11-14    0.001184    2660340.0           -0.022296        -0.022548   \n",
       "2017-11-15    0.001339    2840180.0            0.130912         0.123024   \n",
       "2017-11-16    0.001390    3423010.0            0.038088         0.037381   \n",
       "...                ...          ...                 ...              ...   \n",
       "2023-05-08    0.072473  459549555.0           -0.055234        -0.056818   \n",
       "2023-05-09    0.073139  249148363.0            0.009190         0.009148   \n",
       "2023-05-10    0.073226  344464160.0            0.001190         0.001189   \n",
       "2023-05-11    0.072085  325440313.0           -0.015582        -0.015705   \n",
       "2023-05-12    0.072459  365130285.0            0.005188         0.005175   \n",
       "\n",
       "            Close_Doge_Rescaled  vader_clean_compound  vader_clean_polarity  \\\n",
       "date                                                                          \n",
       "2017-11-10             0.000183                   NaN                   NaN   \n",
       "2017-11-13             0.000253                   NaN                   NaN   \n",
       "2017-11-14             0.000214                   NaN                   NaN   \n",
       "2017-11-15             0.000440                   NaN                   NaN   \n",
       "2017-11-16             0.000515                   NaN                   NaN   \n",
       "...                         ...                   ...                   ...   \n",
       "2023-05-08             0.104477                   NaN                   NaN   \n",
       "2023-05-09             0.105451                   NaN                   NaN   \n",
       "2023-05-10             0.105578                   NaN                   NaN   \n",
       "2023-05-11             0.103910                   NaN                   NaN   \n",
       "2023-05-12             0.104457                   NaN                   NaN   \n",
       "\n",
       "            vader_negative  vader_positive  vader_neutral  \n",
       "date                                                       \n",
       "2017-11-10             NaN             NaN            NaN  \n",
       "2017-11-13             NaN             NaN            NaN  \n",
       "2017-11-14             NaN             NaN            NaN  \n",
       "2017-11-15             NaN             NaN            NaN  \n",
       "2017-11-16             NaN             NaN            NaN  \n",
       "...                    ...             ...            ...  \n",
       "2023-05-08             NaN             NaN            NaN  \n",
       "2023-05-09             NaN             NaN            NaN  \n",
       "2023-05-10             NaN             NaN            NaN  \n",
       "2023-05-11             NaN             NaN            NaN  \n",
       "2023-05-12             NaN             NaN            NaN  \n",
       "\n",
       "[1384 rows x 10 columns]"
      ]
     },
     "execution_count": 10,
     "metadata": {},
     "output_type": "execute_result"
    }
   ],
   "source": [
    "dogecoin = pd.merge(dogecoin_stocks, dogecoin_indicators, left_index=True, right_index=True, how='left')\n",
    "dogecoin"
   ]
  },
  {
   "cell_type": "markdown",
   "id": "34b5ef22",
   "metadata": {},
   "source": [
    "#### TO-DO List\n",
    "- Create new features: lag variables for both simple and log returns\n"
   ]
  },
  {
   "cell_type": "code",
   "execution_count": 11,
   "id": "b14982fa",
   "metadata": {},
   "outputs": [],
   "source": [
    "dogecoin = dogecoin.rename(columns={'vader_clean_compound':'compound', 'vader_clean_polarity':'polarity'})\n",
    "bitcoin = bitcoin.rename(columns={'vader_clean_compound':'compound', 'vader_clean_polarity':'polarity'})\n",
    "tesla = tesla.rename(columns={'vader_clean_compound':'compound', 'vader_clean_polarity':'polarity'})"
   ]
  },
  {
   "cell_type": "markdown",
   "id": "fd7c0d30",
   "metadata": {},
   "source": [
    "#### Create lag 1 features for stocks"
   ]
  },
  {
   "cell_type": "code",
   "execution_count": 12,
   "id": "8b4283d5",
   "metadata": {},
   "outputs": [],
   "source": [
    "# Simple Return, Log Return, Close Price Rescaled\n",
    "\n",
    "# Tesla\n",
    "tesla['simple_return_Tsla_lag'] = tesla['simple_return_Tsla'].shift(1)\n",
    "tesla['log_return_Tsla_lag'] = tesla['log_return_Tsla'].shift(1)\n",
    "tesla['Close_Tsla_Rescaled_lag'] = tesla['Close_Tsla_Rescaled'].shift(1)\n",
    "\n",
    "# Sentiment Analysis Indicators - compound sentiment and polarity\n",
    "tesla['compound_lag'] = tesla['compound'].shift(1)\n",
    "tesla['polarity_lag1'] = tesla['polarity'].shift(1)\n",
    "\n",
    "# Bitcoin\n",
    "bitcoin['simple_return_Btc_lag'] = bitcoin['simple_return_Btc'].shift(1)\n",
    "bitcoin['log_return_Btc_lag'] = bitcoin['log_return_Btc'].shift(1)\n",
    "bitcoin['Close_Btc_Rescaled_lag'] = bitcoin['Close_Btc_Rescaled'].shift(1)\n",
    "\n",
    "# Sentiment Analysis Indicators - compound sentiment and polarity\n",
    "bitcoin['compound_lag'] = bitcoin['compound'].shift(1)\n",
    "bitcoin['polarity_lag1'] = bitcoin['polarity'].shift(1)\n",
    "\n",
    "# Dogecoin\n",
    "dogecoin['simple_return_Doge_lag'] = dogecoin['simple_return_Doge'].shift(1)\n",
    "dogecoin['log_return_Doge_lag'] = dogecoin['log_return_Doge'].shift(1)\n",
    "dogecoin['Close_Doge_Rescaled_lag'] = dogecoin['Close_Doge_Rescaled'].shift(1)\n",
    "\n",
    "# Sentiment Analysis Indicators - compound sentiment and polarity\n",
    "dogecoin['compound_lag'] = dogecoin['compound'].shift(1)\n",
    "dogecoin['polarity_lag1'] = dogecoin['polarity'].shift(1)"
   ]
  },
  {
   "cell_type": "markdown",
   "id": "40242501",
   "metadata": {},
   "source": [
    "### *LAG = 0*"
   ]
  },
  {
   "cell_type": "markdown",
   "id": "38cbe241",
   "metadata": {},
   "source": [
    "### Question: Is there any correlation between sentiments and Tesla Stocks? For both close price and returns"
   ]
  },
  {
   "cell_type": "markdown",
   "id": "164439b2",
   "metadata": {},
   "source": [
    "#### Scatter plot between Sentiment and Simple Returns, Polarity vs Simple Returns"
   ]
  },
  {
   "cell_type": "code",
   "execution_count": 13,
   "id": "21a6f206",
   "metadata": {},
   "outputs": [
    {
     "data": {
      "image/png": "[encoded data removed]",
      "text/plain": [
       "<Figure size 1008x576 with 2 Axes>"
      ]
     },
     "metadata": {
      "needs_background": "light"
     },
     "output_type": "display_data"
    }
   ],
   "source": [
    "fig, ax = plt.subplots(1,2, figsize = (14, 8))\n",
    "\n",
    "ax0 = plt.subplot(2, 2, 1)\n",
    "ax0.plot(tesla['compound'],tesla['simple_return_Tsla'], 'o',c='r')\n",
    "plt.ylabel( 'simple_return_Tsla' )\n",
    "plt.xlabel( 'Sentiment' )\n",
    "plt.title('Sentiment vs. Simple Return for Tesla')\n",
    "\n",
    "ax1 = plt.subplot(2, 2, 2)\n",
    "ax1.plot(tesla['polarity'],tesla['simple_return_Tsla'], 'o',c='r')\n",
    "plt.ylabel( 'simple_return_Tsla' )\n",
    "plt.xlabel( 'Polarity' )\n",
    "plt.title('Polarity vs. Simple Return for Tesla')\n",
    "\n",
    "plt.show()"
   ]
  },
  {
   "cell_type": "markdown",
   "id": "7b071d3d",
   "metadata": {},
   "source": [
    "#### Linear Regression Analysis between Simple Returns and Compound Sentiment Indicator"
   ]
  },
  {
   "cell_type": "code",
   "execution_count": 14,
   "id": "2b2bfc32",
   "metadata": {},
   "outputs": [
    {
     "name": "stdout",
     "output_type": "stream",
     "text": [
      "                            OLS Regression Results                            \n",
      "==============================================================================\n",
      "Dep. Variable:     simple_return_Tsla   R-squared:                       0.001\n",
      "Model:                            OLS   Adj. R-squared:                 -0.000\n",
      "Method:                 Least Squares   F-statistic:                    0.7773\n",
      "Date:                Wed, 07 Jun 2023   Prob (F-statistic):              0.378\n",
      "Time:                        15:04:15   Log-Likelihood:                 1044.8\n",
      "No. Observations:                 606   AIC:                            -2086.\n",
      "Df Residuals:                     604   BIC:                            -2077.\n",
      "Df Model:                           1                                         \n",
      "Covariance Type:            nonrobust                                         \n",
      "==============================================================================\n",
      "                 coef    std err          t      P>|t|      [0.025      0.975]\n",
      "------------------------------------------------------------------------------\n",
      "Intercept      0.0049      0.002      2.324      0.020       0.001       0.009\n",
      "compound       0.0043      0.005      0.882      0.378      -0.005       0.014\n",
      "==============================================================================\n",
      "Omnibus:                      131.144   Durbin-Watson:                   2.121\n",
      "Prob(Omnibus):                  0.000   Jarque-Bera (JB):              806.469\n",
      "Skew:                           0.799   Prob(JB):                    7.54e-176\n",
      "Kurtosis:                       8.421   Cond. No.                         2.95\n",
      "==============================================================================\n",
      "\n",
      "Notes:\n",
      "[1] Standard Errors assume that the covariance matrix of the errors is correctly specified.\n"
     ]
    }
   ],
   "source": [
    "lm = smf.ols(formula = \"simple_return_Tsla~ compound\", data=tesla).fit()\n",
    "print (lm.summary())"
   ]
  },
  {
   "cell_type": "markdown",
   "id": "82749106",
   "metadata": {},
   "source": [
    "#### Linear Regression Analysis between Simple Returns and Polarity Indicator"
   ]
  },
  {
   "cell_type": "code",
   "execution_count": 15,
   "id": "d64ed3bd",
   "metadata": {},
   "outputs": [
    {
     "name": "stdout",
     "output_type": "stream",
     "text": [
      "                            OLS Regression Results                            \n",
      "==============================================================================\n",
      "Dep. Variable:     simple_return_Tsla   R-squared:                       0.001\n",
      "Model:                            OLS   Adj. R-squared:                 -0.001\n",
      "Method:                 Least Squares   F-statistic:                    0.7054\n",
      "Date:                Wed, 07 Jun 2023   Prob (F-statistic):              0.401\n",
      "Time:                        15:04:15   Log-Likelihood:                 845.79\n",
      "No. Observations:                 486   AIC:                            -1688.\n",
      "Df Residuals:                     484   BIC:                            -1679.\n",
      "Df Model:                           1                                         \n",
      "Covariance Type:            nonrobust                                         \n",
      "==============================================================================\n",
      "                 coef    std err          t      P>|t|      [0.025      0.975]\n",
      "------------------------------------------------------------------------------\n",
      "Intercept      0.0061      0.003      2.410      0.016       0.001       0.011\n",
      "polarity       0.0025      0.003      0.840      0.401      -0.003       0.008\n",
      "==============================================================================\n",
      "Omnibus:                      144.569   Durbin-Watson:                   1.862\n",
      "Prob(Omnibus):                  0.000   Jarque-Bera (JB):              551.233\n",
      "Skew:                           1.308   Prob(JB):                    2.00e-120\n",
      "Kurtosis:                       7.515   Cond. No.                         2.19\n",
      "==============================================================================\n",
      "\n",
      "Notes:\n",
      "[1] Standard Errors assume that the covariance matrix of the errors is correctly specified.\n"
     ]
    }
   ],
   "source": [
    "lm = smf.ols(formula = \"simple_return_Tsla~ polarity\", data=tesla).fit()\n",
    "print (lm.summary())"
   ]
  },
  {
   "cell_type": "markdown",
   "id": "7a682971",
   "metadata": {},
   "source": [
    "#### Scatter plot between Sentiment and Log Returns, Polarity vs Log Returns"
   ]
  },
  {
   "cell_type": "code",
   "execution_count": 16,
   "id": "15dcdd29",
   "metadata": {},
   "outputs": [
    {
     "data": {
      "image/png": "[encoded data removed]",
      "text/plain": [
       "<Figure size 1008x576 with 2 Axes>"
      ]
     },
     "metadata": {
      "needs_background": "light"
     },
     "output_type": "display_data"
    }
   ],
   "source": [
    "fig, ax = plt.subplots(1,2, figsize = (14, 8))\n",
    "\n",
    "ax0 = plt.subplot(2, 2, 1)\n",
    "ax0.plot(tesla['compound'],tesla['log_return_Tsla'], 'o',c='r')\n",
    "plt.ylabel( 'log_return_Tsla' )\n",
    "plt.xlabel( 'Sentiment' )\n",
    "plt.title('Sentiment vs. Log Return for Tesla')\n",
    "\n",
    "ax1 = plt.subplot(2, 2, 2)\n",
    "ax1.plot(tesla['polarity'],tesla['log_return_Tsla'], 'o',c='r')\n",
    "plt.ylabel( 'log_return_Tsla' )\n",
    "plt.xlabel( 'Polarity' )\n",
    "plt.title('Polarity vs. Log Return for Tesla')\n",
    "\n",
    "plt.show()"
   ]
  },
  {
   "cell_type": "markdown",
   "id": "b621fe7d",
   "metadata": {},
   "source": [
    "#### Linear Regression Analysis between Log Returns and Compound Sentiment Indicator"
   ]
  },
  {
   "cell_type": "code",
   "execution_count": 17,
   "id": "1403d48d",
   "metadata": {},
   "outputs": [
    {
     "name": "stdout",
     "output_type": "stream",
     "text": [
      "                            OLS Regression Results                            \n",
      "==============================================================================\n",
      "Dep. Variable:        log_return_Tsla   R-squared:                       0.001\n",
      "Model:                            OLS   Adj. R-squared:                 -0.000\n",
      "Method:                 Least Squares   F-statistic:                    0.8318\n",
      "Date:                Wed, 07 Jun 2023   Prob (F-statistic):              0.362\n",
      "Time:                        15:04:15   Log-Likelihood:                 1054.8\n",
      "No. Observations:                 606   AIC:                            -2106.\n",
      "Df Residuals:                     604   BIC:                            -2097.\n",
      "Df Model:                           1                                         \n",
      "Covariance Type:            nonrobust                                         \n",
      "==============================================================================\n",
      "                 coef    std err          t      P>|t|      [0.025      0.975]\n",
      "------------------------------------------------------------------------------\n",
      "Intercept      0.0040      0.002      1.912      0.056      -0.000       0.008\n",
      "compound       0.0043      0.005      0.912      0.362      -0.005       0.014\n",
      "==============================================================================\n",
      "Omnibus:                       90.329   Durbin-Watson:                   2.134\n",
      "Prob(Omnibus):                  0.000   Jarque-Bera (JB):              733.282\n",
      "Skew:                           0.353   Prob(JB):                    5.89e-160\n",
      "Kurtosis:                       8.343   Cond. No.                         2.95\n",
      "==============================================================================\n",
      "\n",
      "Notes:\n",
      "[1] Standard Errors assume that the covariance matrix of the errors is correctly specified.\n"
     ]
    }
   ],
   "source": [
    "lm = smf.ols(formula = \"log_return_Tsla~ compound\", data=tesla).fit()\n",
    "print (lm.summary())"
   ]
  },
  {
   "cell_type": "markdown",
   "id": "8b80dca7",
   "metadata": {},
   "source": [
    "#### Linear Regression Analysis between Log Returns and Polarity Indicator"
   ]
  },
  {
   "cell_type": "code",
   "execution_count": 18,
   "id": "293cb884",
   "metadata": {},
   "outputs": [
    {
     "name": "stdout",
     "output_type": "stream",
     "text": [
      "                            OLS Regression Results                            \n",
      "==============================================================================\n",
      "Dep. Variable:        log_return_Tsla   R-squared:                       0.001\n",
      "Model:                            OLS   Adj. R-squared:                 -0.001\n",
      "Method:                 Least Squares   F-statistic:                    0.7078\n",
      "Date:                Wed, 07 Jun 2023   Prob (F-statistic):              0.401\n",
      "Time:                        15:04:15   Log-Likelihood:                 860.52\n",
      "No. Observations:                 486   AIC:                            -1717.\n",
      "Df Residuals:                     484   BIC:                            -1709.\n",
      "Df Model:                           1                                         \n",
      "Covariance Type:            nonrobust                                         \n",
      "==============================================================================\n",
      "                 coef    std err          t      P>|t|      [0.025      0.975]\n",
      "------------------------------------------------------------------------------\n",
      "Intercept      0.0052      0.002      2.136      0.033       0.000       0.010\n",
      "polarity       0.0024      0.003      0.841      0.401      -0.003       0.008\n",
      "==============================================================================\n",
      "Omnibus:                      107.423   Durbin-Watson:                   1.873\n",
      "Prob(Omnibus):                  0.000   Jarque-Bera (JB):              330.591\n",
      "Skew:                           1.026   Prob(JB):                     1.63e-72\n",
      "Kurtosis:                       6.481   Cond. No.                         2.19\n",
      "==============================================================================\n",
      "\n",
      "Notes:\n",
      "[1] Standard Errors assume that the covariance matrix of the errors is correctly specified.\n"
     ]
    }
   ],
   "source": [
    "lm = smf.ols(formula = \"log_return_Tsla~ polarity\", data=tesla).fit()\n",
    "print (lm.summary())"
   ]
  },
  {
   "cell_type": "markdown",
   "id": "24fc110b",
   "metadata": {},
   "source": [
    "#### Scatter plot between Sentiment and Close Price Rescaled, Polarity vs Close Price Rescaled"
   ]
  },
  {
   "cell_type": "code",
   "execution_count": 19,
   "id": "88f29071",
   "metadata": {},
   "outputs": [
    {
     "data": {
      "image/png": "[encoded data removed]",
      "text/plain": [
       "<Figure size 1008x576 with 2 Axes>"
      ]
     },
     "metadata": {
      "needs_background": "light"
     },
     "output_type": "display_data"
    }
   ],
   "source": [
    "fig, ax = plt.subplots(1,2, figsize = (14, 8))\n",
    "\n",
    "ax0 = plt.subplot(2, 2, 1)\n",
    "ax0.plot(tesla['compound'],tesla['Close_Tsla_Rescaled'], 'o',c='r')\n",
    "plt.ylabel( 'Close_Tsla_Rescaled' )\n",
    "plt.xlabel( 'Sentiment' )\n",
    "plt.title('Sentiment vs. the Rescaled Close Price for Tesla')\n",
    "\n",
    "ax1 = plt.subplot(2, 2, 2)\n",
    "ax1.plot(tesla['polarity'],tesla['Close_Tsla_Rescaled'], 'o',c='r')\n",
    "plt.ylabel( 'Close_Tsla_Rescaled' )\n",
    "plt.xlabel( 'Polarity' )\n",
    "plt.title('Polarity vs. the Rescaled Close Price for Tesla')\n",
    "\n",
    "plt.show()"
   ]
  },
  {
   "cell_type": "markdown",
   "id": "fcf7ff45",
   "metadata": {},
   "source": [
    "#### Linear Regression Analysis between Close Price Rescaled and Compound Sentiment Indicator"
   ]
  },
  {
   "cell_type": "code",
   "execution_count": 20,
   "id": "0f8e044e",
   "metadata": {},
   "outputs": [
    {
     "name": "stdout",
     "output_type": "stream",
     "text": [
      "                             OLS Regression Results                            \n",
      "===============================================================================\n",
      "Dep. Variable:     Close_Tsla_Rescaled   R-squared:                       0.002\n",
      "Model:                             OLS   Adj. R-squared:                 -0.000\n",
      "Method:                  Least Squares   F-statistic:                    0.9959\n",
      "Date:                 Wed, 07 Jun 2023   Prob (F-statistic):              0.319\n",
      "Time:                         15:04:15   Log-Likelihood:                -79.687\n",
      "No. Observations:                  606   AIC:                             163.4\n",
      "Df Residuals:                      604   BIC:                             172.2\n",
      "Df Model:                            1                                         \n",
      "Covariance Type:             nonrobust                                         \n",
      "==============================================================================\n",
      "                 coef    std err          t      P>|t|      [0.025      0.975]\n",
      "------------------------------------------------------------------------------\n",
      "Intercept      0.2499      0.014     18.354      0.000       0.223       0.277\n",
      "compound      -0.0309      0.031     -0.998      0.319      -0.092       0.030\n",
      "==============================================================================\n",
      "Omnibus:                       81.862   Durbin-Watson:                   0.011\n",
      "Prob(Omnibus):                  0.000   Jarque-Bera (JB):               95.829\n",
      "Skew:                           0.932   Prob(JB):                     1.55e-21\n",
      "Kurtosis:                       2.434   Cond. No.                         2.95\n",
      "==============================================================================\n",
      "\n",
      "Notes:\n",
      "[1] Standard Errors assume that the covariance matrix of the errors is correctly specified.\n"
     ]
    }
   ],
   "source": [
    "lm = smf.ols(formula = \"Close_Tsla_Rescaled~ compound\", data=tesla).fit()\n",
    "print (lm.summary())"
   ]
  },
  {
   "cell_type": "markdown",
   "id": "aed9d117",
   "metadata": {},
   "source": [
    "#### Linear Regression Analysis between Close Price Rescaled and Polarity Indicator"
   ]
  },
  {
   "cell_type": "code",
   "execution_count": 21,
   "id": "3f4e9971",
   "metadata": {},
   "outputs": [
    {
     "name": "stdout",
     "output_type": "stream",
     "text": [
      "                             OLS Regression Results                            \n",
      "===============================================================================\n",
      "Dep. Variable:     Close_Tsla_Rescaled   R-squared:                       0.002\n",
      "Model:                             OLS   Adj. R-squared:                 -0.000\n",
      "Method:                  Least Squares   F-statistic:                    0.8187\n",
      "Date:                 Wed, 07 Jun 2023   Prob (F-statistic):              0.366\n",
      "Time:                         15:04:15   Log-Likelihood:                -53.122\n",
      "No. Observations:                  486   AIC:                             110.2\n",
      "Df Residuals:                      484   BIC:                             118.6\n",
      "Df Model:                            1                                         \n",
      "Covariance Type:             nonrobust                                         \n",
      "==============================================================================\n",
      "                 coef    std err          t      P>|t|      [0.025      0.975]\n",
      "------------------------------------------------------------------------------\n",
      "Intercept      0.2502      0.016     15.622      0.000       0.219       0.282\n",
      "polarity      -0.0172      0.019     -0.905      0.366      -0.054       0.020\n",
      "==============================================================================\n",
      "Omnibus:                       69.711   Durbin-Watson:                   0.013\n",
      "Prob(Omnibus):                  0.000   Jarque-Bera (JB):               73.147\n",
      "Skew:                           0.891   Prob(JB):                     1.31e-16\n",
      "Kurtosis:                       2.338   Cond. No.                         2.19\n",
      "==============================================================================\n",
      "\n",
      "Notes:\n",
      "[1] Standard Errors assume that the covariance matrix of the errors is correctly specified.\n"
     ]
    }
   ],
   "source": [
    "lm = smf.ols(formula = \"Close_Tsla_Rescaled~ polarity\", data=tesla).fit()\n",
    "print (lm.summary())"
   ]
  },
  {
   "cell_type": "markdown",
   "id": "54b34d02",
   "metadata": {},
   "source": [
    "### Question: Is there any correlation between sentiments and Bitcoin Stocks? For both close price and returns"
   ]
  },
  {
   "cell_type": "markdown",
   "id": "4e02ceac",
   "metadata": {},
   "source": [
    "#### Scatter plot between Sentiment and Simple Returns, Polarity vs Simple Returns\n",
    "\n",
    "Source for colors: CSS Colors, matplotlib documentation, https://matplotlib.org/stable/gallery/color/named_colors.html"
   ]
  },
  {
   "cell_type": "code",
   "execution_count": 22,
   "id": "ca9b41b3",
   "metadata": {},
   "outputs": [
    {
     "data": {
      "image/png": "[encoded data removed]",
      "text/plain": [
       "<Figure size 1008x576 with 2 Axes>"
      ]
     },
     "metadata": {
      "needs_background": "light"
     },
     "output_type": "display_data"
    }
   ],
   "source": [
    "fig, ax = plt.subplots(1,2, figsize = (14, 8))\n",
    "\n",
    "ax0 = plt.subplot(2, 2, 1)\n",
    "ax0.plot(bitcoin['compound'],bitcoin['simple_return_Btc'], 'o',c='sandybrown')\n",
    "plt.ylabel( 'simple_return_Btc' )\n",
    "plt.xlabel( 'Sentiment' )\n",
    "plt.title('Sentiment vs. Simple Return for Bitcoin')\n",
    "\n",
    "ax1 = plt.subplot(2, 2, 2)\n",
    "ax1.plot(bitcoin['polarity'],bitcoin['simple_return_Btc'], 'o',c='sandybrown')\n",
    "plt.ylabel( 'simple_return_Btc' )\n",
    "plt.xlabel( 'Polarity' )\n",
    "plt.title('Polarity vs. Simple Return for Bitcoin')\n",
    "\n",
    "plt.show()"
   ]
  },
  {
   "cell_type": "markdown",
   "id": "78d978fb",
   "metadata": {},
   "source": [
    "#### Linear Regression Analysis between Simple Returns and Compound Sentiment Indicator"
   ]
  },
  {
   "cell_type": "code",
   "execution_count": 23,
   "id": "dcffd4c0",
   "metadata": {},
   "outputs": [
    {
     "name": "stdout",
     "output_type": "stream",
     "text": [
      "                            OLS Regression Results                            \n",
      "==============================================================================\n",
      "Dep. Variable:      simple_return_Btc   R-squared:                       0.059\n",
      "Model:                            OLS   Adj. R-squared:                 -0.027\n",
      "Method:                 Least Squares   F-statistic:                    0.6848\n",
      "Date:                Wed, 07 Jun 2023   Prob (F-statistic):              0.426\n",
      "Time:                        15:04:16   Log-Likelihood:                 18.044\n",
      "No. Observations:                  13   AIC:                            -32.09\n",
      "Df Residuals:                      11   BIC:                            -30.96\n",
      "Df Model:                           1                                         \n",
      "Covariance Type:            nonrobust                                         \n",
      "==============================================================================\n",
      "                 coef    std err          t      P>|t|      [0.025      0.975]\n",
      "------------------------------------------------------------------------------\n",
      "Intercept      0.0197      0.021      0.956      0.359      -0.026       0.065\n",
      "compound       0.0437      0.053      0.828      0.426      -0.073       0.160\n",
      "==============================================================================\n",
      "Omnibus:                        0.759   Durbin-Watson:                   2.739\n",
      "Prob(Omnibus):                  0.684   Jarque-Bera (JB):                0.634\n",
      "Skew:                          -0.455   Prob(JB):                        0.728\n",
      "Kurtosis:                       2.415   Cond. No.                         3.01\n",
      "==============================================================================\n",
      "\n",
      "Notes:\n",
      "[1] Standard Errors assume that the covariance matrix of the errors is correctly specified.\n"
     ]
    },
    {
     "name": "stderr",
     "output_type": "stream",
     "text": [
      "/opt/homebrew/Caskroom/miniforge/base/envs/conda_env/lib/python3.8/site-packages/scipy/stats/stats.py:1541: UserWarning: kurtosistest only valid for n>=20 ... continuing anyway, n=13\n",
      "  warnings.warn(\"kurtosistest only valid for n>=20 ... continuing \"\n"
     ]
    }
   ],
   "source": [
    "lm = smf.ols(formula = \"simple_return_Btc~ compound\", data=bitcoin).fit()\n",
    "print (lm.summary())"
   ]
  },
  {
   "cell_type": "markdown",
   "id": "096327e5",
   "metadata": {},
   "source": [
    "#### Linear Regression Analysis between Simple Returns and Polarity Indicator"
   ]
  },
  {
   "cell_type": "code",
   "execution_count": 24,
   "id": "f586f9ee",
   "metadata": {},
   "outputs": [
    {
     "name": "stdout",
     "output_type": "stream",
     "text": [
      "                            OLS Regression Results                            \n",
      "==============================================================================\n",
      "Dep. Variable:      simple_return_Btc   R-squared:                       0.056\n",
      "Model:                            OLS   Adj. R-squared:                 -0.101\n",
      "Method:                 Least Squares   F-statistic:                    0.3579\n",
      "Date:                Wed, 07 Jun 2023   Prob (F-statistic):              0.572\n",
      "Time:                        15:04:16   Log-Likelihood:                 10.645\n",
      "No. Observations:                   8   AIC:                            -17.29\n",
      "Df Residuals:                       6   BIC:                            -17.13\n",
      "Df Model:                           1                                         \n",
      "Covariance Type:            nonrobust                                         \n",
      "==============================================================================\n",
      "                 coef    std err          t      P>|t|      [0.025      0.975]\n",
      "------------------------------------------------------------------------------\n",
      "Intercept      0.0207      0.032      0.657      0.536      -0.056       0.098\n",
      "polarity       0.0217      0.036      0.598      0.572      -0.067       0.111\n",
      "==============================================================================\n",
      "Omnibus:                        1.803   Durbin-Watson:                   2.577\n",
      "Prob(Omnibus):                  0.406   Jarque-Bera (JB):                0.779\n",
      "Skew:                          -0.737   Prob(JB):                        0.677\n",
      "Kurtosis:                       2.593   Cond. No.                         1.92\n",
      "==============================================================================\n",
      "\n",
      "Notes:\n",
      "[1] Standard Errors assume that the covariance matrix of the errors is correctly specified.\n"
     ]
    },
    {
     "name": "stderr",
     "output_type": "stream",
     "text": [
      "/opt/homebrew/Caskroom/miniforge/base/envs/conda_env/lib/python3.8/site-packages/scipy/stats/stats.py:1541: UserWarning: kurtosistest only valid for n>=20 ... continuing anyway, n=8\n",
      "  warnings.warn(\"kurtosistest only valid for n>=20 ... continuing \"\n"
     ]
    }
   ],
   "source": [
    "lm = smf.ols(formula = \"simple_return_Btc~ polarity\", data=bitcoin).fit()\n",
    "print (lm.summary())"
   ]
  },
  {
   "cell_type": "markdown",
   "id": "92bf9ee0",
   "metadata": {},
   "source": [
    "#### Scatter plot between Sentiment and Log Returns, Polarity vs Log Returns"
   ]
  },
  {
   "cell_type": "code",
   "execution_count": 25,
   "id": "fc6193b2",
   "metadata": {},
   "outputs": [
    {
     "data": {
      "image/png": "[encoded data removed]",
      "text/plain": [
       "<Figure size 1008x576 with 2 Axes>"
      ]
     },
     "metadata": {
      "needs_background": "light"
     },
     "output_type": "display_data"
    }
   ],
   "source": [
    "fig, ax = plt.subplots(1,2, figsize = (14, 8))\n",
    "\n",
    "ax0 = plt.subplot(2, 2, 1)\n",
    "ax0.plot(bitcoin['compound'],bitcoin['log_return_Btc'], 'o',c='sandybrown')\n",
    "plt.ylabel( 'log_return_Btc' )\n",
    "plt.xlabel( 'Sentiment' )\n",
    "plt.title('Sentiment vs. Log Return for Bitcoin')\n",
    "\n",
    "ax1 = plt.subplot(2, 2, 2)\n",
    "ax1.plot(bitcoin['polarity'],bitcoin['log_return_Btc'], 'o',c='sandybrown')\n",
    "plt.ylabel( 'log_return_Btc' )\n",
    "plt.xlabel( 'Polarity' )\n",
    "plt.title('Polarity vs. Log Return for Bitcoin')\n",
    "\n",
    "plt.show()"
   ]
  },
  {
   "cell_type": "markdown",
   "id": "32783801",
   "metadata": {},
   "source": [
    "#### Linear Regression Analysis between Log Returns and Compound Sentiment Indicator"
   ]
  },
  {
   "cell_type": "code",
   "execution_count": 26,
   "id": "ee7988ff",
   "metadata": {},
   "outputs": [
    {
     "name": "stdout",
     "output_type": "stream",
     "text": [
      "                            OLS Regression Results                            \n",
      "==============================================================================\n",
      "Dep. Variable:         log_return_Btc   R-squared:                       0.054\n",
      "Model:                            OLS   Adj. R-squared:                 -0.032\n",
      "Method:                 Least Squares   F-statistic:                    0.6291\n",
      "Date:                Wed, 07 Jun 2023   Prob (F-statistic):              0.444\n",
      "Time:                        15:04:16   Log-Likelihood:                 18.213\n",
      "No. Observations:                  13   AIC:                            -32.43\n",
      "Df Residuals:                      11   BIC:                            -31.30\n",
      "Df Model:                           1                                         \n",
      "Covariance Type:            nonrobust                                         \n",
      "==============================================================================\n",
      "                 coef    std err          t      P>|t|      [0.025      0.975]\n",
      "------------------------------------------------------------------------------\n",
      "Intercept      0.0179      0.020      0.880      0.398      -0.027       0.063\n",
      "compound       0.0413      0.052      0.793      0.444      -0.073       0.156\n",
      "==============================================================================\n",
      "Omnibus:                        1.084   Durbin-Watson:                   2.743\n",
      "Prob(Omnibus):                  0.582   Jarque-Bera (JB):                0.760\n",
      "Skew:                          -0.541   Prob(JB):                        0.684\n",
      "Kurtosis:                       2.519   Cond. No.                         3.01\n",
      "==============================================================================\n",
      "\n",
      "Notes:\n",
      "[1] Standard Errors assume that the covariance matrix of the errors is correctly specified.\n"
     ]
    },
    {
     "name": "stderr",
     "output_type": "stream",
     "text": [
      "/opt/homebrew/Caskroom/miniforge/base/envs/conda_env/lib/python3.8/site-packages/scipy/stats/stats.py:1541: UserWarning: kurtosistest only valid for n>=20 ... continuing anyway, n=13\n",
      "  warnings.warn(\"kurtosistest only valid for n>=20 ... continuing \"\n"
     ]
    }
   ],
   "source": [
    "lm = smf.ols(formula = \"log_return_Btc~ compound\", data=bitcoin).fit()\n",
    "print (lm.summary())"
   ]
  },
  {
   "cell_type": "markdown",
   "id": "cea915e0",
   "metadata": {},
   "source": [
    "#### Linear Regression Analysis between Log Returns and Polarity Indicator"
   ]
  },
  {
   "cell_type": "code",
   "execution_count": 27,
   "id": "477d6997",
   "metadata": {},
   "outputs": [
    {
     "name": "stdout",
     "output_type": "stream",
     "text": [
      "                            OLS Regression Results                            \n",
      "==============================================================================\n",
      "Dep. Variable:         log_return_Btc   R-squared:                       0.050\n",
      "Model:                            OLS   Adj. R-squared:                 -0.108\n",
      "Method:                 Least Squares   F-statistic:                    0.3160\n",
      "Date:                Wed, 07 Jun 2023   Prob (F-statistic):              0.594\n",
      "Time:                        15:04:16   Log-Likelihood:                 10.729\n",
      "No. Observations:                   8   AIC:                            -17.46\n",
      "Df Residuals:                       6   BIC:                            -17.30\n",
      "Df Model:                           1                                         \n",
      "Covariance Type:            nonrobust                                         \n",
      "==============================================================================\n",
      "                 coef    std err          t      P>|t|      [0.025      0.975]\n",
      "------------------------------------------------------------------------------\n",
      "Intercept      0.0189      0.031      0.606      0.567      -0.057       0.095\n",
      "polarity       0.0202      0.036      0.562      0.594      -0.068       0.108\n",
      "==============================================================================\n",
      "Omnibus:                        2.261   Durbin-Watson:                   2.585\n",
      "Prob(Omnibus):                  0.323   Jarque-Bera (JB):                0.900\n",
      "Skew:                          -0.807   Prob(JB):                        0.638\n",
      "Kurtosis:                       2.697   Cond. No.                         1.92\n",
      "==============================================================================\n",
      "\n",
      "Notes:\n",
      "[1] Standard Errors assume that the covariance matrix of the errors is correctly specified.\n"
     ]
    },
    {
     "name": "stderr",
     "output_type": "stream",
     "text": [
      "/opt/homebrew/Caskroom/miniforge/base/envs/conda_env/lib/python3.8/site-packages/scipy/stats/stats.py:1541: UserWarning: kurtosistest only valid for n>=20 ... continuing anyway, n=8\n",
      "  warnings.warn(\"kurtosistest only valid for n>=20 ... continuing \"\n"
     ]
    }
   ],
   "source": [
    "lm = smf.ols(formula = \"log_return_Btc~ polarity\", data=bitcoin).fit()\n",
    "print (lm.summary())"
   ]
  },
  {
   "cell_type": "markdown",
   "id": "ca13f20e",
   "metadata": {},
   "source": [
    "#### Scatter plot between Sentiment and Close Price Rescaled, Polarity vs Close Price Rescaled"
   ]
  },
  {
   "cell_type": "code",
   "execution_count": 28,
   "id": "ef60afad",
   "metadata": {},
   "outputs": [
    {
     "data": {
      "image/png": "[encoded data removed]",
      "text/plain": [
       "<Figure size 1008x576 with 2 Axes>"
      ]
     },
     "metadata": {
      "needs_background": "light"
     },
     "output_type": "display_data"
    }
   ],
   "source": [
    "fig, ax = plt.subplots(1,2, figsize = (14, 8))\n",
    "\n",
    "ax0 = plt.subplot(2, 2, 1)\n",
    "ax0.plot(bitcoin['compound'],bitcoin['Close_Btc_Rescaled'], 'o',c='sandybrown')\n",
    "plt.ylabel( 'Close_Btc_Rescaled' )\n",
    "plt.xlabel( 'Sentiment' )\n",
    "plt.title('Sentiment vs. the Rescaled Close Price for Bitcoin')\n",
    "\n",
    "ax1 = plt.subplot(2, 2, 2)\n",
    "ax1.plot(bitcoin['polarity'],bitcoin['Close_Btc_Rescaled'], 'o',c='sandybrown')\n",
    "plt.ylabel( 'Close_Btc_Rescaled' )\n",
    "plt.xlabel( 'Polarity' )\n",
    "plt.title('Polarity vs. the Rescaled Close Price for Bitcoin')\n",
    "\n",
    "plt.show()"
   ]
  },
  {
   "cell_type": "markdown",
   "id": "4ae7e80e",
   "metadata": {},
   "source": [
    "#### Linear Regression Analysis between Close Price Rescaled and Compound Sentiment Indicator"
   ]
  },
  {
   "cell_type": "code",
   "execution_count": 29,
   "id": "ed1b87ce",
   "metadata": {},
   "outputs": [
    {
     "name": "stdout",
     "output_type": "stream",
     "text": [
      "                            OLS Regression Results                            \n",
      "==============================================================================\n",
      "Dep. Variable:     Close_Btc_Rescaled   R-squared:                       0.087\n",
      "Model:                            OLS   Adj. R-squared:                  0.004\n",
      "Method:                 Least Squares   F-statistic:                     1.053\n",
      "Date:                Wed, 07 Jun 2023   Prob (F-statistic):              0.327\n",
      "Time:                        15:04:16   Log-Likelihood:                0.42313\n",
      "No. Observations:                  13   AIC:                             3.154\n",
      "Df Residuals:                      11   BIC:                             4.284\n",
      "Df Model:                           1                                         \n",
      "Covariance Type:            nonrobust                                         \n",
      "==============================================================================\n",
      "                 coef    std err          t      P>|t|      [0.025      0.975]\n",
      "------------------------------------------------------------------------------\n",
      "Intercept      0.5908      0.080      7.410      0.000       0.415       0.766\n",
      "compound      -0.2102      0.205     -1.026      0.327      -0.661       0.241\n",
      "==============================================================================\n",
      "Omnibus:                        3.773   Durbin-Watson:                   0.513\n",
      "Prob(Omnibus):                  0.152   Jarque-Bera (JB):                2.520\n",
      "Skew:                          -1.058   Prob(JB):                        0.284\n",
      "Kurtosis:                       2.581   Cond. No.                         3.01\n",
      "==============================================================================\n",
      "\n",
      "Notes:\n",
      "[1] Standard Errors assume that the covariance matrix of the errors is correctly specified.\n"
     ]
    },
    {
     "name": "stderr",
     "output_type": "stream",
     "text": [
      "/opt/homebrew/Caskroom/miniforge/base/envs/conda_env/lib/python3.8/site-packages/scipy/stats/stats.py:1541: UserWarning: kurtosistest only valid for n>=20 ... continuing anyway, n=13\n",
      "  warnings.warn(\"kurtosistest only valid for n>=20 ... continuing \"\n"
     ]
    }
   ],
   "source": [
    "lm = smf.ols(formula = \"Close_Btc_Rescaled~ compound\", data=bitcoin).fit()\n",
    "print (lm.summary())"
   ]
  },
  {
   "cell_type": "markdown",
   "id": "2c598808",
   "metadata": {},
   "source": [
    "#### Linear Regression Analysis between Close Price Rescaled and Polarity Indicator"
   ]
  },
  {
   "cell_type": "code",
   "execution_count": 30,
   "id": "83785549",
   "metadata": {},
   "outputs": [
    {
     "name": "stdout",
     "output_type": "stream",
     "text": [
      "                            OLS Regression Results                            \n",
      "==============================================================================\n",
      "Dep. Variable:     Close_Btc_Rescaled   R-squared:                       0.529\n",
      "Model:                            OLS   Adj. R-squared:                  0.450\n",
      "Method:                 Least Squares   F-statistic:                     6.726\n",
      "Date:                Wed, 07 Jun 2023   Prob (F-statistic):             0.0410\n",
      "Time:                        15:04:16   Log-Likelihood:                 3.6784\n",
      "No. Observations:                   8   AIC:                            -3.357\n",
      "Df Residuals:                       6   BIC:                            -3.198\n",
      "Df Model:                           1                                         \n",
      "Covariance Type:            nonrobust                                         \n",
      "==============================================================================\n",
      "                 coef    std err          t      P>|t|      [0.025      0.975]\n",
      "------------------------------------------------------------------------------\n",
      "Intercept      0.7093      0.075      9.426      0.000       0.525       0.893\n",
      "polarity      -0.2251      0.087     -2.593      0.041      -0.437      -0.013\n",
      "==============================================================================\n",
      "Omnibus:                       11.027   Durbin-Watson:                   1.567\n",
      "Prob(Omnibus):                  0.004   Jarque-Bera (JB):                3.821\n",
      "Skew:                          -1.579   Prob(JB):                        0.148\n",
      "Kurtosis:                       4.219   Cond. No.                         1.92\n",
      "==============================================================================\n",
      "\n",
      "Notes:\n",
      "[1] Standard Errors assume that the covariance matrix of the errors is correctly specified.\n"
     ]
    },
    {
     "name": "stderr",
     "output_type": "stream",
     "text": [
      "/opt/homebrew/Caskroom/miniforge/base/envs/conda_env/lib/python3.8/site-packages/scipy/stats/stats.py:1541: UserWarning: kurtosistest only valid for n>=20 ... continuing anyway, n=8\n",
      "  warnings.warn(\"kurtosistest only valid for n>=20 ... continuing \"\n"
     ]
    }
   ],
   "source": [
    "lm = smf.ols(formula = \"Close_Btc_Rescaled~ polarity\", data=bitcoin).fit()\n",
    "print (lm.summary())"
   ]
  },
  {
   "cell_type": "markdown",
   "id": "001ea7ba",
   "metadata": {},
   "source": [
    "### Question: Is there any correlation between sentiments and Dogecoin Stocks? For both close price and returns"
   ]
  },
  {
   "cell_type": "markdown",
   "id": "9ff96d07",
   "metadata": {},
   "source": [
    "#### Scatter plot between Sentiment and Simple Returns, Polarity vs Simple Returns"
   ]
  },
  {
   "cell_type": "code",
   "execution_count": 31,
   "id": "58c24574",
   "metadata": {},
   "outputs": [
    {
     "data": {
      "image/png": "[encoded data removed]",
      "text/plain": [
       "<Figure size 1008x576 with 2 Axes>"
      ]
     },
     "metadata": {
      "needs_background": "light"
     },
     "output_type": "display_data"
    }
   ],
   "source": [
    "fig, ax = plt.subplots(1,2, figsize = (14, 8))\n",
    "\n",
    "ax0 = plt.subplot(2, 2, 1)\n",
    "ax0.plot(dogecoin['compound'],dogecoin['simple_return_Doge'], 'o',c='goldenrod')\n",
    "plt.ylabel( 'simple_return_Doge' )\n",
    "plt.xlabel( 'Sentiment' )\n",
    "plt.title('Sentiment vs. Simple Return for Dogecoin')\n",
    "\n",
    "ax1 = plt.subplot(2, 2, 2)\n",
    "ax1.plot(dogecoin['polarity'],dogecoin['simple_return_Doge'], 'o',c='goldenrod')\n",
    "plt.ylabel( 'simple_return_Doge' )\n",
    "plt.xlabel( 'Polarity' )\n",
    "plt.title('Polarity vs. Simple Return for Dogecoin')\n",
    "\n",
    "plt.show()"
   ]
  },
  {
   "cell_type": "markdown",
   "id": "cee86c69",
   "metadata": {},
   "source": [
    "#### Linear Regression Analysis between Simple Returns and Compound Sentiment Indicator"
   ]
  },
  {
   "cell_type": "code",
   "execution_count": 32,
   "id": "484d2c2a",
   "metadata": {},
   "outputs": [
    {
     "name": "stdout",
     "output_type": "stream",
     "text": [
      "                            OLS Regression Results                            \n",
      "==============================================================================\n",
      "Dep. Variable:     simple_return_Doge   R-squared:                       0.023\n",
      "Model:                            OLS   Adj. R-squared:                 -0.053\n",
      "Method:                 Least Squares   F-statistic:                    0.2996\n",
      "Date:                Wed, 07 Jun 2023   Prob (F-statistic):              0.593\n",
      "Time:                        15:04:17   Log-Likelihood:                 10.147\n",
      "No. Observations:                  15   AIC:                            -16.29\n",
      "Df Residuals:                      13   BIC:                            -14.88\n",
      "Df Model:                           1                                         \n",
      "Covariance Type:            nonrobust                                         \n",
      "==============================================================================\n",
      "                 coef    std err          t      P>|t|      [0.025      0.975]\n",
      "------------------------------------------------------------------------------\n",
      "Intercept      0.0507      0.037      1.368      0.195      -0.029       0.131\n",
      "compound       0.0553      0.101      0.547      0.593      -0.163       0.274\n",
      "==============================================================================\n",
      "Omnibus:                       18.785   Durbin-Watson:                   1.505\n",
      "Prob(Omnibus):                  0.000   Jarque-Bera (JB):               17.408\n",
      "Skew:                           1.924   Prob(JB):                     0.000166\n",
      "Kurtosis:                       6.611   Cond. No.                         3.03\n",
      "==============================================================================\n",
      "\n",
      "Notes:\n",
      "[1] Standard Errors assume that the covariance matrix of the errors is correctly specified.\n"
     ]
    },
    {
     "name": "stderr",
     "output_type": "stream",
     "text": [
      "/opt/homebrew/Caskroom/miniforge/base/envs/conda_env/lib/python3.8/site-packages/scipy/stats/stats.py:1541: UserWarning: kurtosistest only valid for n>=20 ... continuing anyway, n=15\n",
      "  warnings.warn(\"kurtosistest only valid for n>=20 ... continuing \"\n"
     ]
    }
   ],
   "source": [
    "lm = smf.ols(formula = \"simple_return_Doge~ compound\", data=dogecoin).fit()\n",
    "print (lm.summary())"
   ]
  },
  {
   "cell_type": "markdown",
   "id": "4c5aba8a",
   "metadata": {},
   "source": [
    "#### Linear Regression Analysis between Simple Returns and Polarity Indicator"
   ]
  },
  {
   "cell_type": "code",
   "execution_count": 33,
   "id": "61977b50",
   "metadata": {},
   "outputs": [
    {
     "name": "stdout",
     "output_type": "stream",
     "text": [
      "                            OLS Regression Results                            \n",
      "==============================================================================\n",
      "Dep. Variable:     simple_return_Doge   R-squared:                       0.223\n",
      "Model:                            OLS   Adj. R-squared:                  0.067\n",
      "Method:                 Least Squares   F-statistic:                     1.431\n",
      "Date:                Wed, 07 Jun 2023   Prob (F-statistic):              0.285\n",
      "Time:                        15:04:17   Log-Likelihood:                 8.3377\n",
      "No. Observations:                   7   AIC:                            -12.68\n",
      "Df Residuals:                       5   BIC:                            -12.78\n",
      "Df Model:                           1                                         \n",
      "Covariance Type:            nonrobust                                         \n",
      "==============================================================================\n",
      "                 coef    std err          t      P>|t|      [0.025      0.975]\n",
      "------------------------------------------------------------------------------\n",
      "Intercept      0.0229      0.035      0.648      0.546      -0.068       0.114\n",
      "polarity       0.0450      0.038      1.196      0.285      -0.052       0.142\n",
      "==============================================================================\n",
      "Omnibus:                          nan   Durbin-Watson:                   2.097\n",
      "Prob(Omnibus):                    nan   Jarque-Bera (JB):                0.389\n",
      "Skew:                           0.150   Prob(JB):                        0.823\n",
      "Kurtosis:                       1.885   Cond. No.                         1.48\n",
      "==============================================================================\n",
      "\n",
      "Notes:\n",
      "[1] Standard Errors assume that the covariance matrix of the errors is correctly specified.\n"
     ]
    },
    {
     "name": "stderr",
     "output_type": "stream",
     "text": [
      "/opt/homebrew/Caskroom/miniforge/base/envs/conda_env/lib/python3.8/site-packages/statsmodels/stats/stattools.py:74: ValueWarning: omni_normtest is not valid with less than 8 observations; 7 samples were given.\n",
      "  warn(\"omni_normtest is not valid with less than 8 observations; %i \"\n"
     ]
    }
   ],
   "source": [
    "lm = smf.ols(formula = \"simple_return_Doge~ polarity\", data=dogecoin).fit()\n",
    "print (lm.summary())"
   ]
  },
  {
   "cell_type": "markdown",
   "id": "2f440185",
   "metadata": {},
   "source": [
    "#### Scatter plot between Sentiment and Log Returns, Polarity vs Log Returns"
   ]
  },
  {
   "cell_type": "code",
   "execution_count": 34,
   "id": "1006abcc",
   "metadata": {},
   "outputs": [
    {
     "data": {
      "image/png": "[encoded data removed]",
      "text/plain": [
       "<Figure size 1008x576 with 2 Axes>"
      ]
     },
     "metadata": {
      "needs_background": "light"
     },
     "output_type": "display_data"
    }
   ],
   "source": [
    "fig, ax = plt.subplots(1,2, figsize = (14, 8))\n",
    "\n",
    "ax0 = plt.subplot(2, 2, 1)\n",
    "ax0.plot(dogecoin['compound'],dogecoin['log_return_Doge'], 'o',c='goldenrod')\n",
    "plt.ylabel( 'log_return_Doge' )\n",
    "plt.xlabel( 'Sentiment' )\n",
    "plt.title('Sentiment vs. Log Return for Dogecoin')\n",
    "\n",
    "ax1 = plt.subplot(2, 2, 2)\n",
    "ax1.plot(dogecoin['polarity'],dogecoin['log_return_Doge'], 'o',c='goldenrod')\n",
    "plt.ylabel( 'log_return_Doge' )\n",
    "plt.xlabel( 'Polarity' )\n",
    "plt.title('Polarity vs. Log Return for Dogecoin')\n",
    "\n",
    "plt.show()"
   ]
  },
  {
   "cell_type": "markdown",
   "id": "513acd4d",
   "metadata": {},
   "source": [
    "#### Linear Regression Analysis between Log Returns and Compound Sentiment Indicator"
   ]
  },
  {
   "cell_type": "code",
   "execution_count": 35,
   "id": "e9f2a4c1",
   "metadata": {},
   "outputs": [
    {
     "name": "stdout",
     "output_type": "stream",
     "text": [
      "                            OLS Regression Results                            \n",
      "==============================================================================\n",
      "Dep. Variable:        log_return_Doge   R-squared:                       0.029\n",
      "Model:                            OLS   Adj. R-squared:                 -0.046\n",
      "Method:                 Least Squares   F-statistic:                    0.3865\n",
      "Date:                Wed, 07 Jun 2023   Prob (F-statistic):              0.545\n",
      "Time:                        15:04:17   Log-Likelihood:                 12.323\n",
      "No. Observations:                  15   AIC:                            -20.65\n",
      "Df Residuals:                      13   BIC:                            -19.23\n",
      "Df Model:                           1                                         \n",
      "Covariance Type:            nonrobust                                         \n",
      "==============================================================================\n",
      "                 coef    std err          t      P>|t|      [0.025      0.975]\n",
      "------------------------------------------------------------------------------\n",
      "Intercept      0.0430      0.032      1.342      0.203      -0.026       0.112\n",
      "compound       0.0544      0.087      0.622      0.545      -0.135       0.243\n",
      "==============================================================================\n",
      "Omnibus:                       14.658   Durbin-Watson:                   1.428\n",
      "Prob(Omnibus):                  0.001   Jarque-Bera (JB):               11.264\n",
      "Skew:                           1.651   Prob(JB):                      0.00358\n",
      "Kurtosis:                       5.668   Cond. No.                         3.03\n",
      "==============================================================================\n",
      "\n",
      "Notes:\n",
      "[1] Standard Errors assume that the covariance matrix of the errors is correctly specified.\n"
     ]
    },
    {
     "name": "stderr",
     "output_type": "stream",
     "text": [
      "/opt/homebrew/Caskroom/miniforge/base/envs/conda_env/lib/python3.8/site-packages/scipy/stats/stats.py:1541: UserWarning: kurtosistest only valid for n>=20 ... continuing anyway, n=15\n",
      "  warnings.warn(\"kurtosistest only valid for n>=20 ... continuing \"\n"
     ]
    }
   ],
   "source": [
    "lm = smf.ols(formula = \"log_return_Doge~ compound\", data=dogecoin).fit()\n",
    "print (lm.summary())"
   ]
  },
  {
   "cell_type": "markdown",
   "id": "09fab69c",
   "metadata": {},
   "source": [
    "#### Linear Regression Analysis between Log Returns and Polarity Indicator"
   ]
  },
  {
   "cell_type": "code",
   "execution_count": 36,
   "id": "1f8359fb",
   "metadata": {},
   "outputs": [
    {
     "name": "stdout",
     "output_type": "stream",
     "text": [
      "                            OLS Regression Results                            \n",
      "==============================================================================\n",
      "Dep. Variable:        log_return_Doge   R-squared:                       0.219\n",
      "Model:                            OLS   Adj. R-squared:                  0.063\n",
      "Method:                 Least Squares   F-statistic:                     1.404\n",
      "Date:                Wed, 07 Jun 2023   Prob (F-statistic):              0.289\n",
      "Time:                        15:04:17   Log-Likelihood:                 8.7713\n",
      "No. Observations:                   7   AIC:                            -13.54\n",
      "Df Residuals:                       5   BIC:                            -13.65\n",
      "Df Model:                           1                                         \n",
      "Covariance Type:            nonrobust                                         \n",
      "==============================================================================\n",
      "                 coef    std err          t      P>|t|      [0.025      0.975]\n",
      "------------------------------------------------------------------------------\n",
      "Intercept      0.0201      0.033      0.606      0.571      -0.065       0.106\n",
      "polarity       0.0419      0.035      1.185      0.289      -0.049       0.133\n",
      "==============================================================================\n",
      "Omnibus:                          nan   Durbin-Watson:                   2.126\n",
      "Prob(Omnibus):                    nan   Jarque-Bera (JB):                0.388\n",
      "Skew:                           0.083   Prob(JB):                        0.824\n",
      "Kurtosis:                       1.858   Cond. No.                         1.48\n",
      "==============================================================================\n",
      "\n",
      "Notes:\n",
      "[1] Standard Errors assume that the covariance matrix of the errors is correctly specified.\n"
     ]
    },
    {
     "name": "stderr",
     "output_type": "stream",
     "text": [
      "/opt/homebrew/Caskroom/miniforge/base/envs/conda_env/lib/python3.8/site-packages/statsmodels/stats/stattools.py:74: ValueWarning: omni_normtest is not valid with less than 8 observations; 7 samples were given.\n",
      "  warn(\"omni_normtest is not valid with less than 8 observations; %i \"\n"
     ]
    }
   ],
   "source": [
    "lm = smf.ols(formula = \"log_return_Doge~ polarity\", data=dogecoin).fit()\n",
    "print (lm.summary())"
   ]
  },
  {
   "cell_type": "markdown",
   "id": "dd9a5e05",
   "metadata": {},
   "source": [
    "#### Scatter plot between Sentiment and Close Price Rescaled, Polarity vs Close Price Rescaled"
   ]
  },
  {
   "cell_type": "code",
   "execution_count": 37,
   "id": "97cf4a39",
   "metadata": {},
   "outputs": [
    {
     "data": {
      "image/png": "[encoded data removed]",
      "text/plain": [
       "<Figure size 1008x576 with 2 Axes>"
      ]
     },
     "metadata": {
      "needs_background": "light"
     },
     "output_type": "display_data"
    }
   ],
   "source": [
    "fig, ax = plt.subplots(1,2, figsize = (14, 8))\n",
    "\n",
    "ax0 = plt.subplot(2, 2, 1)\n",
    "ax0.plot(dogecoin['compound'],dogecoin['Close_Doge_Rescaled'], 'o',c='goldenrod')\n",
    "plt.ylabel( 'Close_Doge_Rescaled' )\n",
    "plt.xlabel( 'Sentiment' )\n",
    "plt.title('Sentiment vs. the Rescaled Close Price for Dogecoin')\n",
    "\n",
    "ax1 = plt.subplot(2, 2, 2)\n",
    "ax1.plot(dogecoin['polarity'],dogecoin['Close_Doge_Rescaled'], 'o',c='goldenrod')\n",
    "plt.ylabel( 'Close_Doge_Rescaled' )\n",
    "plt.xlabel( 'Polarity' )\n",
    "plt.title('Polarity vs. the Rescaled Close Price for Dogecoin')\n",
    "\n",
    "plt.show()"
   ]
  },
  {
   "cell_type": "markdown",
   "id": "16716ed0",
   "metadata": {},
   "source": [
    "#### Linear Regression Analysis between Close Price Rescaled and Compound Sentiment Indicator"
   ]
  },
  {
   "cell_type": "code",
   "execution_count": 38,
   "id": "8d571f8a",
   "metadata": {},
   "outputs": [
    {
     "name": "stdout",
     "output_type": "stream",
     "text": [
      "                             OLS Regression Results                            \n",
      "===============================================================================\n",
      "Dep. Variable:     Close_Doge_Rescaled   R-squared:                       0.254\n",
      "Model:                             OLS   Adj. R-squared:                  0.196\n",
      "Method:                  Least Squares   F-statistic:                     4.419\n",
      "Date:                 Wed, 07 Jun 2023   Prob (F-statistic):             0.0556\n",
      "Time:                         15:04:17   Log-Likelihood:                 8.8871\n",
      "No. Observations:                   15   AIC:                            -13.77\n",
      "Df Residuals:                       13   BIC:                            -12.36\n",
      "Df Model:                            1                                         \n",
      "Covariance Type:             nonrobust                                         \n",
      "==============================================================================\n",
      "                 coef    std err          t      P>|t|      [0.025      0.975]\n",
      "------------------------------------------------------------------------------\n",
      "Intercept      0.1657      0.040      4.110      0.001       0.079       0.253\n",
      "compound       0.2311      0.110      2.102      0.056      -0.006       0.469\n",
      "==============================================================================\n",
      "Omnibus:                        0.335   Durbin-Watson:                   0.762\n",
      "Prob(Omnibus):                  0.846   Jarque-Bera (JB):                0.477\n",
      "Skew:                           0.211   Prob(JB):                        0.788\n",
      "Kurtosis:                       2.235   Cond. No.                         3.03\n",
      "==============================================================================\n",
      "\n",
      "Notes:\n",
      "[1] Standard Errors assume that the covariance matrix of the errors is correctly specified.\n"
     ]
    },
    {
     "name": "stderr",
     "output_type": "stream",
     "text": [
      "/opt/homebrew/Caskroom/miniforge/base/envs/conda_env/lib/python3.8/site-packages/scipy/stats/stats.py:1541: UserWarning: kurtosistest only valid for n>=20 ... continuing anyway, n=15\n",
      "  warnings.warn(\"kurtosistest only valid for n>=20 ... continuing \"\n"
     ]
    }
   ],
   "source": [
    "lm = smf.ols(formula = \"Close_Doge_Rescaled~ compound\", data=dogecoin).fit()\n",
    "print (lm.summary())"
   ]
  },
  {
   "cell_type": "markdown",
   "id": "fb7a00f6",
   "metadata": {},
   "source": [
    "#### Linear Regression Analysis between Close Price Rescaled and Polarity Indicator"
   ]
  },
  {
   "cell_type": "code",
   "execution_count": 39,
   "id": "067de244",
   "metadata": {},
   "outputs": [
    {
     "name": "stdout",
     "output_type": "stream",
     "text": [
      "                             OLS Regression Results                            \n",
      "===============================================================================\n",
      "Dep. Variable:     Close_Doge_Rescaled   R-squared:                       0.083\n",
      "Model:                             OLS   Adj. R-squared:                 -0.100\n",
      "Method:                  Least Squares   F-statistic:                    0.4534\n",
      "Date:                 Wed, 07 Jun 2023   Prob (F-statistic):              0.531\n",
      "Time:                         15:04:17   Log-Likelihood:                 1.7887\n",
      "No. Observations:                    7   AIC:                            0.4227\n",
      "Df Residuals:                        5   BIC:                            0.3145\n",
      "Df Model:                            1                                         \n",
      "Covariance Type:             nonrobust                                         \n",
      "==============================================================================\n",
      "                 coef    std err          t      P>|t|      [0.025      0.975]\n",
      "------------------------------------------------------------------------------\n",
      "Intercept      0.2014      0.090      2.235      0.076      -0.030       0.433\n",
      "polarity       0.0646      0.096      0.673      0.531      -0.182       0.311\n",
      "==============================================================================\n",
      "Omnibus:                          nan   Durbin-Watson:                   1.161\n",
      "Prob(Omnibus):                    nan   Jarque-Bera (JB):                0.557\n",
      "Skew:                           0.409   Prob(JB):                        0.757\n",
      "Kurtosis:                       1.885   Cond. No.                         1.48\n",
      "==============================================================================\n",
      "\n",
      "Notes:\n",
      "[1] Standard Errors assume that the covariance matrix of the errors is correctly specified.\n"
     ]
    },
    {
     "name": "stderr",
     "output_type": "stream",
     "text": [
      "/opt/homebrew/Caskroom/miniforge/base/envs/conda_env/lib/python3.8/site-packages/statsmodels/stats/stattools.py:74: ValueWarning: omni_normtest is not valid with less than 8 observations; 7 samples were given.\n",
      "  warn(\"omni_normtest is not valid with less than 8 observations; %i \"\n"
     ]
    }
   ],
   "source": [
    "lm = smf.ols(formula = \"Close_Doge_Rescaled~ polarity\", data=dogecoin).fit()\n",
    "print (lm.summary())"
   ]
  },
  {
   "cell_type": "markdown",
   "id": "8c921469",
   "metadata": {},
   "source": [
    "### *LAG = 1*"
   ]
  },
  {
   "cell_type": "markdown",
   "id": "d6486067",
   "metadata": {},
   "source": [
    "#### Create a subset for each stock in order not to drop values for one stock in case another one appeared later \n",
    "E.g. Do not lose values for Tesla from 2010 till 2017 just because Dogecoin was not there in 2010 :)"
   ]
  },
  {
   "cell_type": "code",
   "execution_count": 40,
   "id": "06f06f0e",
   "metadata": {},
   "outputs": [],
   "source": [
    "tesla.reset_index(inplace=True)\n",
    "bitcoin.reset_index(inplace=True)\n",
    "dogecoin.reset_index(inplace=True)"
   ]
  },
  {
   "cell_type": "code",
   "execution_count": 41,
   "id": "13927617",
   "metadata": {},
   "outputs": [],
   "source": [
    "Tsla_lags = tesla[['date', 'simple_return_Tsla_lag', 'log_return_Tsla_lag', 'Close_Tsla_Rescaled_lag', \n",
    "                     'compound_lag', 'polarity_lag1', 'Close_Tsla', 'Volume_Tsla', \n",
    "                     'simple_return_Tsla', 'log_return_Tsla', 'Close_Tsla_Rescaled']]\n",
    "# Tsla_lags\n",
    "\n",
    "\n",
    "Btc_lags = bitcoin[['date', 'simple_return_Btc_lag', 'log_return_Btc_lag', 'Close_Btc_Rescaled_lag', \n",
    "                     'compound_lag', 'polarity_lag1', 'Close_Btc', 'Volume_Btc', \n",
    "                    'simple_return_Btc', 'log_return_Btc','Close_Btc_Rescaled']]\n",
    "# Btc_lags\n",
    "\n",
    "\n",
    "Doge_lags = dogecoin[['date', 'simple_return_Doge_lag', 'log_return_Doge_lag', 'Close_Doge_Rescaled_lag', \n",
    "                     'compound_lag', 'polarity_lag1', 'Close_Doge', 'Volume_Doge', \n",
    "                     'simple_return_Doge', 'log_return_Doge','Close_Doge_Rescaled']]\n",
    "# Doge_lags"
   ]
  },
  {
   "cell_type": "code",
   "execution_count": 42,
   "id": "5f82c5a4",
   "metadata": {},
   "outputs": [],
   "source": [
    "# Drop first observation, they don't have any values because of the lag\n",
    "Doge_lags = Doge_lags.dropna()\n",
    "# Doge_lags\n",
    "\n",
    "Btc_lags = Btc_lags.dropna()\n",
    "# Btc_lags\n",
    "\n",
    "Tsla_lags = Tsla_lags.dropna()\n",
    "# Tsla_lags"
   ]
  },
  {
   "cell_type": "code",
   "execution_count": 43,
   "id": "0863547a",
   "metadata": {},
   "outputs": [],
   "source": [
    "Tsla_lags.set_index('date', inplace=True)\n",
    "Btc_lags.set_index('date', inplace=True)\n",
    "Doge_lags.set_index('date', inplace=True)"
   ]
  },
  {
   "cell_type": "code",
   "execution_count": 44,
   "id": "2457a6ce",
   "metadata": {},
   "outputs": [
    {
     "data": {
      "text/plain": [
       "Index(['simple_return_Tsla_lag', 'log_return_Tsla_lag',\n",
       "       'Close_Tsla_Rescaled_lag', 'compound_lag', 'polarity_lag1',\n",
       "       'Close_Tsla', 'Volume_Tsla', 'simple_return_Tsla', 'log_return_Tsla',\n",
       "       'Close_Tsla_Rescaled'],\n",
       "      dtype='object')"
      ]
     },
     "execution_count": 44,
     "metadata": {},
     "output_type": "execute_result"
    }
   ],
   "source": [
    "Tsla_lags.columns"
   ]
  },
  {
   "cell_type": "markdown",
   "id": "656c065a",
   "metadata": {},
   "source": [
    "### Question: Is there any correlation between sentiments and Tesla Stocks? For both close price and returns with lag = 1"
   ]
  },
  {
   "cell_type": "markdown",
   "id": "b064432f",
   "metadata": {},
   "source": [
    "#### Scatter plot between Sentiment and Simple Returns, Polarity vs Simple Returns, lag = 1"
   ]
  },
  {
   "cell_type": "code",
   "execution_count": 45,
   "id": "5d1e7d57",
   "metadata": {},
   "outputs": [
    {
     "data": {
      "image/png": "[encoded data removed]",
      "text/plain": [
       "<Figure size 1008x576 with 2 Axes>"
      ]
     },
     "metadata": {
      "needs_background": "light"
     },
     "output_type": "display_data"
    }
   ],
   "source": [
    "fig, ax = plt.subplots(1,2, figsize = (14, 8))\n",
    "\n",
    "ax0 = plt.subplot(2, 2, 1)\n",
    "ax0.plot(Tsla_lags['compound_lag'],Tsla_lags['simple_return_Tsla_lag'], 'o',c='r')\n",
    "plt.ylabel( 'simple_return_Tsla_lag' )\n",
    "plt.xlabel( 'Sentiment lag = 1' )\n",
    "plt.title('Sentiment vs. Simple Return for Tesla, lag = 1')\n",
    "\n",
    "ax1 = plt.subplot(2, 2, 2)\n",
    "ax1.plot(Tsla_lags['polarity_lag1'],Tsla_lags['simple_return_Tsla_lag'], 'o',c='r')\n",
    "plt.ylabel( 'simple_return_Tsla_lag' )\n",
    "plt.xlabel( 'Polarity lag = 1' )\n",
    "plt.title('Polarity vs. Simple Return for Tesla, lag = 1')\n",
    "\n",
    "plt.show()"
   ]
  },
  {
   "cell_type": "markdown",
   "id": "570df62d",
   "metadata": {},
   "source": [
    "#### Linear Regression Analysis between Simple Returns and Compound Sentiment Indicator, lag = 1"
   ]
  },
  {
   "cell_type": "code",
   "execution_count": 46,
   "id": "430c6abc",
   "metadata": {},
   "outputs": [
    {
     "name": "stdout",
     "output_type": "stream",
     "text": [
      "                              OLS Regression Results                              \n",
      "==================================================================================\n",
      "Dep. Variable:     simple_return_Tsla_lag   R-squared:                       0.000\n",
      "Model:                                OLS   Adj. R-squared:                 -0.002\n",
      "Method:                     Least Squares   F-statistic:                    0.1247\n",
      "Date:                    Wed, 07 Jun 2023   Prob (F-statistic):              0.724\n",
      "Time:                            15:04:17   Log-Likelihood:                 843.53\n",
      "No. Observations:                     485   AIC:                            -1683.\n",
      "Df Residuals:                         483   BIC:                            -1675.\n",
      "Df Model:                               1                                         \n",
      "Covariance Type:                nonrobust                                         \n",
      "================================================================================\n",
      "                   coef    std err          t      P>|t|      [0.025      0.975]\n",
      "--------------------------------------------------------------------------------\n",
      "Intercept        0.0069      0.002      2.785      0.006       0.002       0.012\n",
      "compound_lag     0.0018      0.005      0.353      0.724      -0.008       0.012\n",
      "==============================================================================\n",
      "Omnibus:                      143.913   Durbin-Watson:                   1.859\n",
      "Prob(Omnibus):                  0.000   Jarque-Bera (JB):              543.775\n",
      "Skew:                           1.307   Prob(JB):                    8.33e-119\n",
      "Kurtosis:                       7.480   Cond. No.                         2.91\n",
      "==============================================================================\n",
      "\n",
      "Notes:\n",
      "[1] Standard Errors assume that the covariance matrix of the errors is correctly specified.\n"
     ]
    }
   ],
   "source": [
    "lm = smf.ols(formula = \"simple_return_Tsla_lag ~ compound_lag\", data=Tsla_lags).fit()\n",
    "print (lm.summary())"
   ]
  },
  {
   "cell_type": "code",
   "execution_count": 47,
   "id": "90bd7ea2",
   "metadata": {},
   "outputs": [
    {
     "name": "stdout",
     "output_type": "stream",
     "text": [
      "                            OLS Regression Results                            \n",
      "==============================================================================\n",
      "Dep. Variable:     simple_return_Tsla   R-squared:                       0.024\n",
      "Model:                            OLS   Adj. R-squared:                  0.020\n",
      "Method:                 Least Squares   F-statistic:                     6.022\n",
      "Date:                Wed, 07 Jun 2023   Prob (F-statistic):            0.00261\n",
      "Time:                        15:04:17   Log-Likelihood:                 904.88\n",
      "No. Observations:                 485   AIC:                            -1804.\n",
      "Df Residuals:                     482   BIC:                            -1791.\n",
      "Df Model:                           2                                         \n",
      "Covariance Type:            nonrobust                                         \n",
      "==========================================================================================\n",
      "                             coef    std err          t      P>|t|      [0.025      0.975]\n",
      "------------------------------------------------------------------------------------------\n",
      "Intercept                  0.0017      0.002      0.785      0.433      -0.003       0.006\n",
      "simple_return_Tsla_lag     0.1037      0.040      2.584      0.010       0.025       0.183\n",
      "compound_lag               0.0102      0.004      2.275      0.023       0.001       0.019\n",
      "==============================================================================\n",
      "Omnibus:                       22.986   Durbin-Watson:                   2.003\n",
      "Prob(Omnibus):                  0.000   Jarque-Bera (JB):               48.992\n",
      "Skew:                           0.240   Prob(JB):                     2.30e-11\n",
      "Kurtosis:                       4.481   Cond. No.                         24.8\n",
      "==============================================================================\n",
      "\n",
      "Notes:\n",
      "[1] Standard Errors assume that the covariance matrix of the errors is correctly specified.\n"
     ]
    }
   ],
   "source": [
    "lm = smf.ols(formula = \"simple_return_Tsla ~ simple_return_Tsla_lag + compound_lag\", data=Tsla_lags).fit()\n",
    "print (lm.summary())"
   ]
  },
  {
   "cell_type": "markdown",
   "id": "01cb96a5",
   "metadata": {},
   "source": [
    "#### Linear Regression Analysis between Simple Returns and Polarity Indicator, lag = 1"
   ]
  },
  {
   "cell_type": "code",
   "execution_count": 48,
   "id": "5c8a6a73",
   "metadata": {},
   "outputs": [
    {
     "name": "stdout",
     "output_type": "stream",
     "text": [
      "                              OLS Regression Results                              \n",
      "==================================================================================\n",
      "Dep. Variable:     simple_return_Tsla_lag   R-squared:                       0.002\n",
      "Model:                                OLS   Adj. R-squared:                 -0.001\n",
      "Method:                     Least Squares   F-statistic:                    0.7457\n",
      "Date:                    Wed, 07 Jun 2023   Prob (F-statistic):              0.388\n",
      "Time:                            15:04:17   Log-Likelihood:                 843.84\n",
      "No. Observations:                     485   AIC:                            -1684.\n",
      "Df Residuals:                         483   BIC:                            -1675.\n",
      "Df Model:                               1                                         \n",
      "Covariance Type:                nonrobust                                         \n",
      "=================================================================================\n",
      "                    coef    std err          t      P>|t|      [0.025      0.975]\n",
      "---------------------------------------------------------------------------------\n",
      "Intercept         0.0061      0.003      2.420      0.016       0.001       0.011\n",
      "polarity_lag1     0.0026      0.003      0.864      0.388      -0.003       0.008\n",
      "==============================================================================\n",
      "Omnibus:                      143.965   Durbin-Watson:                   1.864\n",
      "Prob(Omnibus):                  0.000   Jarque-Bera (JB):              548.404\n",
      "Skew:                           1.305   Prob(JB):                    8.24e-120\n",
      "Kurtosis:                       7.509   Cond. No.                         2.19\n",
      "==============================================================================\n",
      "\n",
      "Notes:\n",
      "[1] Standard Errors assume that the covariance matrix of the errors is correctly specified.\n"
     ]
    }
   ],
   "source": [
    "lm = smf.ols(formula = \"simple_return_Tsla_lag ~ polarity_lag1\", data=Tsla_lags).fit()\n",
    "print (lm.summary())"
   ]
  },
  {
   "cell_type": "code",
   "execution_count": 49,
   "id": "e71614a1",
   "metadata": {},
   "outputs": [
    {
     "name": "stdout",
     "output_type": "stream",
     "text": [
      "                            OLS Regression Results                            \n",
      "==============================================================================\n",
      "Dep. Variable:     simple_return_Tsla   R-squared:                       0.020\n",
      "Model:                            OLS   Adj. R-squared:                  0.016\n",
      "Method:                 Least Squares   F-statistic:                     4.822\n",
      "Date:                Wed, 07 Jun 2023   Prob (F-statistic):            0.00844\n",
      "Time:                        15:04:18   Log-Likelihood:                 903.70\n",
      "No. Observations:                 485   AIC:                            -1801.\n",
      "Df Residuals:                     482   BIC:                            -1789.\n",
      "Df Model:                           2                                         \n",
      "Covariance Type:            nonrobust                                         \n",
      "==========================================================================================\n",
      "                             coef    std err          t      P>|t|      [0.025      0.975]\n",
      "------------------------------------------------------------------------------------------\n",
      "Intercept                  0.0025      0.002      1.115      0.265      -0.002       0.007\n",
      "simple_return_Tsla_lag     0.1025      0.040      2.547      0.011       0.023       0.182\n",
      "polarity_lag1              0.0044      0.003      1.675      0.095      -0.001       0.010\n",
      "==============================================================================\n",
      "Omnibus:                       23.526   Durbin-Watson:                   2.003\n",
      "Prob(Omnibus):                  0.000   Jarque-Bera (JB):               49.641\n",
      "Skew:                           0.253   Prob(JB):                     1.66e-11\n",
      "Kurtosis:                       4.483   Cond. No.                         28.0\n",
      "==============================================================================\n",
      "\n",
      "Notes:\n",
      "[1] Standard Errors assume that the covariance matrix of the errors is correctly specified.\n"
     ]
    }
   ],
   "source": [
    "lm = smf.ols(formula = \"simple_return_Tsla ~ simple_return_Tsla_lag + polarity_lag1\", data=Tsla_lags).fit()\n",
    "print (lm.summary())"
   ]
  },
  {
   "cell_type": "markdown",
   "id": "50196e36",
   "metadata": {},
   "source": [
    "#### Scatter plot between Sentiment and Log Returns, Polarity vs Log Returns, lag = 1"
   ]
  },
  {
   "cell_type": "code",
   "execution_count": 50,
   "id": "bfdd5171",
   "metadata": {},
   "outputs": [
    {
     "data": {
      "image/png": "[encoded data removed]",
      "text/plain": [
       "<Figure size 1008x576 with 2 Axes>"
      ]
     },
     "metadata": {
      "needs_background": "light"
     },
     "output_type": "display_data"
    }
   ],
   "source": [
    "fig, ax = plt.subplots(1,2, figsize = (14, 8))\n",
    "\n",
    "ax0 = plt.subplot(2, 2, 1)\n",
    "ax0.plot(Tsla_lags['compound_lag'],Tsla_lags['log_return_Tsla_lag'], 'o',c='r')\n",
    "plt.ylabel( 'log_return_Tsla_lag' )\n",
    "plt.xlabel( 'Sentiment lag = 1' )\n",
    "plt.title('Sentiment vs. Log Return for Tesla, lag = 1')\n",
    "\n",
    "ax1 = plt.subplot(2, 2, 2)\n",
    "ax1.plot(Tsla_lags['polarity_lag1'],Tsla_lags['log_return_Tsla_lag'], 'o',c='r')\n",
    "plt.ylabel( 'log_return_Tsla_lag' )\n",
    "plt.xlabel( 'Polarity lag = 1' )\n",
    "plt.title('Polarity vs. Log Return for Tesla, lag = 1')\n",
    "\n",
    "plt.show()"
   ]
  },
  {
   "cell_type": "markdown",
   "id": "b6198408",
   "metadata": {},
   "source": [
    "#### Linear Regression Analysis between Log Returns and Compound Sentiment Indicator"
   ]
  },
  {
   "cell_type": "code",
   "execution_count": 51,
   "id": "b00ae1aa",
   "metadata": {},
   "outputs": [
    {
     "name": "stdout",
     "output_type": "stream",
     "text": [
      "                             OLS Regression Results                            \n",
      "===============================================================================\n",
      "Dep. Variable:     log_return_Tsla_lag   R-squared:                       0.000\n",
      "Model:                             OLS   Adj. R-squared:                 -0.002\n",
      "Method:                  Least Squares   F-statistic:                    0.1337\n",
      "Date:                 Wed, 07 Jun 2023   Prob (F-statistic):              0.715\n",
      "Time:                         15:04:18   Log-Likelihood:                 858.24\n",
      "No. Observations:                  485   AIC:                            -1712.\n",
      "Df Residuals:                      483   BIC:                            -1704.\n",
      "Df Model:                            1                                         \n",
      "Covariance Type:             nonrobust                                         \n",
      "================================================================================\n",
      "                   coef    std err          t      P>|t|      [0.025      0.975]\n",
      "--------------------------------------------------------------------------------\n",
      "Intercept        0.0060      0.002      2.502      0.013       0.001       0.011\n",
      "compound_lag     0.0018      0.005      0.366      0.715      -0.008       0.011\n",
      "==============================================================================\n",
      "Omnibus:                      106.878   Durbin-Watson:                   1.870\n",
      "Prob(Omnibus):                  0.000   Jarque-Bera (JB):              325.328\n",
      "Skew:                           1.026   Prob(JB):                     2.27e-71\n",
      "Kurtosis:                       6.448   Cond. No.                         2.91\n",
      "==============================================================================\n",
      "\n",
      "Notes:\n",
      "[1] Standard Errors assume that the covariance matrix of the errors is correctly specified.\n"
     ]
    }
   ],
   "source": [
    "lm = smf.ols(formula = \"log_return_Tsla_lag ~ compound_lag\", data=Tsla_lags).fit()\n",
    "print (lm.summary())"
   ]
  },
  {
   "cell_type": "code",
   "execution_count": 52,
   "id": "8a01a17b",
   "metadata": {},
   "outputs": [
    {
     "name": "stdout",
     "output_type": "stream",
     "text": [
      "                            OLS Regression Results                            \n",
      "==============================================================================\n",
      "Dep. Variable:        log_return_Tsla   R-squared:                       0.021\n",
      "Model:                            OLS   Adj. R-squared:                  0.017\n",
      "Method:                 Least Squares   F-statistic:                     5.153\n",
      "Date:                Wed, 07 Jun 2023   Prob (F-statistic):            0.00610\n",
      "Time:                        15:04:18   Log-Likelihood:                 909.21\n",
      "No. Observations:                 485   AIC:                            -1812.\n",
      "Df Residuals:                     482   BIC:                            -1800.\n",
      "Df Model:                           2                                         \n",
      "Covariance Type:            nonrobust                                         \n",
      "=======================================================================================\n",
      "                          coef    std err          t      P>|t|      [0.025      0.975]\n",
      "---------------------------------------------------------------------------------------\n",
      "Intercept               0.0013      0.002      0.593      0.553      -0.003       0.006\n",
      "log_return_Tsla_lag     0.0943      0.041      2.300      0.022       0.014       0.175\n",
      "compound_lag            0.0098      0.004      2.202      0.028       0.001       0.018\n",
      "==============================================================================\n",
      "Omnibus:                       17.932   Durbin-Watson:                   1.995\n",
      "Prob(Omnibus):                  0.000   Jarque-Bera (JB):               42.019\n",
      "Skew:                           0.058   Prob(JB):                     7.51e-10\n",
      "Kurtosis:                       4.437   Cond. No.                         25.6\n",
      "==============================================================================\n",
      "\n",
      "Notes:\n",
      "[1] Standard Errors assume that the covariance matrix of the errors is correctly specified.\n"
     ]
    }
   ],
   "source": [
    "lm = smf.ols(formula = \"log_return_Tsla ~ log_return_Tsla_lag + compound_lag\", data=Tsla_lags).fit()\n",
    "print (lm.summary())"
   ]
  },
  {
   "cell_type": "markdown",
   "id": "266e8d1c",
   "metadata": {},
   "source": [
    "#### Linear Regression Analysis between Log Returns and Polarity Indicator"
   ]
  },
  {
   "cell_type": "code",
   "execution_count": 53,
   "id": "9091be2c",
   "metadata": {},
   "outputs": [
    {
     "name": "stdout",
     "output_type": "stream",
     "text": [
      "                             OLS Regression Results                            \n",
      "===============================================================================\n",
      "Dep. Variable:     log_return_Tsla_lag   R-squared:                       0.002\n",
      "Model:                             OLS   Adj. R-squared:                 -0.001\n",
      "Method:                  Least Squares   F-statistic:                    0.7486\n",
      "Date:                 Wed, 07 Jun 2023   Prob (F-statistic):              0.387\n",
      "Time:                         15:04:18   Log-Likelihood:                 858.55\n",
      "No. Observations:                  485   AIC:                            -1713.\n",
      "Df Residuals:                      483   BIC:                            -1705.\n",
      "Df Model:                            1                                         \n",
      "Covariance Type:             nonrobust                                         \n",
      "=================================================================================\n",
      "                    coef    std err          t      P>|t|      [0.025      0.975]\n",
      "---------------------------------------------------------------------------------\n",
      "Intercept         0.0052      0.002      2.146      0.032       0.000       0.010\n",
      "polarity_lag1     0.0025      0.003      0.865      0.387      -0.003       0.008\n",
      "==============================================================================\n",
      "Omnibus:                      106.887   Durbin-Watson:                   1.875\n",
      "Prob(Omnibus):                  0.000   Jarque-Bera (JB):              328.821\n",
      "Skew:                           1.023   Prob(JB):                     3.96e-72\n",
      "Kurtosis:                       6.477   Cond. No.                         2.19\n",
      "==============================================================================\n",
      "\n",
      "Notes:\n",
      "[1] Standard Errors assume that the covariance matrix of the errors is correctly specified.\n"
     ]
    }
   ],
   "source": [
    "lm = smf.ols(formula = \"log_return_Tsla_lag ~ polarity_lag1\", data=Tsla_lags).fit()\n",
    "print (lm.summary())"
   ]
  },
  {
   "cell_type": "code",
   "execution_count": 54,
   "id": "e2eda001",
   "metadata": {},
   "outputs": [
    {
     "name": "stdout",
     "output_type": "stream",
     "text": [
      "                            OLS Regression Results                            \n",
      "==============================================================================\n",
      "Dep. Variable:        log_return_Tsla   R-squared:                       0.016\n",
      "Model:                            OLS   Adj. R-squared:                  0.012\n",
      "Method:                 Least Squares   F-statistic:                     4.012\n",
      "Date:                Wed, 07 Jun 2023   Prob (F-statistic):             0.0187\n",
      "Time:                        15:04:18   Log-Likelihood:                 908.08\n",
      "No. Observations:                 485   AIC:                            -1810.\n",
      "Df Residuals:                     482   BIC:                            -1798.\n",
      "Df Model:                           2                                         \n",
      "Covariance Type:            nonrobust                                         \n",
      "=======================================================================================\n",
      "                          coef    std err          t      P>|t|      [0.025      0.975]\n",
      "---------------------------------------------------------------------------------------\n",
      "Intercept               0.0020      0.002      0.923      0.357      -0.002       0.006\n",
      "log_return_Tsla_lag     0.0932      0.041      2.266      0.024       0.012       0.174\n",
      "polarity_lag1           0.0042      0.003      1.609      0.108      -0.001       0.009\n",
      "==============================================================================\n",
      "Omnibus:                       18.001   Durbin-Watson:                   1.995\n",
      "Prob(Omnibus):                  0.000   Jarque-Bera (JB):               41.865\n",
      "Skew:                           0.072   Prob(JB):                     8.11e-10\n",
      "Kurtosis:                       4.432   Cond. No.                         28.9\n",
      "==============================================================================\n",
      "\n",
      "Notes:\n",
      "[1] Standard Errors assume that the covariance matrix of the errors is correctly specified.\n"
     ]
    }
   ],
   "source": [
    "lm = smf.ols(formula = \"log_return_Tsla ~ log_return_Tsla_lag + polarity_lag1\", data=Tsla_lags).fit()\n",
    "print (lm.summary())"
   ]
  },
  {
   "cell_type": "markdown",
   "id": "86e711c7",
   "metadata": {},
   "source": [
    "#### Scatter plot between Sentiment and Close Price Rescaled, Polarity vs Close Price Rescaled"
   ]
  },
  {
   "cell_type": "code",
   "execution_count": 55,
   "id": "0c70537c",
   "metadata": {},
   "outputs": [
    {
     "data": {
      "image/png": "[encoded data removed]",
      "text/plain": [
       "<Figure size 1008x576 with 2 Axes>"
      ]
     },
     "metadata": {
      "needs_background": "light"
     },
     "output_type": "display_data"
    }
   ],
   "source": [
    "fig, ax = plt.subplots(1,2, figsize = (14, 8))\n",
    "\n",
    "ax0 = plt.subplot(2, 2, 1)\n",
    "ax0.plot(Tsla_lags['compound_lag'],Tsla_lags['Close_Tsla_Rescaled_lag'], 'o',c='r')\n",
    "plt.ylabel( 'Close_Tsla_Rescaled_lag' )\n",
    "plt.xlabel( 'Sentiment lag = 1' )\n",
    "plt.title('Sentiment vs. the Rescaled Close Price for Tesla, lag = 1')\n",
    "\n",
    "ax1 = plt.subplot(2, 2, 2)\n",
    "ax1.plot(Tsla_lags['polarity_lag1'],Tsla_lags['Close_Tsla_Rescaled_lag'], 'o',c='r')\n",
    "plt.ylabel( 'Close_Tsla_Rescaled' )\n",
    "plt.xlabel( 'Polarity lag = 1' )\n",
    "plt.title('Polarity vs. the Rescaled Close Price for Tesla, lag = 1')\n",
    "\n",
    "plt.show()"
   ]
  },
  {
   "cell_type": "markdown",
   "id": "dfdb000c",
   "metadata": {},
   "source": [
    "#### Linear Regression Analysis between Close Price Rescaled and Compound Sentiment Indicator"
   ]
  },
  {
   "cell_type": "code",
   "execution_count": 56,
   "id": "41859e0e",
   "metadata": {},
   "outputs": [
    {
     "name": "stdout",
     "output_type": "stream",
     "text": [
      "                               OLS Regression Results                              \n",
      "===================================================================================\n",
      "Dep. Variable:     Close_Tsla_Rescaled_lag   R-squared:                       0.002\n",
      "Model:                                 OLS   Adj. R-squared:                  0.000\n",
      "Method:                      Least Squares   F-statistic:                     1.005\n",
      "Date:                     Wed, 07 Jun 2023   Prob (F-statistic):              0.317\n",
      "Time:                             15:04:18   Log-Likelihood:                -53.227\n",
      "No. Observations:                      485   AIC:                             110.5\n",
      "Df Residuals:                          483   BIC:                             118.8\n",
      "Df Model:                                1                                         \n",
      "Covariance Type:                 nonrobust                                         \n",
      "================================================================================\n",
      "                   coef    std err          t      P>|t|      [0.025      0.975]\n",
      "--------------------------------------------------------------------------------\n",
      "Intercept        0.2506      0.016     15.823      0.000       0.219       0.282\n",
      "compound_lag    -0.0323      0.032     -1.002      0.317      -0.096       0.031\n",
      "==============================================================================\n",
      "Omnibus:                       69.427   Durbin-Watson:                   0.013\n",
      "Prob(Omnibus):                  0.000   Jarque-Bera (JB):               73.351\n",
      "Skew:                           0.894   Prob(JB):                     1.18e-16\n",
      "Kurtosis:                       2.342   Cond. No.                         2.91\n",
      "==============================================================================\n",
      "\n",
      "Notes:\n",
      "[1] Standard Errors assume that the covariance matrix of the errors is correctly specified.\n"
     ]
    }
   ],
   "source": [
    "lm = smf.ols(formula = \"Close_Tsla_Rescaled_lag ~ compound_lag\", data=Tsla_lags).fit()\n",
    "print (lm.summary())"
   ]
  },
  {
   "cell_type": "code",
   "execution_count": 57,
   "id": "45e69519",
   "metadata": {},
   "outputs": [
    {
     "name": "stdout",
     "output_type": "stream",
     "text": [
      "                             OLS Regression Results                            \n",
      "===============================================================================\n",
      "Dep. Variable:     Close_Tsla_Rescaled   R-squared:                       0.997\n",
      "Model:                             OLS   Adj. R-squared:                  0.997\n",
      "Method:                  Least Squares   F-statistic:                 7.974e+04\n",
      "Date:                 Wed, 07 Jun 2023   Prob (F-statistic):               0.00\n",
      "Time:                         15:04:18   Log-Likelihood:                 1353.2\n",
      "No. Observations:                  485   AIC:                            -2700.\n",
      "Df Residuals:                      482   BIC:                            -2688.\n",
      "Df Model:                            2                                         \n",
      "Covariance Type:             nonrobust                                         \n",
      "===========================================================================================\n",
      "                              coef    std err          t      P>|t|      [0.025      0.975]\n",
      "-------------------------------------------------------------------------------------------\n",
      "Intercept                   0.0008      0.001      0.706      0.481      -0.001       0.003\n",
      "Close_Tsla_Rescaled_lag     1.0000      0.003    398.942      0.000       0.995       1.005\n",
      "compound_lag                0.0003      0.002      0.174      0.862      -0.003       0.004\n",
      "==============================================================================\n",
      "Omnibus:                      119.627   Durbin-Watson:                   1.662\n",
      "Prob(Omnibus):                  0.000   Jarque-Bera (JB):             1493.968\n",
      "Skew:                          -0.674   Prob(JB):                         0.00\n",
      "Kurtosis:                      11.492   Cond. No.                         4.17\n",
      "==============================================================================\n",
      "\n",
      "Notes:\n",
      "[1] Standard Errors assume that the covariance matrix of the errors is correctly specified.\n"
     ]
    }
   ],
   "source": [
    "lm = smf.ols(formula = \"Close_Tsla_Rescaled ~ Close_Tsla_Rescaled_lag + compound_lag\", data=Tsla_lags).fit()\n",
    "print (lm.summary())"
   ]
  },
  {
   "cell_type": "markdown",
   "id": "9cd801b3",
   "metadata": {},
   "source": [
    "#### Linear Regression Analysis between Close Price Rescaled and Polarity Indicator"
   ]
  },
  {
   "cell_type": "code",
   "execution_count": 58,
   "id": "63fcc404",
   "metadata": {},
   "outputs": [
    {
     "name": "stdout",
     "output_type": "stream",
     "text": [
      "                               OLS Regression Results                              \n",
      "===================================================================================\n",
      "Dep. Variable:     Close_Tsla_Rescaled_lag   R-squared:                       0.002\n",
      "Model:                                 OLS   Adj. R-squared:                 -0.000\n",
      "Method:                      Least Squares   F-statistic:                    0.8549\n",
      "Date:                     Wed, 07 Jun 2023   Prob (F-statistic):              0.356\n",
      "Time:                             15:04:18   Log-Likelihood:                -53.302\n",
      "No. Observations:                      485   AIC:                             110.6\n",
      "Df Residuals:                          483   BIC:                             119.0\n",
      "Df Model:                                1                                         \n",
      "Covariance Type:                 nonrobust                                         \n",
      "=================================================================================\n",
      "                    coef    std err          t      P>|t|      [0.025      0.975]\n",
      "---------------------------------------------------------------------------------\n",
      "Intercept         0.2501      0.016     15.602      0.000       0.219       0.282\n",
      "polarity_lag1    -0.0176      0.019     -0.925      0.356      -0.055       0.020\n",
      "==============================================================================\n",
      "Omnibus:                       69.550   Durbin-Watson:                   0.013\n",
      "Prob(Omnibus):                  0.000   Jarque-Bera (JB):               73.396\n",
      "Skew:                           0.894   Prob(JB):                     1.15e-16\n",
      "Kurtosis:                       2.341   Cond. No.                         2.19\n",
      "==============================================================================\n",
      "\n",
      "Notes:\n",
      "[1] Standard Errors assume that the covariance matrix of the errors is correctly specified.\n"
     ]
    }
   ],
   "source": [
    "lm = smf.ols(formula = \"Close_Tsla_Rescaled_lag ~ polarity_lag1\", data=Tsla_lags).fit()\n",
    "print (lm.summary())"
   ]
  },
  {
   "cell_type": "code",
   "execution_count": 59,
   "id": "a517f2e0",
   "metadata": {},
   "outputs": [
    {
     "name": "stdout",
     "output_type": "stream",
     "text": [
      "                             OLS Regression Results                            \n",
      "===============================================================================\n",
      "Dep. Variable:     Close_Tsla_Rescaled   R-squared:                       0.997\n",
      "Model:                             OLS   Adj. R-squared:                  0.997\n",
      "Method:                  Least Squares   F-statistic:                 7.974e+04\n",
      "Date:                 Wed, 07 Jun 2023   Prob (F-statistic):               0.00\n",
      "Time:                         15:04:18   Log-Likelihood:                 1353.2\n",
      "No. Observations:                  485   AIC:                            -2700.\n",
      "Df Residuals:                      482   BIC:                            -2688.\n",
      "Df Model:                            2                                         \n",
      "Covariance Type:             nonrobust                                         \n",
      "===========================================================================================\n",
      "                              coef    std err          t      P>|t|      [0.025      0.975]\n",
      "-------------------------------------------------------------------------------------------\n",
      "Intercept                   0.0008      0.001      0.701      0.484      -0.001       0.003\n",
      "Close_Tsla_Rescaled_lag     1.0000      0.003    399.002      0.000       0.995       1.005\n",
      "polarity_lag1               0.0002      0.001      0.170      0.865      -0.002       0.002\n",
      "==============================================================================\n",
      "Omnibus:                      119.596   Durbin-Watson:                   1.662\n",
      "Prob(Omnibus):                  0.000   Jarque-Bera (JB):             1492.921\n",
      "Skew:                          -0.673   Prob(JB):                         0.00\n",
      "Kurtosis:                      11.489   Cond. No.                         4.65\n",
      "==============================================================================\n",
      "\n",
      "Notes:\n",
      "[1] Standard Errors assume that the covariance matrix of the errors is correctly specified.\n"
     ]
    }
   ],
   "source": [
    "lm = smf.ols(formula = \"Close_Tsla_Rescaled ~ Close_Tsla_Rescaled_lag + polarity_lag1\", data=Tsla_lags).fit()\n",
    "print (lm.summary())"
   ]
  },
  {
   "cell_type": "markdown",
   "id": "05ebdeb9",
   "metadata": {},
   "source": [
    "### Question: Is there any correlation between sentiments and Bitcoin Stocks? For both close price and returns with lag = 1"
   ]
  },
  {
   "cell_type": "markdown",
   "id": "c6f218a4",
   "metadata": {},
   "source": [
    "#### Scatter plot between Sentiment and Simple Returns, Polarity vs Simple Returns\n",
    "\n",
    "Source for colors: CSS Colors, matplotlib documentation, https://matplotlib.org/stable/gallery/color/named_colors.html"
   ]
  },
  {
   "cell_type": "code",
   "execution_count": 60,
   "id": "f2a64aea",
   "metadata": {},
   "outputs": [
    {
     "data": {
      "image/png": "[encoded data removed]",
      "text/plain": [
       "<Figure size 1008x576 with 2 Axes>"
      ]
     },
     "metadata": {
      "needs_background": "light"
     },
     "output_type": "display_data"
    }
   ],
   "source": [
    "fig, ax = plt.subplots(1,2, figsize = (14, 8))\n",
    "\n",
    "ax0 = plt.subplot(2, 2, 1)\n",
    "ax0.plot(Btc_lags['compound_lag'],Btc_lags['simple_return_Btc_lag'], 'o',c='sandybrown')\n",
    "plt.ylabel( 'simple_return_Btc_lag' )\n",
    "plt.xlabel( 'Sentiment lag = 1' )\n",
    "plt.title('Sentiment vs. Simple Return for Bitcoin, lag = 1')\n",
    "\n",
    "ax1 = plt.subplot(2, 2, 2)\n",
    "ax1.plot(Btc_lags['polarity_lag1'],Btc_lags['simple_return_Btc_lag'], 'o',c='sandybrown')\n",
    "plt.ylabel( 'simple_return_Btc_lag' )\n",
    "plt.xlabel( 'Polarity lag = 1' )\n",
    "plt.title('Polarity vs. Simple Return for Bitcoin, lag = 1')\n",
    "\n",
    "plt.show()"
   ]
  },
  {
   "cell_type": "markdown",
   "id": "6c69d469",
   "metadata": {},
   "source": [
    "#### Linear Regression Analysis between Simple Returns and Compound Sentiment Indicator"
   ]
  },
  {
   "cell_type": "code",
   "execution_count": 61,
   "id": "92466aef",
   "metadata": {},
   "outputs": [
    {
     "name": "stdout",
     "output_type": "stream",
     "text": [
      "                              OLS Regression Results                             \n",
      "=================================================================================\n",
      "Dep. Variable:     simple_return_Btc_lag   R-squared:                       0.078\n",
      "Model:                               OLS   Adj. R-squared:                 -0.076\n",
      "Method:                    Least Squares   F-statistic:                    0.5084\n",
      "Date:                   Wed, 07 Jun 2023   Prob (F-statistic):              0.503\n",
      "Time:                           15:04:18   Log-Likelihood:                 10.738\n",
      "No. Observations:                      8   AIC:                            -17.48\n",
      "Df Residuals:                          6   BIC:                            -17.32\n",
      "Df Model:                              1                                         \n",
      "Covariance Type:               nonrobust                                         \n",
      "================================================================================\n",
      "                   coef    std err          t      P>|t|      [0.025      0.975]\n",
      "--------------------------------------------------------------------------------\n",
      "Intercept        0.0177      0.032      0.554      0.600      -0.061       0.096\n",
      "compound_lag     0.0460      0.065      0.713      0.503      -0.112       0.204\n",
      "==============================================================================\n",
      "Omnibus:                        1.207   Durbin-Watson:                   2.451\n",
      "Prob(Omnibus):                  0.547   Jarque-Bera (JB):                0.579\n",
      "Skew:                          -0.609   Prob(JB):                        0.749\n",
      "Kurtosis:                       2.497   Cond. No.                         2.75\n",
      "==============================================================================\n",
      "\n",
      "Notes:\n",
      "[1] Standard Errors assume that the covariance matrix of the errors is correctly specified.\n"
     ]
    },
    {
     "name": "stderr",
     "output_type": "stream",
     "text": [
      "/opt/homebrew/Caskroom/miniforge/base/envs/conda_env/lib/python3.8/site-packages/scipy/stats/stats.py:1541: UserWarning: kurtosistest only valid for n>=20 ... continuing anyway, n=8\n",
      "  warnings.warn(\"kurtosistest only valid for n>=20 ... continuing \"\n"
     ]
    }
   ],
   "source": [
    "lm = smf.ols(formula = \"simple_return_Btc_lag ~ compound_lag\", data=Btc_lags).fit()\n",
    "print (lm.summary())"
   ]
  },
  {
   "cell_type": "code",
   "execution_count": 62,
   "id": "3f96d0f9",
   "metadata": {},
   "outputs": [
    {
     "name": "stdout",
     "output_type": "stream",
     "text": [
      "                            OLS Regression Results                            \n",
      "==============================================================================\n",
      "Dep. Variable:      simple_return_Btc   R-squared:                       0.355\n",
      "Model:                            OLS   Adj. R-squared:                  0.097\n",
      "Method:                 Least Squares   F-statistic:                     1.374\n",
      "Date:                Wed, 07 Jun 2023   Prob (F-statistic):              0.334\n",
      "Time:                        15:04:18   Log-Likelihood:                 18.698\n",
      "No. Observations:                   8   AIC:                            -31.40\n",
      "Df Residuals:                       5   BIC:                            -31.16\n",
      "Df Model:                           2                                         \n",
      "Covariance Type:            nonrobust                                         \n",
      "=========================================================================================\n",
      "                            coef    std err          t      P>|t|      [0.025      0.975]\n",
      "-----------------------------------------------------------------------------------------\n",
      "Intercept                -0.0350      0.013     -2.631      0.046      -0.069      -0.001\n",
      "simple_return_Btc_lag    -0.2178      0.165     -1.317      0.245      -0.643       0.207\n",
      "compound_lag              0.0363      0.027      1.335      0.239      -0.034       0.106\n",
      "==============================================================================\n",
      "Omnibus:                        4.820   Durbin-Watson:                   2.936\n",
      "Prob(Omnibus):                  0.090   Jarque-Bera (JB):                1.365\n",
      "Skew:                          -0.989   Prob(JB):                        0.505\n",
      "Kurtosis:                       3.430   Cond. No.                         16.6\n",
      "==============================================================================\n",
      "\n",
      "Notes:\n",
      "[1] Standard Errors assume that the covariance matrix of the errors is correctly specified.\n"
     ]
    },
    {
     "name": "stderr",
     "output_type": "stream",
     "text": [
      "/opt/homebrew/Caskroom/miniforge/base/envs/conda_env/lib/python3.8/site-packages/scipy/stats/stats.py:1541: UserWarning: kurtosistest only valid for n>=20 ... continuing anyway, n=8\n",
      "  warnings.warn(\"kurtosistest only valid for n>=20 ... continuing \"\n"
     ]
    }
   ],
   "source": [
    "lm = smf.ols(formula = \"simple_return_Btc ~ simple_return_Btc_lag + compound_lag\", data=Btc_lags).fit()\n",
    "print (lm.summary())"
   ]
  },
  {
   "cell_type": "markdown",
   "id": "b06ea314",
   "metadata": {},
   "source": [
    "#### Linear Regression Analysis between Simple Returns and Polarity Indicator"
   ]
  },
  {
   "cell_type": "code",
   "execution_count": 63,
   "id": "cc0ab240",
   "metadata": {},
   "outputs": [
    {
     "name": "stdout",
     "output_type": "stream",
     "text": [
      "                              OLS Regression Results                             \n",
      "=================================================================================\n",
      "Dep. Variable:     simple_return_Btc_lag   R-squared:                       0.056\n",
      "Model:                               OLS   Adj. R-squared:                 -0.101\n",
      "Method:                    Least Squares   F-statistic:                    0.3579\n",
      "Date:                   Wed, 07 Jun 2023   Prob (F-statistic):              0.572\n",
      "Time:                           15:04:18   Log-Likelihood:                 10.645\n",
      "No. Observations:                      8   AIC:                            -17.29\n",
      "Df Residuals:                          6   BIC:                            -17.13\n",
      "Df Model:                              1                                         \n",
      "Covariance Type:               nonrobust                                         \n",
      "=================================================================================\n",
      "                    coef    std err          t      P>|t|      [0.025      0.975]\n",
      "---------------------------------------------------------------------------------\n",
      "Intercept         0.0207      0.032      0.657      0.536      -0.056       0.098\n",
      "polarity_lag1     0.0217      0.036      0.598      0.572      -0.067       0.111\n",
      "==============================================================================\n",
      "Omnibus:                        1.803   Durbin-Watson:                   2.577\n",
      "Prob(Omnibus):                  0.406   Jarque-Bera (JB):                0.779\n",
      "Skew:                          -0.737   Prob(JB):                        0.677\n",
      "Kurtosis:                       2.593   Cond. No.                         1.92\n",
      "==============================================================================\n",
      "\n",
      "Notes:\n",
      "[1] Standard Errors assume that the covariance matrix of the errors is correctly specified.\n"
     ]
    },
    {
     "name": "stderr",
     "output_type": "stream",
     "text": [
      "/opt/homebrew/Caskroom/miniforge/base/envs/conda_env/lib/python3.8/site-packages/scipy/stats/stats.py:1541: UserWarning: kurtosistest only valid for n>=20 ... continuing anyway, n=8\n",
      "  warnings.warn(\"kurtosistest only valid for n>=20 ... continuing \"\n"
     ]
    }
   ],
   "source": [
    "lm = smf.ols(formula = \"simple_return_Btc_lag ~ polarity_lag1\", data=Btc_lags).fit()\n",
    "print (lm.summary())"
   ]
  },
  {
   "cell_type": "code",
   "execution_count": 64,
   "id": "ce6f1c9c",
   "metadata": {},
   "outputs": [
    {
     "name": "stdout",
     "output_type": "stream",
     "text": [
      "                            OLS Regression Results                            \n",
      "==============================================================================\n",
      "Dep. Variable:      simple_return_Btc   R-squared:                       0.401\n",
      "Model:                            OLS   Adj. R-squared:                  0.162\n",
      "Method:                 Least Squares   F-statistic:                     1.675\n",
      "Date:                Wed, 07 Jun 2023   Prob (F-statistic):              0.277\n",
      "Time:                        15:04:18   Log-Likelihood:                 18.997\n",
      "No. Observations:                   8   AIC:                            -31.99\n",
      "Df Residuals:                       5   BIC:                            -31.76\n",
      "Df Model:                           2                                         \n",
      "Covariance Type:            nonrobust                                         \n",
      "=========================================================================================\n",
      "                            coef    std err          t      P>|t|      [0.025      0.975]\n",
      "-----------------------------------------------------------------------------------------\n",
      "Intercept                -0.0351      0.013     -2.791      0.038      -0.067      -0.003\n",
      "simple_return_Btc_lag    -0.2129      0.157     -1.352      0.234      -0.618       0.192\n",
      "polarity_lag1             0.0219      0.014      1.519      0.189      -0.015       0.059\n",
      "==============================================================================\n",
      "Omnibus:                        5.529   Durbin-Watson:                   3.077\n",
      "Prob(Omnibus):                  0.063   Jarque-Bera (JB):                1.591\n",
      "Skew:                          -1.057   Prob(JB):                        0.451\n",
      "Kurtosis:                       3.552   Cond. No.                         18.4\n",
      "==============================================================================\n",
      "\n",
      "Notes:\n",
      "[1] Standard Errors assume that the covariance matrix of the errors is correctly specified.\n"
     ]
    },
    {
     "name": "stderr",
     "output_type": "stream",
     "text": [
      "/opt/homebrew/Caskroom/miniforge/base/envs/conda_env/lib/python3.8/site-packages/scipy/stats/stats.py:1541: UserWarning: kurtosistest only valid for n>=20 ... continuing anyway, n=8\n",
      "  warnings.warn(\"kurtosistest only valid for n>=20 ... continuing \"\n"
     ]
    }
   ],
   "source": [
    "lm = smf.ols(formula = \"simple_return_Btc ~ simple_return_Btc_lag + polarity_lag1\", data=Btc_lags).fit()\n",
    "print (lm.summary())"
   ]
  },
  {
   "cell_type": "markdown",
   "id": "b48a4169",
   "metadata": {},
   "source": [
    "#### Scatter plot between Sentiment and Log Returns, Polarity vs Log Returns"
   ]
  },
  {
   "cell_type": "code",
   "execution_count": 65,
   "id": "c8c156c4",
   "metadata": {},
   "outputs": [
    {
     "data": {
      "image/png": "[encoded data removed]",
      "text/plain": [
       "<Figure size 1008x576 with 2 Axes>"
      ]
     },
     "metadata": {
      "needs_background": "light"
     },
     "output_type": "display_data"
    }
   ],
   "source": [
    "fig, ax = plt.subplots(1,2, figsize = (14, 8))\n",
    "\n",
    "ax0 = plt.subplot(2, 2, 1)\n",
    "ax0.plot(Btc_lags['compound_lag'],Btc_lags['log_return_Btc_lag'], 'o',c='sandybrown')\n",
    "plt.ylabel( 'log_return_Btc_lag' )\n",
    "plt.xlabel( 'Sentiment lag = 1' )\n",
    "plt.title('Sentiment vs. Log Return for Bitcoin, lag = 1')\n",
    "\n",
    "ax1 = plt.subplot(2, 2, 2)\n",
    "ax1.plot(Btc_lags['polarity_lag1'],Btc_lags['log_return_Btc_lag'], 'o',c='sandybrown')\n",
    "plt.ylabel( 'log_return_Btc_lag' )\n",
    "plt.xlabel( 'Polarity lag = 1' )\n",
    "plt.title('Polarity vs. Log Return for Bitcoin, lag = 1')\n",
    "\n",
    "plt.show()"
   ]
  },
  {
   "cell_type": "markdown",
   "id": "753c0dc8",
   "metadata": {},
   "source": [
    "#### Linear Regression Analysis between Log Returns and Compound Sentiment Indicator"
   ]
  },
  {
   "cell_type": "code",
   "execution_count": 66,
   "id": "31089055",
   "metadata": {},
   "outputs": [
    {
     "name": "stdout",
     "output_type": "stream",
     "text": [
      "                            OLS Regression Results                            \n",
      "==============================================================================\n",
      "Dep. Variable:     log_return_Btc_lag   R-squared:                       0.073\n",
      "Model:                            OLS   Adj. R-squared:                 -0.082\n",
      "Method:                 Least Squares   F-statistic:                    0.4702\n",
      "Date:                Wed, 07 Jun 2023   Prob (F-statistic):              0.519\n",
      "Time:                        15:04:19   Log-Likelihood:                 10.825\n",
      "No. Observations:                   8   AIC:                            -17.65\n",
      "Df Residuals:                       6   BIC:                            -17.49\n",
      "Df Model:                           1                                         \n",
      "Covariance Type:            nonrobust                                         \n",
      "================================================================================\n",
      "                   coef    std err          t      P>|t|      [0.025      0.975]\n",
      "--------------------------------------------------------------------------------\n",
      "Intercept        0.0158      0.032      0.500      0.635      -0.062       0.093\n",
      "compound_lag     0.0438      0.064      0.686      0.519      -0.112       0.200\n",
      "==============================================================================\n",
      "Omnibus:                        1.664   Durbin-Watson:                   2.459\n",
      "Prob(Omnibus):                  0.435   Jarque-Bera (JB):                0.687\n",
      "Skew:                          -0.692   Prob(JB):                        0.709\n",
      "Kurtosis:                       2.619   Cond. No.                         2.75\n",
      "==============================================================================\n",
      "\n",
      "Notes:\n",
      "[1] Standard Errors assume that the covariance matrix of the errors is correctly specified.\n"
     ]
    },
    {
     "name": "stderr",
     "output_type": "stream",
     "text": [
      "/opt/homebrew/Caskroom/miniforge/base/envs/conda_env/lib/python3.8/site-packages/scipy/stats/stats.py:1541: UserWarning: kurtosistest only valid for n>=20 ... continuing anyway, n=8\n",
      "  warnings.warn(\"kurtosistest only valid for n>=20 ... continuing \"\n"
     ]
    }
   ],
   "source": [
    "lm = smf.ols(formula = \"log_return_Btc_lag ~ compound_lag\", data=Btc_lags).fit()\n",
    "print (lm.summary())"
   ]
  },
  {
   "cell_type": "code",
   "execution_count": 67,
   "id": "a3d1ba52",
   "metadata": {},
   "outputs": [
    {
     "name": "stdout",
     "output_type": "stream",
     "text": [
      "                            OLS Regression Results                            \n",
      "==============================================================================\n",
      "Dep. Variable:         log_return_Btc   R-squared:                       0.345\n",
      "Model:                            OLS   Adj. R-squared:                  0.083\n",
      "Method:                 Least Squares   F-statistic:                     1.316\n",
      "Date:                Wed, 07 Jun 2023   Prob (F-statistic):              0.347\n",
      "Time:                        15:04:19   Log-Likelihood:                 18.296\n",
      "No. Observations:                   8   AIC:                            -30.59\n",
      "Df Residuals:                       5   BIC:                            -30.35\n",
      "Df Model:                           2                                         \n",
      "Covariance Type:            nonrobust                                         \n",
      "======================================================================================\n",
      "                         coef    std err          t      P>|t|      [0.025      0.975]\n",
      "--------------------------------------------------------------------------------------\n",
      "Intercept             -0.0363      0.014     -2.611      0.048      -0.072      -0.001\n",
      "log_return_Btc_lag    -0.2279      0.176     -1.296      0.251      -0.680       0.224\n",
      "compound_lag           0.0368      0.029      1.289      0.254      -0.037       0.110\n",
      "==============================================================================\n",
      "Omnibus:                        5.026   Durbin-Watson:                   2.930\n",
      "Prob(Omnibus):                  0.081   Jarque-Bera (JB):                1.446\n",
      "Skew:                          -1.017   Prob(JB):                        0.485\n",
      "Kurtosis:                       3.450   Cond. No.                         16.8\n",
      "==============================================================================\n",
      "\n",
      "Notes:\n",
      "[1] Standard Errors assume that the covariance matrix of the errors is correctly specified.\n"
     ]
    },
    {
     "name": "stderr",
     "output_type": "stream",
     "text": [
      "/opt/homebrew/Caskroom/miniforge/base/envs/conda_env/lib/python3.8/site-packages/scipy/stats/stats.py:1541: UserWarning: kurtosistest only valid for n>=20 ... continuing anyway, n=8\n",
      "  warnings.warn(\"kurtosistest only valid for n>=20 ... continuing \"\n"
     ]
    }
   ],
   "source": [
    "lm = smf.ols(formula = \"log_return_Btc ~ log_return_Btc_lag + compound_lag\", data=Btc_lags).fit()\n",
    "print (lm.summary())"
   ]
  },
  {
   "cell_type": "markdown",
   "id": "17ff35fc",
   "metadata": {},
   "source": [
    "#### Linear Regression Analysis between Log Returns and Polarity Indicator"
   ]
  },
  {
   "cell_type": "code",
   "execution_count": 68,
   "id": "c520df16",
   "metadata": {},
   "outputs": [
    {
     "name": "stdout",
     "output_type": "stream",
     "text": [
      "                            OLS Regression Results                            \n",
      "==============================================================================\n",
      "Dep. Variable:     log_return_Btc_lag   R-squared:                       0.050\n",
      "Model:                            OLS   Adj. R-squared:                 -0.108\n",
      "Method:                 Least Squares   F-statistic:                    0.3160\n",
      "Date:                Wed, 07 Jun 2023   Prob (F-statistic):              0.594\n",
      "Time:                        15:04:19   Log-Likelihood:                 10.729\n",
      "No. Observations:                   8   AIC:                            -17.46\n",
      "Df Residuals:                       6   BIC:                            -17.30\n",
      "Df Model:                           1                                         \n",
      "Covariance Type:            nonrobust                                         \n",
      "=================================================================================\n",
      "                    coef    std err          t      P>|t|      [0.025      0.975]\n",
      "---------------------------------------------------------------------------------\n",
      "Intercept         0.0189      0.031      0.606      0.567      -0.057       0.095\n",
      "polarity_lag1     0.0202      0.036      0.562      0.594      -0.068       0.108\n",
      "==============================================================================\n",
      "Omnibus:                        2.261   Durbin-Watson:                   2.585\n",
      "Prob(Omnibus):                  0.323   Jarque-Bera (JB):                0.900\n",
      "Skew:                          -0.807   Prob(JB):                        0.638\n",
      "Kurtosis:                       2.697   Cond. No.                         1.92\n",
      "==============================================================================\n",
      "\n",
      "Notes:\n",
      "[1] Standard Errors assume that the covariance matrix of the errors is correctly specified.\n"
     ]
    },
    {
     "name": "stderr",
     "output_type": "stream",
     "text": [
      "/opt/homebrew/Caskroom/miniforge/base/envs/conda_env/lib/python3.8/site-packages/scipy/stats/stats.py:1541: UserWarning: kurtosistest only valid for n>=20 ... continuing anyway, n=8\n",
      "  warnings.warn(\"kurtosistest only valid for n>=20 ... continuing \"\n"
     ]
    }
   ],
   "source": [
    "lm = smf.ols(formula = \"log_return_Btc_lag ~ polarity_lag1\", data=Btc_lags).fit()\n",
    "print (lm.summary())"
   ]
  },
  {
   "cell_type": "code",
   "execution_count": 69,
   "id": "30445428",
   "metadata": {},
   "outputs": [
    {
     "name": "stdout",
     "output_type": "stream",
     "text": [
      "                            OLS Regression Results                            \n",
      "==============================================================================\n",
      "Dep. Variable:         log_return_Btc   R-squared:                       0.389\n",
      "Model:                            OLS   Adj. R-squared:                  0.144\n",
      "Method:                 Least Squares   F-statistic:                     1.589\n",
      "Date:                Wed, 07 Jun 2023   Prob (F-statistic):              0.292\n",
      "Time:                        15:04:19   Log-Likelihood:                 18.572\n",
      "No. Observations:                   8   AIC:                            -31.14\n",
      "Df Residuals:                       5   BIC:                            -30.91\n",
      "Df Model:                           2                                         \n",
      "Covariance Type:            nonrobust                                         \n",
      "======================================================================================\n",
      "                         coef    std err          t      P>|t|      [0.025      0.975]\n",
      "--------------------------------------------------------------------------------------\n",
      "Intercept             -0.0365      0.013     -2.763      0.040      -0.070      -0.003\n",
      "log_return_Btc_lag    -0.2217      0.168     -1.321      0.244      -0.653       0.210\n",
      "polarity_lag1          0.0222      0.015      1.462      0.204      -0.017       0.061\n",
      "==============================================================================\n",
      "Omnibus:                        5.719   Durbin-Watson:                   3.060\n",
      "Prob(Omnibus):                  0.057   Jarque-Bera (JB):                1.677\n",
      "Skew:                          -1.086   Prob(JB):                        0.432\n",
      "Kurtosis:                       3.561   Cond. No.                         18.6\n",
      "==============================================================================\n",
      "\n",
      "Notes:\n",
      "[1] Standard Errors assume that the covariance matrix of the errors is correctly specified.\n"
     ]
    },
    {
     "name": "stderr",
     "output_type": "stream",
     "text": [
      "/opt/homebrew/Caskroom/miniforge/base/envs/conda_env/lib/python3.8/site-packages/scipy/stats/stats.py:1541: UserWarning: kurtosistest only valid for n>=20 ... continuing anyway, n=8\n",
      "  warnings.warn(\"kurtosistest only valid for n>=20 ... continuing \"\n"
     ]
    }
   ],
   "source": [
    "lm = smf.ols(formula = \"log_return_Btc ~ log_return_Btc_lag + polarity_lag1\", data=Btc_lags).fit()\n",
    "print (lm.summary())"
   ]
  },
  {
   "cell_type": "markdown",
   "id": "6b8f20d4",
   "metadata": {},
   "source": [
    "#### Scatter plot between Sentiment and Close Price Rescaled, Polarity vs Close Price Rescaled"
   ]
  },
  {
   "cell_type": "code",
   "execution_count": 70,
   "id": "6d54dd67",
   "metadata": {},
   "outputs": [
    {
     "data": {
      "image/png": "[encoded data removed]",
      "text/plain": [
       "<Figure size 1008x576 with 2 Axes>"
      ]
     },
     "metadata": {
      "needs_background": "light"
     },
     "output_type": "display_data"
    }
   ],
   "source": [
    "fig, ax = plt.subplots(1,2, figsize = (14, 8))\n",
    "\n",
    "ax0 = plt.subplot(2, 2, 1)\n",
    "ax0.plot(Btc_lags['compound_lag'],Btc_lags['Close_Btc_Rescaled_lag'], 'o',c='sandybrown')\n",
    "plt.ylabel( 'Close_Btc_Rescaled_lag' )\n",
    "plt.xlabel( 'Sentiment lag = 1' )\n",
    "plt.title('Sentiment vs. the Rescaled Close Price for Bitcoin, lag = 1')\n",
    "\n",
    "ax1 = plt.subplot(2, 2, 2)\n",
    "ax1.plot(Btc_lags['polarity_lag1'],Btc_lags['Close_Btc_Rescaled_lag'], 'o',c='sandybrown')\n",
    "plt.ylabel( 'Close_Btc_Rescaled_lag' )\n",
    "plt.xlabel( 'Polarity lag = 1' )\n",
    "plt.title('Polarity vs. the Rescaled Close Price for Bitcoin, lag = 1')\n",
    "\n",
    "plt.show()"
   ]
  },
  {
   "cell_type": "markdown",
   "id": "b38c627f",
   "metadata": {},
   "source": [
    "#### Linear Regression Analysis between Close Price Rescaled and Compound Sentiment Indicator"
   ]
  },
  {
   "cell_type": "code",
   "execution_count": 71,
   "id": "e375a3a4",
   "metadata": {},
   "outputs": [
    {
     "name": "stdout",
     "output_type": "stream",
     "text": [
      "                              OLS Regression Results                              \n",
      "==================================================================================\n",
      "Dep. Variable:     Close_Btc_Rescaled_lag   R-squared:                       0.375\n",
      "Model:                                OLS   Adj. R-squared:                  0.271\n",
      "Method:                     Least Squares   F-statistic:                     3.598\n",
      "Date:                    Wed, 07 Jun 2023   Prob (F-statistic):              0.107\n",
      "Time:                            15:04:19   Log-Likelihood:                 2.5499\n",
      "No. Observations:                       8   AIC:                            -1.100\n",
      "Df Residuals:                           6   BIC:                           -0.9410\n",
      "Df Model:                               1                                         \n",
      "Covariance Type:                nonrobust                                         \n",
      "================================================================================\n",
      "                   coef    std err          t      P>|t|      [0.025      0.975]\n",
      "--------------------------------------------------------------------------------\n",
      "Intercept        0.7001      0.089      7.858      0.000       0.482       0.918\n",
      "compound_lag    -0.3405      0.180     -1.897      0.107      -0.780       0.099\n",
      "==============================================================================\n",
      "Omnibus:                       13.335   Durbin-Watson:                   1.272\n",
      "Prob(Omnibus):                  0.001   Jarque-Bera (JB):                4.768\n",
      "Skew:                          -1.699   Prob(JB):                       0.0922\n",
      "Kurtosis:                       4.660   Cond. No.                         2.75\n",
      "==============================================================================\n",
      "\n",
      "Notes:\n",
      "[1] Standard Errors assume that the covariance matrix of the errors is correctly specified.\n"
     ]
    },
    {
     "name": "stderr",
     "output_type": "stream",
     "text": [
      "/opt/homebrew/Caskroom/miniforge/base/envs/conda_env/lib/python3.8/site-packages/scipy/stats/stats.py:1541: UserWarning: kurtosistest only valid for n>=20 ... continuing anyway, n=8\n",
      "  warnings.warn(\"kurtosistest only valid for n>=20 ... continuing \"\n"
     ]
    }
   ],
   "source": [
    "lm = smf.ols(formula = \"Close_Btc_Rescaled_lag ~ compound_lag\", data=Btc_lags).fit()\n",
    "print (lm.summary())"
   ]
  },
  {
   "cell_type": "code",
   "execution_count": 72,
   "id": "a3e69546",
   "metadata": {},
   "outputs": [
    {
     "name": "stdout",
     "output_type": "stream",
     "text": [
      "                            OLS Regression Results                            \n",
      "==============================================================================\n",
      "Dep. Variable:     Close_Btc_Rescaled   R-squared:                       0.989\n",
      "Model:                            OLS   Adj. R-squared:                  0.985\n",
      "Method:                 Least Squares   F-statistic:                     226.5\n",
      "Date:                Wed, 07 Jun 2023   Prob (F-statistic):           1.25e-05\n",
      "Time:                        15:04:19   Log-Likelihood:                 19.091\n",
      "No. Observations:                   8   AIC:                            -32.18\n",
      "Df Residuals:                       5   BIC:                            -31.94\n",
      "Df Model:                           2                                         \n",
      "Covariance Type:            nonrobust                                         \n",
      "==========================================================================================\n",
      "                             coef    std err          t      P>|t|      [0.025      0.975]\n",
      "------------------------------------------------------------------------------------------\n",
      "Intercept                  0.0251      0.041      0.605      0.571      -0.082       0.132\n",
      "Close_Btc_Rescaled_lag     0.9444      0.057     16.696      0.000       0.799       1.090\n",
      "compound_lag              -0.0068      0.031     -0.215      0.838      -0.088       0.074\n",
      "==============================================================================\n",
      "Omnibus:                        2.285   Durbin-Watson:                   1.711\n",
      "Prob(Omnibus):                  0.319   Jarque-Bera (JB):                0.211\n",
      "Skew:                           0.355   Prob(JB):                        0.900\n",
      "Kurtosis:                       3.357   Cond. No.                         8.82\n",
      "==============================================================================\n",
      "\n",
      "Notes:\n",
      "[1] Standard Errors assume that the covariance matrix of the errors is correctly specified.\n"
     ]
    },
    {
     "name": "stderr",
     "output_type": "stream",
     "text": [
      "/opt/homebrew/Caskroom/miniforge/base/envs/conda_env/lib/python3.8/site-packages/scipy/stats/stats.py:1541: UserWarning: kurtosistest only valid for n>=20 ... continuing anyway, n=8\n",
      "  warnings.warn(\"kurtosistest only valid for n>=20 ... continuing \"\n"
     ]
    }
   ],
   "source": [
    "lm = smf.ols(formula = \"Close_Btc_Rescaled ~ Close_Btc_Rescaled_lag + compound_lag\", data=Btc_lags).fit()\n",
    "print (lm.summary())"
   ]
  },
  {
   "cell_type": "markdown",
   "id": "53384b31",
   "metadata": {},
   "source": [
    "#### Linear Regression Analysis between Close Price Rescaled and Polarity Indicator"
   ]
  },
  {
   "cell_type": "code",
   "execution_count": 73,
   "id": "ba7a3e50",
   "metadata": {},
   "outputs": [
    {
     "name": "stdout",
     "output_type": "stream",
     "text": [
      "                              OLS Regression Results                              \n",
      "==================================================================================\n",
      "Dep. Variable:     Close_Btc_Rescaled_lag   R-squared:                       0.529\n",
      "Model:                                OLS   Adj. R-squared:                  0.450\n",
      "Method:                     Least Squares   F-statistic:                     6.726\n",
      "Date:                    Wed, 07 Jun 2023   Prob (F-statistic):             0.0410\n",
      "Time:                            15:04:19   Log-Likelihood:                 3.6784\n",
      "No. Observations:                       8   AIC:                            -3.357\n",
      "Df Residuals:                           6   BIC:                            -3.198\n",
      "Df Model:                               1                                         \n",
      "Covariance Type:                nonrobust                                         \n",
      "=================================================================================\n",
      "                    coef    std err          t      P>|t|      [0.025      0.975]\n",
      "---------------------------------------------------------------------------------\n",
      "Intercept         0.7093      0.075      9.426      0.000       0.525       0.893\n",
      "polarity_lag1    -0.2251      0.087     -2.593      0.041      -0.437      -0.013\n",
      "==============================================================================\n",
      "Omnibus:                       11.027   Durbin-Watson:                   1.567\n",
      "Prob(Omnibus):                  0.004   Jarque-Bera (JB):                3.821\n",
      "Skew:                          -1.579   Prob(JB):                        0.148\n",
      "Kurtosis:                       4.219   Cond. No.                         1.92\n",
      "==============================================================================\n",
      "\n",
      "Notes:\n",
      "[1] Standard Errors assume that the covariance matrix of the errors is correctly specified.\n"
     ]
    },
    {
     "name": "stderr",
     "output_type": "stream",
     "text": [
      "/opt/homebrew/Caskroom/miniforge/base/envs/conda_env/lib/python3.8/site-packages/scipy/stats/stats.py:1541: UserWarning: kurtosistest only valid for n>=20 ... continuing anyway, n=8\n",
      "  warnings.warn(\"kurtosistest only valid for n>=20 ... continuing \"\n"
     ]
    }
   ],
   "source": [
    "lm = smf.ols(formula = \"Close_Btc_Rescaled_lag ~ polarity_lag1\", data=Btc_lags).fit()\n",
    "print (lm.summary())"
   ]
  },
  {
   "cell_type": "code",
   "execution_count": 74,
   "id": "9791d5cd",
   "metadata": {},
   "outputs": [
    {
     "name": "stdout",
     "output_type": "stream",
     "text": [
      "                            OLS Regression Results                            \n",
      "==============================================================================\n",
      "Dep. Variable:     Close_Btc_Rescaled   R-squared:                       0.989\n",
      "Model:                            OLS   Adj. R-squared:                  0.985\n",
      "Method:                 Least Squares   F-statistic:                     224.4\n",
      "Date:                Wed, 07 Jun 2023   Prob (F-statistic):           1.27e-05\n",
      "Time:                        15:04:19   Log-Likelihood:                 19.054\n",
      "No. Observations:                   8   AIC:                            -32.11\n",
      "Df Residuals:                       5   BIC:                            -31.87\n",
      "Df Model:                           2                                         \n",
      "Covariance Type:            nonrobust                                         \n",
      "==========================================================================================\n",
      "                             coef    std err          t      P>|t|      [0.025      0.975]\n",
      "------------------------------------------------------------------------------------------\n",
      "Intercept                  0.0194      0.048      0.405      0.702      -0.104       0.143\n",
      "Close_Btc_Rescaled_lag     0.9509      0.065     14.533      0.000       0.783       1.119\n",
      "polarity_lag1             -0.0004      0.020     -0.020      0.985      -0.052       0.052\n",
      "==============================================================================\n",
      "Omnibus:                        2.668   Durbin-Watson:                   1.864\n",
      "Prob(Omnibus):                  0.263   Jarque-Bera (JB):                0.187\n",
      "Skew:                           0.246   Prob(JB):                        0.911\n",
      "Kurtosis:                       3.565   Cond. No.                         10.6\n",
      "==============================================================================\n",
      "\n",
      "Notes:\n",
      "[1] Standard Errors assume that the covariance matrix of the errors is correctly specified.\n"
     ]
    },
    {
     "name": "stderr",
     "output_type": "stream",
     "text": [
      "/opt/homebrew/Caskroom/miniforge/base/envs/conda_env/lib/python3.8/site-packages/scipy/stats/stats.py:1541: UserWarning: kurtosistest only valid for n>=20 ... continuing anyway, n=8\n",
      "  warnings.warn(\"kurtosistest only valid for n>=20 ... continuing \"\n"
     ]
    }
   ],
   "source": [
    "lm = smf.ols(formula = \"Close_Btc_Rescaled ~ Close_Btc_Rescaled_lag + polarity_lag1\", data=Btc_lags).fit()\n",
    "print (lm.summary())"
   ]
  },
  {
   "cell_type": "markdown",
   "id": "afddcb04",
   "metadata": {},
   "source": [
    "### Question: Is there any correlation between sentiments and Dogecoin Stocks? For both close price and returns with lag = 1"
   ]
  },
  {
   "cell_type": "markdown",
   "id": "89e570a7",
   "metadata": {},
   "source": [
    "#### Scatter plot between Sentiment and Simple Returns, Polarity vs Simple Returns"
   ]
  },
  {
   "cell_type": "code",
   "execution_count": 75,
   "id": "1483d726",
   "metadata": {},
   "outputs": [
    {
     "data": {
      "image/png": "[encoded data removed]",
      "text/plain": [
       "<Figure size 1008x576 with 2 Axes>"
      ]
     },
     "metadata": {
      "needs_background": "light"
     },
     "output_type": "display_data"
    }
   ],
   "source": [
    "fig, ax = plt.subplots(1,2, figsize = (14, 8))\n",
    "\n",
    "ax0 = plt.subplot(2, 2, 1)\n",
    "ax0.plot(Doge_lags['compound_lag'],Doge_lags['simple_return_Doge_lag'], 'o',c='goldenrod')\n",
    "plt.ylabel( 'simple_return_Doge_lag' )\n",
    "plt.xlabel( 'Sentiment lag = 1' )\n",
    "plt.title('Sentiment vs. Simple Return for Dogecoin, lag = 1')\n",
    "\n",
    "ax1 = plt.subplot(2, 2, 2)\n",
    "ax1.plot(Doge_lags['polarity_lag1'],Doge_lags['simple_return_Doge_lag'], 'o',c='goldenrod')\n",
    "plt.ylabel( 'simple_return_Doge_lag' )\n",
    "plt.xlabel( 'Polarity lag = 1' )\n",
    "plt.title('Polarity vs. Simple Return for Dogecoin, lag = 1')\n",
    "\n",
    "plt.show()"
   ]
  },
  {
   "cell_type": "markdown",
   "id": "3de8948d",
   "metadata": {},
   "source": [
    "#### Linear Regression Analysis between Simple Returns and Compound Sentiment Indicator"
   ]
  },
  {
   "cell_type": "code",
   "execution_count": 76,
   "id": "edfce9a2",
   "metadata": {},
   "outputs": [
    {
     "name": "stdout",
     "output_type": "stream",
     "text": [
      "                              OLS Regression Results                              \n",
      "==================================================================================\n",
      "Dep. Variable:     simple_return_Doge_lag   R-squared:                       0.288\n",
      "Model:                                OLS   Adj. R-squared:                  0.145\n",
      "Method:                     Least Squares   F-statistic:                     2.019\n",
      "Date:                    Wed, 07 Jun 2023   Prob (F-statistic):              0.215\n",
      "Time:                            15:04:19   Log-Likelihood:                 8.6439\n",
      "No. Observations:                       7   AIC:                            -13.29\n",
      "Df Residuals:                           5   BIC:                            -13.40\n",
      "Df Model:                               1                                         \n",
      "Covariance Type:                nonrobust                                         \n",
      "================================================================================\n",
      "                   coef    std err          t      P>|t|      [0.025      0.975]\n",
      "--------------------------------------------------------------------------------\n",
      "Intercept        0.0073      0.038      0.190      0.857      -0.091       0.106\n",
      "compound_lag     0.1016      0.071      1.421      0.215      -0.082       0.285\n",
      "==============================================================================\n",
      "Omnibus:                          nan   Durbin-Watson:                   1.475\n",
      "Prob(Omnibus):                    nan   Jarque-Bera (JB):                0.597\n",
      "Skew:                           0.030   Prob(JB):                        0.742\n",
      "Kurtosis:                       1.570   Cond. No.                         2.53\n",
      "==============================================================================\n",
      "\n",
      "Notes:\n",
      "[1] Standard Errors assume that the covariance matrix of the errors is correctly specified.\n"
     ]
    },
    {
     "name": "stderr",
     "output_type": "stream",
     "text": [
      "/opt/homebrew/Caskroom/miniforge/base/envs/conda_env/lib/python3.8/site-packages/statsmodels/stats/stattools.py:74: ValueWarning: omni_normtest is not valid with less than 8 observations; 7 samples were given.\n",
      "  warn(\"omni_normtest is not valid with less than 8 observations; %i \"\n"
     ]
    }
   ],
   "source": [
    "lm = smf.ols(formula = \"simple_return_Doge_lag~ compound_lag\", data=Doge_lags).fit()\n",
    "print (lm.summary())"
   ]
  },
  {
   "cell_type": "code",
   "execution_count": 77,
   "id": "7ae968c2",
   "metadata": {},
   "outputs": [
    {
     "name": "stdout",
     "output_type": "stream",
     "text": [
      "                            OLS Regression Results                            \n",
      "==============================================================================\n",
      "Dep. Variable:     simple_return_Doge   R-squared:                       0.139\n",
      "Model:                            OLS   Adj. R-squared:                 -0.292\n",
      "Method:                 Least Squares   F-statistic:                    0.3217\n",
      "Date:                Wed, 07 Jun 2023   Prob (F-statistic):              0.742\n",
      "Time:                        15:04:19   Log-Likelihood:                 10.330\n",
      "No. Observations:                   7   AIC:                            -14.66\n",
      "Df Residuals:                       4   BIC:                            -14.82\n",
      "Df Model:                           2                                         \n",
      "Covariance Type:            nonrobust                                         \n",
      "==========================================================================================\n",
      "                             coef    std err          t      P>|t|      [0.025      0.975]\n",
      "------------------------------------------------------------------------------------------\n",
      "Intercept                  0.0234      0.034      0.690      0.528      -0.071       0.117\n",
      "simple_return_Doge_lag     0.2351      0.393      0.598      0.582      -0.856       1.326\n",
      "compound_lag              -0.0574      0.074     -0.772      0.483      -0.264       0.149\n",
      "==============================================================================\n",
      "Omnibus:                          nan   Durbin-Watson:                   1.992\n",
      "Prob(Omnibus):                    nan   Jarque-Bera (JB):                0.410\n",
      "Skew:                           0.358   Prob(JB):                        0.814\n",
      "Kurtosis:                       2.054   Cond. No.                         15.1\n",
      "==============================================================================\n",
      "\n",
      "Notes:\n",
      "[1] Standard Errors assume that the covariance matrix of the errors is correctly specified.\n"
     ]
    },
    {
     "name": "stderr",
     "output_type": "stream",
     "text": [
      "/opt/homebrew/Caskroom/miniforge/base/envs/conda_env/lib/python3.8/site-packages/statsmodels/stats/stattools.py:74: ValueWarning: omni_normtest is not valid with less than 8 observations; 7 samples were given.\n",
      "  warn(\"omni_normtest is not valid with less than 8 observations; %i \"\n"
     ]
    }
   ],
   "source": [
    "lm = smf.ols(formula = \"simple_return_Doge ~ simple_return_Doge_lag + compound_lag\", data=Doge_lags).fit()\n",
    "print (lm.summary())"
   ]
  },
  {
   "cell_type": "markdown",
   "id": "d55eacdd",
   "metadata": {},
   "source": [
    "#### Linear Regression Analysis between Simple Returns and Polarity Indicator"
   ]
  },
  {
   "cell_type": "code",
   "execution_count": 78,
   "id": "3db567b0",
   "metadata": {},
   "outputs": [
    {
     "name": "stdout",
     "output_type": "stream",
     "text": [
      "                              OLS Regression Results                              \n",
      "==================================================================================\n",
      "Dep. Variable:     simple_return_Doge_lag   R-squared:                       0.223\n",
      "Model:                                OLS   Adj. R-squared:                  0.067\n",
      "Method:                     Least Squares   F-statistic:                     1.431\n",
      "Date:                    Wed, 07 Jun 2023   Prob (F-statistic):              0.285\n",
      "Time:                            15:04:19   Log-Likelihood:                 8.3377\n",
      "No. Observations:                       7   AIC:                            -12.68\n",
      "Df Residuals:                           5   BIC:                            -12.78\n",
      "Df Model:                               1                                         \n",
      "Covariance Type:                nonrobust                                         \n",
      "=================================================================================\n",
      "                    coef    std err          t      P>|t|      [0.025      0.975]\n",
      "---------------------------------------------------------------------------------\n",
      "Intercept         0.0229      0.035      0.648      0.546      -0.068       0.114\n",
      "polarity_lag1     0.0450      0.038      1.196      0.285      -0.052       0.142\n",
      "==============================================================================\n",
      "Omnibus:                          nan   Durbin-Watson:                   2.097\n",
      "Prob(Omnibus):                    nan   Jarque-Bera (JB):                0.389\n",
      "Skew:                           0.150   Prob(JB):                        0.823\n",
      "Kurtosis:                       1.885   Cond. No.                         1.48\n",
      "==============================================================================\n",
      "\n",
      "Notes:\n",
      "[1] Standard Errors assume that the covariance matrix of the errors is correctly specified.\n"
     ]
    },
    {
     "name": "stderr",
     "output_type": "stream",
     "text": [
      "/opt/homebrew/Caskroom/miniforge/base/envs/conda_env/lib/python3.8/site-packages/statsmodels/stats/stattools.py:74: ValueWarning: omni_normtest is not valid with less than 8 observations; 7 samples were given.\n",
      "  warn(\"omni_normtest is not valid with less than 8 observations; %i \"\n"
     ]
    }
   ],
   "source": [
    "lm = smf.ols(formula = \"simple_return_Doge_lag ~ polarity_lag1\", data=Doge_lags).fit()\n",
    "print (lm.summary())"
   ]
  },
  {
   "cell_type": "code",
   "execution_count": 79,
   "id": "ed14eecb",
   "metadata": {},
   "outputs": [
    {
     "name": "stdout",
     "output_type": "stream",
     "text": [
      "                            OLS Regression Results                            \n",
      "==============================================================================\n",
      "Dep. Variable:     simple_return_Doge   R-squared:                       0.061\n",
      "Model:                            OLS   Adj. R-squared:                 -0.408\n",
      "Method:                 Least Squares   F-statistic:                    0.1301\n",
      "Date:                Wed, 07 Jun 2023   Prob (F-statistic):              0.882\n",
      "Time:                        15:04:19   Log-Likelihood:                 10.029\n",
      "No. Observations:                   7   AIC:                            -14.06\n",
      "Df Residuals:                       4   BIC:                            -14.22\n",
      "Df Model:                           2                                         \n",
      "Covariance Type:            nonrobust                                         \n",
      "==========================================================================================\n",
      "                             coef    std err          t      P>|t|      [0.025      0.975]\n",
      "------------------------------------------------------------------------------------------\n",
      "Intercept                  0.0147      0.032      0.455      0.673      -0.075       0.104\n",
      "simple_return_Doge_lag     0.1586      0.393      0.404      0.707      -0.932       1.249\n",
      "polarity_lag1             -0.0174      0.037     -0.465      0.666      -0.122       0.087\n",
      "==============================================================================\n",
      "Omnibus:                          nan   Durbin-Watson:                   1.741\n",
      "Prob(Omnibus):                    nan   Jarque-Bera (JB):                0.420\n",
      "Skew:                           0.589   Prob(JB):                        0.810\n",
      "Kurtosis:                       2.764   Cond. No.                         15.5\n",
      "==============================================================================\n",
      "\n",
      "Notes:\n",
      "[1] Standard Errors assume that the covariance matrix of the errors is correctly specified.\n"
     ]
    },
    {
     "name": "stderr",
     "output_type": "stream",
     "text": [
      "/opt/homebrew/Caskroom/miniforge/base/envs/conda_env/lib/python3.8/site-packages/statsmodels/stats/stattools.py:74: ValueWarning: omni_normtest is not valid with less than 8 observations; 7 samples were given.\n",
      "  warn(\"omni_normtest is not valid with less than 8 observations; %i \"\n"
     ]
    }
   ],
   "source": [
    "lm = smf.ols(formula = \"simple_return_Doge ~ simple_return_Doge_lag + polarity_lag1\", data=Doge_lags).fit()\n",
    "print (lm.summary())"
   ]
  },
  {
   "cell_type": "markdown",
   "id": "60078410",
   "metadata": {},
   "source": [
    "#### Scatter plot between Sentiment and Log Returns, Polarity vs Log Returns"
   ]
  },
  {
   "cell_type": "code",
   "execution_count": 80,
   "id": "3c228ea6",
   "metadata": {},
   "outputs": [
    {
     "data": {
      "image/png": "[encoded data removed]",
      "text/plain": [
       "<Figure size 1008x576 with 2 Axes>"
      ]
     },
     "metadata": {
      "needs_background": "light"
     },
     "output_type": "display_data"
    }
   ],
   "source": [
    "fig, ax = plt.subplots(1,2, figsize = (14, 8))\n",
    "\n",
    "ax0 = plt.subplot(2, 2, 1)\n",
    "ax0.plot(Doge_lags['compound_lag'],Doge_lags['log_return_Doge_lag'], 'o',c='goldenrod')\n",
    "plt.ylabel( 'log_return_Doge_lag' )\n",
    "plt.xlabel( 'Sentiment lag = 1' )\n",
    "plt.title('Sentiment vs. Log Return for Dogecoin, lag = 1')\n",
    "\n",
    "ax1 = plt.subplot(2, 2, 2)\n",
    "ax1.plot(Doge_lags['polarity_lag1'],Doge_lags['log_return_Doge_lag'], 'o',c='goldenrod')\n",
    "plt.ylabel( 'log_return_Doge_lag' )\n",
    "plt.xlabel( 'Polarity lag = 1' )\n",
    "plt.title('Polarity vs. Log Return for Dogecoin, lag = 1')\n",
    "\n",
    "plt.show()"
   ]
  },
  {
   "cell_type": "markdown",
   "id": "93dca6c5",
   "metadata": {},
   "source": [
    "#### Linear Regression Analysis between Log Returns and Compound Sentiment Indicator"
   ]
  },
  {
   "cell_type": "code",
   "execution_count": 81,
   "id": "82617226",
   "metadata": {},
   "outputs": [
    {
     "name": "stdout",
     "output_type": "stream",
     "text": [
      "                             OLS Regression Results                            \n",
      "===============================================================================\n",
      "Dep. Variable:     log_return_Doge_lag   R-squared:                       0.280\n",
      "Model:                             OLS   Adj. R-squared:                  0.136\n",
      "Method:                  Least Squares   F-statistic:                     1.947\n",
      "Date:                 Wed, 07 Jun 2023   Prob (F-statistic):              0.222\n",
      "Time:                         15:04:20   Log-Likelihood:                 9.0562\n",
      "No. Observations:                    7   AIC:                            -14.11\n",
      "Df Residuals:                        5   BIC:                            -14.22\n",
      "Df Model:                            1                                         \n",
      "Covariance Type:             nonrobust                                         \n",
      "================================================================================\n",
      "                   coef    std err          t      P>|t|      [0.025      0.975]\n",
      "--------------------------------------------------------------------------------\n",
      "Intercept        0.0058      0.036      0.159      0.880      -0.087       0.099\n",
      "compound_lag     0.0941      0.067      1.395      0.222      -0.079       0.267\n",
      "==============================================================================\n",
      "Omnibus:                          nan   Durbin-Watson:                   1.510\n",
      "Prob(Omnibus):                    nan   Jarque-Bera (JB):                0.558\n",
      "Skew:                          -0.015   Prob(JB):                        0.756\n",
      "Kurtosis:                       1.617   Cond. No.                         2.53\n",
      "==============================================================================\n",
      "\n",
      "Notes:\n",
      "[1] Standard Errors assume that the covariance matrix of the errors is correctly specified.\n"
     ]
    },
    {
     "name": "stderr",
     "output_type": "stream",
     "text": [
      "/opt/homebrew/Caskroom/miniforge/base/envs/conda_env/lib/python3.8/site-packages/statsmodels/stats/stattools.py:74: ValueWarning: omni_normtest is not valid with less than 8 observations; 7 samples were given.\n",
      "  warn(\"omni_normtest is not valid with less than 8 observations; %i \"\n"
     ]
    }
   ],
   "source": [
    "lm = smf.ols(formula = \"log_return_Doge_lag ~ compound_lag\", data=Doge_lags).fit()\n",
    "print (lm.summary())"
   ]
  },
  {
   "cell_type": "code",
   "execution_count": 82,
   "id": "c788551a",
   "metadata": {},
   "outputs": [
    {
     "name": "stdout",
     "output_type": "stream",
     "text": [
      "                            OLS Regression Results                            \n",
      "==============================================================================\n",
      "Dep. Variable:        log_return_Doge   R-squared:                       0.142\n",
      "Model:                            OLS   Adj. R-squared:                 -0.288\n",
      "Method:                 Least Squares   F-statistic:                    0.3297\n",
      "Date:                Wed, 07 Jun 2023   Prob (F-statistic):              0.737\n",
      "Time:                        15:04:20   Log-Likelihood:                 10.556\n",
      "No. Observations:                   7   AIC:                            -15.11\n",
      "Df Residuals:                       4   BIC:                            -15.27\n",
      "Df Model:                           2                                         \n",
      "Covariance Type:            nonrobust                                         \n",
      "=======================================================================================\n",
      "                          coef    std err          t      P>|t|      [0.025      0.975]\n",
      "---------------------------------------------------------------------------------------\n",
      "Intercept               0.0222      0.033      0.678      0.535      -0.069       0.113\n",
      "log_return_Doge_lag     0.2351      0.404      0.582      0.592      -0.885       1.356\n",
      "compound_lag           -0.0565      0.072     -0.788      0.475      -0.256       0.143\n",
      "==============================================================================\n",
      "Omnibus:                          nan   Durbin-Watson:                   2.027\n",
      "Prob(Omnibus):                    nan   Jarque-Bera (JB):                0.425\n",
      "Skew:                           0.301   Prob(JB):                        0.808\n",
      "Kurtosis:                       1.954   Cond. No.                         16.0\n",
      "==============================================================================\n",
      "\n",
      "Notes:\n",
      "[1] Standard Errors assume that the covariance matrix of the errors is correctly specified.\n"
     ]
    },
    {
     "name": "stderr",
     "output_type": "stream",
     "text": [
      "/opt/homebrew/Caskroom/miniforge/base/envs/conda_env/lib/python3.8/site-packages/statsmodels/stats/stattools.py:74: ValueWarning: omni_normtest is not valid with less than 8 observations; 7 samples were given.\n",
      "  warn(\"omni_normtest is not valid with less than 8 observations; %i \"\n"
     ]
    }
   ],
   "source": [
    "lm = smf.ols(formula = \"log_return_Doge ~ log_return_Doge_lag + compound_lag\", data=Doge_lags).fit()\n",
    "print (lm.summary())"
   ]
  },
  {
   "cell_type": "markdown",
   "id": "915d588d",
   "metadata": {},
   "source": [
    "#### Linear Regression Analysis between Log Returns and Polarity Indicator"
   ]
  },
  {
   "cell_type": "code",
   "execution_count": 83,
   "id": "769f827c",
   "metadata": {},
   "outputs": [
    {
     "name": "stdout",
     "output_type": "stream",
     "text": [
      "                             OLS Regression Results                            \n",
      "===============================================================================\n",
      "Dep. Variable:     log_return_Doge_lag   R-squared:                       0.219\n",
      "Model:                             OLS   Adj. R-squared:                  0.063\n",
      "Method:                  Least Squares   F-statistic:                     1.404\n",
      "Date:                 Wed, 07 Jun 2023   Prob (F-statistic):              0.289\n",
      "Time:                         15:04:20   Log-Likelihood:                 8.7713\n",
      "No. Observations:                    7   AIC:                            -13.54\n",
      "Df Residuals:                        5   BIC:                            -13.65\n",
      "Df Model:                            1                                         \n",
      "Covariance Type:             nonrobust                                         \n",
      "=================================================================================\n",
      "                    coef    std err          t      P>|t|      [0.025      0.975]\n",
      "---------------------------------------------------------------------------------\n",
      "Intercept         0.0201      0.033      0.606      0.571      -0.065       0.106\n",
      "polarity_lag1     0.0419      0.035      1.185      0.289      -0.049       0.133\n",
      "==============================================================================\n",
      "Omnibus:                          nan   Durbin-Watson:                   2.126\n",
      "Prob(Omnibus):                    nan   Jarque-Bera (JB):                0.388\n",
      "Skew:                           0.083   Prob(JB):                        0.824\n",
      "Kurtosis:                       1.858   Cond. No.                         1.48\n",
      "==============================================================================\n",
      "\n",
      "Notes:\n",
      "[1] Standard Errors assume that the covariance matrix of the errors is correctly specified.\n"
     ]
    },
    {
     "name": "stderr",
     "output_type": "stream",
     "text": [
      "/opt/homebrew/Caskroom/miniforge/base/envs/conda_env/lib/python3.8/site-packages/statsmodels/stats/stattools.py:74: ValueWarning: omni_normtest is not valid with less than 8 observations; 7 samples were given.\n",
      "  warn(\"omni_normtest is not valid with less than 8 observations; %i \"\n"
     ]
    }
   ],
   "source": [
    "lm = smf.ols(formula = \"log_return_Doge_lag ~ polarity_lag1\", data=Doge_lags).fit()\n",
    "print (lm.summary())"
   ]
  },
  {
   "cell_type": "code",
   "execution_count": 84,
   "id": "a2295efa",
   "metadata": {},
   "outputs": [
    {
     "name": "stdout",
     "output_type": "stream",
     "text": [
      "                            OLS Regression Results                            \n",
      "==============================================================================\n",
      "Dep. Variable:        log_return_Doge   R-squared:                       0.067\n",
      "Model:                            OLS   Adj. R-squared:                 -0.400\n",
      "Method:                 Least Squares   F-statistic:                    0.1433\n",
      "Date:                Wed, 07 Jun 2023   Prob (F-statistic):              0.871\n",
      "Time:                        15:04:20   Log-Likelihood:                 10.264\n",
      "No. Observations:                   7   AIC:                            -14.53\n",
      "Df Residuals:                       4   BIC:                            -14.69\n",
      "Df Model:                           2                                         \n",
      "Covariance Type:            nonrobust                                         \n",
      "=======================================================================================\n",
      "                          coef    std err          t      P>|t|      [0.025      0.975]\n",
      "---------------------------------------------------------------------------------------\n",
      "Intercept               0.0136      0.031      0.439      0.683      -0.073       0.100\n",
      "log_return_Doge_lag     0.1615      0.404      0.400      0.710      -0.960       1.283\n",
      "polarity_lag1          -0.0182      0.036     -0.502      0.642      -0.119       0.082\n",
      "==============================================================================\n",
      "Omnibus:                          nan   Durbin-Watson:                   1.777\n",
      "Prob(Omnibus):                    nan   Jarque-Bera (JB):                0.360\n",
      "Skew:                           0.530   Prob(JB):                        0.835\n",
      "Kurtosis:                       2.671   Cond. No.                         16.5\n",
      "==============================================================================\n",
      "\n",
      "Notes:\n",
      "[1] Standard Errors assume that the covariance matrix of the errors is correctly specified.\n"
     ]
    },
    {
     "name": "stderr",
     "output_type": "stream",
     "text": [
      "/opt/homebrew/Caskroom/miniforge/base/envs/conda_env/lib/python3.8/site-packages/statsmodels/stats/stattools.py:74: ValueWarning: omni_normtest is not valid with less than 8 observations; 7 samples were given.\n",
      "  warn(\"omni_normtest is not valid with less than 8 observations; %i \"\n"
     ]
    }
   ],
   "source": [
    "lm = smf.ols(formula = \"log_return_Doge ~ log_return_Doge_lag + polarity_lag1\", data=Doge_lags).fit()\n",
    "print (lm.summary())"
   ]
  },
  {
   "cell_type": "markdown",
   "id": "49a69dd8",
   "metadata": {},
   "source": [
    "#### Scatter plot between Sentiment and Close Price Rescaled, Polarity vs Close Price Rescaled"
   ]
  },
  {
   "cell_type": "code",
   "execution_count": 85,
   "id": "d27b06b1",
   "metadata": {},
   "outputs": [
    {
     "data": {
      "image/png": "[encoded data removed]",
      "text/plain": [
       "<Figure size 1008x576 with 2 Axes>"
      ]
     },
     "metadata": {
      "needs_background": "light"
     },
     "output_type": "display_data"
    }
   ],
   "source": [
    "fig, ax = plt.subplots(1,2, figsize = (14, 8))\n",
    "\n",
    "ax0 = plt.subplot(2, 2, 1)\n",
    "ax0.plot(Doge_lags['compound_lag'],Doge_lags['Close_Doge_Rescaled_lag'], 'o',c='goldenrod')\n",
    "plt.ylabel( 'Close_Doge_Rescaled_lag' )\n",
    "plt.xlabel( 'Sentiment lag = 1' )\n",
    "plt.title('Sentiment vs. the Rescaled Close Price for Dogecoin, lag = 1')\n",
    "\n",
    "ax1 = plt.subplot(2, 2, 2)\n",
    "ax1.plot(Doge_lags['polarity_lag1'],Doge_lags['Close_Doge_Rescaled_lag'], 'o',c='goldenrod')\n",
    "plt.ylabel( 'Close_Doge_Rescaled_lag' )\n",
    "plt.xlabel( 'Polarity lag = 1' )\n",
    "plt.title('Polarity vs. the Rescaled Close Price for Dogecoin, lag = 1')\n",
    "\n",
    "plt.show()"
   ]
  },
  {
   "cell_type": "markdown",
   "id": "bca5acda",
   "metadata": {},
   "source": [
    "#### Linear Regression Analysis between Close Price Rescaled and Compound Sentiment Indicator"
   ]
  },
  {
   "cell_type": "code",
   "execution_count": 86,
   "id": "61391da3",
   "metadata": {},
   "outputs": [
    {
     "name": "stdout",
     "output_type": "stream",
     "text": [
      "                               OLS Regression Results                              \n",
      "===================================================================================\n",
      "Dep. Variable:     Close_Doge_Rescaled_lag   R-squared:                       0.320\n",
      "Model:                                 OLS   Adj. R-squared:                  0.184\n",
      "Method:                      Least Squares   F-statistic:                     2.356\n",
      "Date:                     Wed, 07 Jun 2023   Prob (F-statistic):              0.185\n",
      "Time:                             15:04:20   Log-Likelihood:                 2.8362\n",
      "No. Observations:                        7   AIC:                            -1.672\n",
      "Df Residuals:                            5   BIC:                            -1.781\n",
      "Df Model:                                1                                         \n",
      "Covariance Type:                 nonrobust                                         \n",
      "================================================================================\n",
      "                   coef    std err          t      P>|t|      [0.025      0.975]\n",
      "--------------------------------------------------------------------------------\n",
      "Intercept        0.1465      0.088      1.666      0.157      -0.080       0.373\n",
      "compound_lag     0.2516      0.164      1.535      0.185      -0.170       0.673\n",
      "==============================================================================\n",
      "Omnibus:                          nan   Durbin-Watson:                   1.445\n",
      "Prob(Omnibus):                    nan   Jarque-Bera (JB):                0.396\n",
      "Skew:                           0.152   Prob(JB):                        0.821\n",
      "Kurtosis:                       1.875   Cond. No.                         2.53\n",
      "==============================================================================\n",
      "\n",
      "Notes:\n",
      "[1] Standard Errors assume that the covariance matrix of the errors is correctly specified.\n"
     ]
    },
    {
     "name": "stderr",
     "output_type": "stream",
     "text": [
      "/opt/homebrew/Caskroom/miniforge/base/envs/conda_env/lib/python3.8/site-packages/statsmodels/stats/stattools.py:74: ValueWarning: omni_normtest is not valid with less than 8 observations; 7 samples were given.\n",
      "  warn(\"omni_normtest is not valid with less than 8 observations; %i \"\n"
     ]
    }
   ],
   "source": [
    "lm = smf.ols(formula = \"Close_Doge_Rescaled_lag ~ compound_lag\", data=Doge_lags).fit()\n",
    "print (lm.summary())"
   ]
  },
  {
   "cell_type": "code",
   "execution_count": 87,
   "id": "b4333889",
   "metadata": {},
   "outputs": [
    {
     "name": "stdout",
     "output_type": "stream",
     "text": [
      "                             OLS Regression Results                            \n",
      "===============================================================================\n",
      "Dep. Variable:     Close_Doge_Rescaled   R-squared:                       0.997\n",
      "Model:                             OLS   Adj. R-squared:                  0.996\n",
      "Method:                  Least Squares   F-statistic:                     691.9\n",
      "Date:                 Wed, 07 Jun 2023   Prob (F-statistic):           8.31e-06\n",
      "Time:                         15:04:20   Log-Likelihood:                 22.106\n",
      "No. Observations:                    7   AIC:                            -38.21\n",
      "Df Residuals:                        4   BIC:                            -38.37\n",
      "Df Model:                            2                                         \n",
      "Covariance Type:             nonrobust                                         \n",
      "===========================================================================================\n",
      "                              coef    std err          t      P>|t|      [0.025      0.975]\n",
      "-------------------------------------------------------------------------------------------\n",
      "Intercept                   0.0029      0.008      0.368      0.731      -0.019       0.025\n",
      "Close_Doge_Rescaled_lag     0.9921      0.032     31.127      0.000       0.904       1.081\n",
      "compound_lag               -0.0117      0.014     -0.822      0.457      -0.051       0.028\n",
      "==============================================================================\n",
      "Omnibus:                          nan   Durbin-Watson:                   2.212\n",
      "Prob(Omnibus):                    nan   Jarque-Bera (JB):                0.172\n",
      "Skew:                          -0.091   Prob(JB):                        0.918\n",
      "Kurtosis:                       2.255   Cond. No.                         7.01\n",
      "==============================================================================\n",
      "\n",
      "Notes:\n",
      "[1] Standard Errors assume that the covariance matrix of the errors is correctly specified.\n"
     ]
    },
    {
     "name": "stderr",
     "output_type": "stream",
     "text": [
      "/opt/homebrew/Caskroom/miniforge/base/envs/conda_env/lib/python3.8/site-packages/statsmodels/stats/stattools.py:74: ValueWarning: omni_normtest is not valid with less than 8 observations; 7 samples were given.\n",
      "  warn(\"omni_normtest is not valid with less than 8 observations; %i \"\n"
     ]
    }
   ],
   "source": [
    "lm = smf.ols(formula = \"Close_Doge_Rescaled ~ Close_Doge_Rescaled_lag + compound_lag\", data=Doge_lags).fit()\n",
    "print (lm.summary())"
   ]
  },
  {
   "cell_type": "markdown",
   "id": "dfc0bd75",
   "metadata": {},
   "source": [
    "#### Linear Regression Analysis between Close Price Rescaled and Polarity Indicator"
   ]
  },
  {
   "cell_type": "code",
   "execution_count": 88,
   "id": "2d5d8ba0",
   "metadata": {},
   "outputs": [
    {
     "name": "stdout",
     "output_type": "stream",
     "text": [
      "                               OLS Regression Results                              \n",
      "===================================================================================\n",
      "Dep. Variable:     Close_Doge_Rescaled_lag   R-squared:                       0.083\n",
      "Model:                                 OLS   Adj. R-squared:                 -0.100\n",
      "Method:                      Least Squares   F-statistic:                    0.4534\n",
      "Date:                     Wed, 07 Jun 2023   Prob (F-statistic):              0.531\n",
      "Time:                             15:04:20   Log-Likelihood:                 1.7887\n",
      "No. Observations:                        7   AIC:                            0.4227\n",
      "Df Residuals:                            5   BIC:                            0.3145\n",
      "Df Model:                                1                                         \n",
      "Covariance Type:                 nonrobust                                         \n",
      "=================================================================================\n",
      "                    coef    std err          t      P>|t|      [0.025      0.975]\n",
      "---------------------------------------------------------------------------------\n",
      "Intercept         0.2014      0.090      2.235      0.076      -0.030       0.433\n",
      "polarity_lag1     0.0646      0.096      0.673      0.531      -0.182       0.311\n",
      "==============================================================================\n",
      "Omnibus:                          nan   Durbin-Watson:                   1.161\n",
      "Prob(Omnibus):                    nan   Jarque-Bera (JB):                0.557\n",
      "Skew:                           0.409   Prob(JB):                        0.757\n",
      "Kurtosis:                       1.885   Cond. No.                         1.48\n",
      "==============================================================================\n",
      "\n",
      "Notes:\n",
      "[1] Standard Errors assume that the covariance matrix of the errors is correctly specified.\n"
     ]
    },
    {
     "name": "stderr",
     "output_type": "stream",
     "text": [
      "/opt/homebrew/Caskroom/miniforge/base/envs/conda_env/lib/python3.8/site-packages/statsmodels/stats/stattools.py:74: ValueWarning: omni_normtest is not valid with less than 8 observations; 7 samples were given.\n",
      "  warn(\"omni_normtest is not valid with less than 8 observations; %i \"\n"
     ]
    }
   ],
   "source": [
    "lm = smf.ols(formula = \"Close_Doge_Rescaled_lag ~ polarity_lag1\", data=Doge_lags).fit()\n",
    "print (lm.summary())"
   ]
  },
  {
   "cell_type": "code",
   "execution_count": 89,
   "id": "227b0efc",
   "metadata": {},
   "outputs": [
    {
     "name": "stdout",
     "output_type": "stream",
     "text": [
      "                             OLS Regression Results                            \n",
      "===============================================================================\n",
      "Dep. Variable:     Close_Doge_Rescaled   R-squared:                       0.997\n",
      "Model:                             OLS   Adj. R-squared:                  0.996\n",
      "Method:                  Least Squares   F-statistic:                     672.9\n",
      "Date:                 Wed, 07 Jun 2023   Prob (F-statistic):           8.78e-06\n",
      "Time:                         15:04:20   Log-Likelihood:                 22.009\n",
      "No. Observations:                    7   AIC:                            -38.02\n",
      "Df Residuals:                        4   BIC:                            -38.18\n",
      "Df Model:                            2                                         \n",
      "Covariance Type:             nonrobust                                         \n",
      "===========================================================================================\n",
      "                              coef    std err          t      P>|t|      [0.025      0.975]\n",
      "-------------------------------------------------------------------------------------------\n",
      "Intercept                   0.0029      0.008      0.364      0.734      -0.019       0.025\n",
      "Close_Doge_Rescaled_lag     0.9832      0.028     35.333      0.000       0.906       1.060\n",
      "polarity_lag1              -0.0046      0.006     -0.740      0.500      -0.022       0.013\n",
      "==============================================================================\n",
      "Omnibus:                          nan   Durbin-Watson:                   2.385\n",
      "Prob(Omnibus):                    nan   Jarque-Bera (JB):                0.017\n",
      "Skew:                          -0.000   Prob(JB):                        0.992\n",
      "Kurtosis:                       2.761   Cond. No.                         6.32\n",
      "==============================================================================\n",
      "\n",
      "Notes:\n",
      "[1] Standard Errors assume that the covariance matrix of the errors is correctly specified.\n"
     ]
    },
    {
     "name": "stderr",
     "output_type": "stream",
     "text": [
      "/opt/homebrew/Caskroom/miniforge/base/envs/conda_env/lib/python3.8/site-packages/statsmodels/stats/stattools.py:74: ValueWarning: omni_normtest is not valid with less than 8 observations; 7 samples were given.\n",
      "  warn(\"omni_normtest is not valid with less than 8 observations; %i \"\n"
     ]
    }
   ],
   "source": [
    "lm = smf.ols(formula = \"Close_Doge_Rescaled ~ Close_Doge_Rescaled_lag + polarity_lag1\", data=Doge_lags).fit()\n",
    "print (lm.summary())"
   ]
  }
 ],
 "metadata": {
  "kernelspec": {
   "display_name": "Python 3 (ipykernel)",
   "language": "python",
   "name": "python3"
  },
  "language_info": {
   "codemirror_mode": {
    "name": "ipython",
    "version": 3
   },
   "file_extension": ".py",
   "mimetype": "text/x-python",
   "name": "python",
   "nbconvert_exporter": "python",
   "pygments_lexer": "ipython3",
   "version": "3.8.13"
  }
 },
 "nbformat": 4,
 "nbformat_minor": 5
}
