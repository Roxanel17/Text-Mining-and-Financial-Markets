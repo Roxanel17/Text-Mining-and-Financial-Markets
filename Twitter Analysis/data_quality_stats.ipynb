{
 "cells": [
  {
   "cell_type": "markdown",
   "id": "26d21ffc",
   "metadata": {},
   "source": [
    "Source: https://www.kaggle.com/code/gpreda/data-quality-stats"
   ]
  },
  {
   "cell_type": "markdown",
   "id": "e83ef57c",
   "metadata": {},
   "source": [
    "#### Import libraries"
   ]
  },
  {
   "cell_type": "code",
   "execution_count": 1,
   "id": "ddc409e8",
   "metadata": {},
   "outputs": [],
   "source": [
    "import numpy as np\n",
    "import pandas as pd\n",
    "import seaborn as sns\n",
    "import matplotlib as mpl\n",
    "import matplotlib.pyplot as plt\n",
    "from matplotlib.offsetbox import AnnotationBbox, OffsetImage\n",
    "\n",
    "import string\n",
    "import re"
   ]
  },
  {
   "cell_type": "markdown",
   "id": "ffc19f50",
   "metadata": {},
   "source": [
    "#### Missing data"
   ]
  },
  {
   "cell_type": "code",
   "execution_count": 2,
   "id": "8b1c64d5",
   "metadata": {},
   "outputs": [],
   "source": [
    "def missing_data(data):\n",
    "    total = data.isnull().sum()\n",
    "    percent = (data.isnull().sum()/data.isnull().count()*100)\n",
    "    tt = pd.concat([total, percent], axis=1, keys=['Total', 'Percent'])\n",
    "    types = []\n",
    "    for col in data.columns:\n",
    "        dtype = str(data[col].dtype)\n",
    "        types.append(dtype)\n",
    "    tt['Types'] = types\n",
    "    return(np.transpose(tt))"
   ]
  },
  {
   "cell_type": "markdown",
   "id": "bb7a40e4",
   "metadata": {},
   "source": [
    "#### Unique values"
   ]
  },
  {
   "cell_type": "code",
   "execution_count": 3,
   "id": "3a0d3412",
   "metadata": {},
   "outputs": [],
   "source": [
    "def unique_values(data):\n",
    "    total = data.count()\n",
    "    tt = pd.DataFrame(total)\n",
    "    tt.columns = ['Total']\n",
    "    uniques = []\n",
    "    for col in data.columns:\n",
    "        unique = data[col].nunique()\n",
    "        uniques.append(unique)\n",
    "    tt['Uniques'] = uniques\n",
    "    return(np.transpose(tt))"
   ]
  },
  {
   "cell_type": "markdown",
   "id": "b14f7238",
   "metadata": {},
   "source": [
    "#### Most frequent values"
   ]
  },
  {
   "cell_type": "code",
   "execution_count": 4,
   "id": "f6e36027",
   "metadata": {},
   "outputs": [],
   "source": [
    "def most_frequent_values(data):\n",
    "    total = data.count()\n",
    "    tt = pd.DataFrame(total)\n",
    "    tt.columns = ['Total']\n",
    "    items = []\n",
    "    vals = []\n",
    "    for col in data.columns:\n",
    "        try:\n",
    "            itm = data[col].value_counts().index[0]\n",
    "            val = data[col].value_counts().values[0]\n",
    "            items.append(itm)\n",
    "            vals.append(val)\n",
    "        except Exception as ex:\n",
    "            print(ex)\n",
    "            items.append(0)\n",
    "            vals.append(0)\n",
    "            continue\n",
    "    tt['Most frequent item'] = items\n",
    "    tt['Frequence'] = vals\n",
    "    tt['Percent from total'] = np.round(vals / total * 100, 3)\n",
    "    return(np.transpose(tt))"
   ]
  },
  {
   "cell_type": "markdown",
   "id": "42732211",
   "metadata": {},
   "source": [
    "#### Plot count"
   ]
  },
  {
   "cell_type": "code",
   "execution_count": 5,
   "id": "01b2b5b0",
   "metadata": {},
   "outputs": [],
   "source": [
    "def plot_count(feature, title, df, size=1, ordered=True):\n",
    "    f, ax = plt.subplots(1,1, figsize=(4*size,4))\n",
    "    total = float(len(df))\n",
    "    if ordered:\n",
    "        g = sns.countplot(df[feature], order = df[feature].value_counts().index[:20], palette=\"Set3\")\n",
    "    else:\n",
    "        g = sns.countplot(df[feature], palette='Set3')\n",
    "    g.set_title(\"Number and percentage of {}\".format(title))\n",
    "    if(size > 2):\n",
    "        plt.xticks(rotation=90, size=8)\n",
    "    for p in ax.patches:\n",
    "        height = p.get_height()\n",
    "        ax.text(p.get_x()+p.get_width()/2.,\n",
    "                height + 3,\n",
    "                '{:1.2f}%'.format(100*height/total),\n",
    "                ha=\"center\") \n",
    "    plt.show()    "
   ]
  },
  {
   "cell_type": "markdown",
   "id": "c341eb4c",
   "metadata": {},
   "source": [
    "#### Offset_png\n",
    "-> For adding other .png images to the graph.\n",
    "\n",
    "Source: https://stackoverflow.com/questions/61971090/how-can-i-add-images-to-bars-in-axes-matplotlib\n",
    "\n",
    "Source: https://www.kaggle.com/code/andradaolteanu/bitcoin-dogecoin-on-rapids-and-elon-musk"
   ]
  },
  {
   "cell_type": "code",
   "execution_count": 6,
   "id": "8fee0852",
   "metadata": {},
   "outputs": [],
   "source": [
    "def offset_png(x, y, path, ax, zoom, offset):\n",
    "    '''For adding other .png images to the graph.\n",
    "    source: https://stackoverflow.com/questions/61971090/how-can-i-add-images-to-bars-in-axes-matplotlib'''\n",
    "    \n",
    "    img = plt.imread(path)\n",
    "    im = OffsetImage(img, zoom=zoom)\n",
    "    im.image.axes = ax\n",
    "    x_offset = offset\n",
    "    ab = AnnotationBbox(im, (x, y), xybox=(x_offset, 0), frameon=False,\n",
    "                        xycoords='data', boxcoords=\"offset points\", pad=0)\n",
    "    ax.add_artist(ab)"
   ]
  },
  {
   "cell_type": "markdown",
   "id": "b4f12a90",
   "metadata": {},
   "source": [
    "#### Show values on bars"
   ]
  },
  {
   "cell_type": "code",
   "execution_count": 7,
   "id": "4965c94a",
   "metadata": {},
   "outputs": [],
   "source": [
    "def show_values_on_bars(axs, h_v=\"v\", space=0.4):\n",
    "    '''Plots the value at the end of the a seaborn barplot.\n",
    "    axs: the ax of the plot\n",
    "    h_v: weather or not the barplot is vertical/ horizontal'''\n",
    "    \n",
    "    def _show_on_single_plot(ax):\n",
    "        if h_v == \"v\":\n",
    "            for p in ax.patches:\n",
    "                _x = p.get_x() + p.get_width() / 2\n",
    "                _y = p.get_y() + p.get_height()\n",
    "                value = int(p.get_height())\n",
    "                ax.text(_x, _y, format(value, ','), ha=\"center\") \n",
    "        elif h_v == \"h\":\n",
    "            for p in ax.patches:\n",
    "                _x = p.get_x() + p.get_width() + float(space)\n",
    "                _y = p.get_y() + p.get_height()\n",
    "                value = int(p.get_width())\n",
    "                ax.text(_x, _y, format(value, ','), ha=\"left\")\n",
    "\n",
    "    if isinstance(axs, np.ndarray):\n",
    "        for idx, ax in np.ndenumerate(axs):\n",
    "            _show_on_single_plot(ax)\n",
    "    else:\n",
    "        _show_on_single_plot(axs)\n",
    "    "
   ]
  },
  {
   "cell_type": "markdown",
   "id": "7015adc6",
   "metadata": {},
   "source": [
    "#### Emoji extractor"
   ]
  },
  {
   "cell_type": "code",
   "execution_count": 8,
   "id": "a69835f6",
   "metadata": {},
   "outputs": [],
   "source": [
    "def emoji_extractor(string, remove=False):\n",
    "    '''Removes Emoji from a text.'''\n",
    "    emoji_pattern = re.compile(\"[\"\n",
    "                               u\"\\U0001F600-\\U0001F64F\"  # emoticons\n",
    "                               u\"\\U0001F300-\\U0001F5FF\"  # symbols & pictographs\n",
    "                               u\"\\U0001F680-\\U0001F6FF\"  # transport & map symbols\n",
    "                               u\"\\U0001F1E0-\\U0001F1FF\"  # flags (iOS)\n",
    "                               u\"\\U00002500-\\U00002BEF\"  # chinese char\n",
    "                               u\"\\U00002702-\\U000027B0\"\n",
    "                               u\"\\U00002702-\\U000027B0\"\n",
    "                               u\"\\U000024C2-\\U0001F251\"\n",
    "                               u\"\\U0001f926-\\U0001f937\"\n",
    "                               u\"\\U00010000-\\U0010ffff\"\n",
    "                               u\"\\u2640-\\u2642\"\n",
    "                               u\"\\u2600-\\u2B55\"\n",
    "                               u\"\\u200d\"\n",
    "                               u\"\\u23cf\"\n",
    "                               u\"\\u23e9\"\n",
    "                               u\"\\u231a\"\n",
    "                               u\"\\ufe0f\"  # dingbats\n",
    "                               u\"\\u3030\"\n",
    "                               \"]+\", flags=re.UNICODE)\n",
    "    if remove == False:\n",
    "        # Extract emoji\n",
    "        return emoji_pattern.findall(string)\n",
    "    else:\n",
    "        # Remove emoji from text\n",
    "        return emoji_pattern.sub(r'', string)"
   ]
  },
  {
   "cell_type": "markdown",
   "id": "8029d42b",
   "metadata": {},
   "source": [
    "#### Clean emoji"
   ]
  },
  {
   "cell_type": "code",
   "execution_count": 9,
   "id": "da2d6fcf",
   "metadata": {},
   "outputs": [],
   "source": [
    "def clean_emoji(x):\n",
    "    if len(x) == 0:\n",
    "        return ''\n",
    "    else:\n",
    "        return x[0]\n"
   ]
  },
  {
   "cell_type": "markdown",
   "id": "cb70565b",
   "metadata": {},
   "source": [
    "#### Clean tweets"
   ]
  },
  {
   "cell_type": "code",
   "execution_count": 10,
   "id": "329e6982",
   "metadata": {},
   "outputs": [],
   "source": [
    "def clean_tweets(df):\n",
    "    '''Returns the dataframe with the tweet column cleaned.'''\n",
    "    \n",
    "    # ----- Remove \\n, \\t, \\xa0 -----\n",
    "    df['tweet'] = df['tweet'].apply(lambda x: x.replace('\\n', ''))\n",
    "    df['tweet'] = df['tweet'].apply(lambda x: x.replace('\\xa0', ''))\n",
    "    df['tweet'] = df['tweet'].apply(lambda x: x.replace('\\t', ''))\n",
    "    \n",
    "    # ----- Remove pic.twitter and http:// + https:// links -----\n",
    "    df['tweet'] = df['tweet'].apply(lambda x: re.sub(r'http\\S+', '', x))\n",
    "    df['tweet'] = df['tweet'].apply(lambda x: re.sub(r'https\\S+', '', x))\n",
    "    df['tweet'] = df['tweet'].apply(lambda x: re.sub(r'pic.twitter\\S+', '', x))\n",
    "    \n",
    "    # ----- Remove mentions and hashtags -----\n",
    "    df['tweet'] = df['tweet'].apply(lambda x: re.sub(r'#\\S+', '', x))\n",
    "    df['tweet'] = df['tweet'].apply(lambda x: re.sub(r'@\\S+', '', x))\n",
    "    \n",
    "    # ----- Extract Emojis and Remove from Tweet -----\n",
    "    df['tweet_emojis'] = df['tweet'].apply(lambda x: emoji_extractor(x, remove=False))\n",
    "    df['tweet_emojis'].replace('', np.nan, inplace=True)\n",
    "#     df[\"tweet_emojis\"] = df[\"tweet_emojis\"].apply(lambda x: clean_emoji(x))\n",
    "    \n",
    "    df['tweet'] = df['tweet'].apply(lambda x: emoji_extractor(x, remove=True))\n",
    "    \n",
    "    # ----- Strip of whitespaces -----\n",
    "    df['tweet'] = df['tweet'].apply(lambda x: x.strip())\n",
    "    df['tweet'] = df['tweet'].apply(lambda x: ' '.join(x.split()))\n",
    "    \n",
    "    # ----- Remove punctuation & Make lowercase -----\n",
    "    df['tweet'] = df['tweet'].apply(lambda x: x.translate(str.maketrans('', '', string.punctuation)))\n",
    "    df['tweet'] = df['tweet'].apply(lambda x: x.lower())\n",
    "    \n",
    "    return df"
   ]
  }
 ],
 "metadata": {
  "kernelspec": {
   "display_name": "Python 3 (ipykernel)",
   "language": "python",
   "name": "python3"
  },
  "language_info": {
   "codemirror_mode": {
    "name": "ipython",
    "version": 3
   },
   "file_extension": ".py",
   "mimetype": "text/x-python",
   "name": "python",
   "nbconvert_exporter": "python",
   "pygments_lexer": "ipython3",
   "version": "3.8.13"
  }
 },
 "nbformat": 4,
 "nbformat_minor": 5
}
