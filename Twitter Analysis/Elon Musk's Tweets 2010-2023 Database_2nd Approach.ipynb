{
 "cells": [
  {
   "cell_type": "markdown",
   "id": "f547195e",
   "metadata": {},
   "source": [
    "### Elon Musk's Tweets via Kaggle"
   ]
  },
  {
   "cell_type": "markdown",
   "id": "f1fd64e1",
   "metadata": {},
   "source": [
    "Timestamps:\n",
    "\n",
    "- 4 iunie 2010 - 17 aprilie 2021\n",
    "- 17 aprilie 2021 - 5 iulie 2022\n",
    "- 5 iulie 2022 - 13 mai 2023\n",
    "\n"
   ]
  },
  {
   "cell_type": "markdown",
   "id": "704da121",
   "metadata": {},
   "source": [
    "Libraries"
   ]
  },
  {
   "cell_type": "code",
   "execution_count": 1,
   "id": "35ba43b0",
   "metadata": {},
   "outputs": [],
   "source": [
    "import pandas as pd\n",
    "import re\n",
    "import numpy as np\n",
    "import string\n",
    "\n",
    "from ipynb.fs.full.data_quality_stats import emoji_extractor, clean_emoji, clean_tweets"
   ]
  },
  {
   "cell_type": "markdown",
   "id": "9d9b0d08",
   "metadata": {},
   "source": [
    "**Data from 2010 till 17th April 2021**\n",
    "\n",
    "Source: https://www.kaggle.com/datasets/andradaolteanu/all-elon-musks-tweets"
   ]
  },
  {
   "cell_type": "code",
   "execution_count": 2,
   "id": "3a142755",
   "metadata": {
    "scrolled": true
   },
   "outputs": [
    {
     "data": {
      "text/html": [
       "<div>\n",
       "<style scoped>\n",
       "    .dataframe tbody tr th:only-of-type {\n",
       "        vertical-align: middle;\n",
       "    }\n",
       "\n",
       "    .dataframe tbody tr th {\n",
       "        vertical-align: top;\n",
       "    }\n",
       "\n",
       "    .dataframe thead th {\n",
       "        text-align: right;\n",
       "    }\n",
       "</style>\n",
       "<table border=\"1\" class=\"dataframe\">\n",
       "  <thead>\n",
       "    <tr style=\"text-align: right;\">\n",
       "      <th></th>\n",
       "      <th>id</th>\n",
       "      <th>conversation_id</th>\n",
       "      <th>created_at</th>\n",
       "      <th>date</th>\n",
       "      <th>time</th>\n",
       "      <th>timezone</th>\n",
       "      <th>user_id</th>\n",
       "      <th>username</th>\n",
       "      <th>name</th>\n",
       "      <th>place</th>\n",
       "      <th>...</th>\n",
       "      <th>geo</th>\n",
       "      <th>source</th>\n",
       "      <th>user_rt_id</th>\n",
       "      <th>user_rt</th>\n",
       "      <th>retweet_id</th>\n",
       "      <th>reply_to</th>\n",
       "      <th>retweet_date</th>\n",
       "      <th>translate</th>\n",
       "      <th>trans_src</th>\n",
       "      <th>trans_dest</th>\n",
       "    </tr>\n",
       "  </thead>\n",
       "  <tbody>\n",
       "    <tr>\n",
       "      <th>0</th>\n",
       "      <td>1381273474400800773</td>\n",
       "      <td>1381002894032347138</td>\n",
       "      <td>2021-04-11 18:50:33 EEST</td>\n",
       "      <td>2021-04-11</td>\n",
       "      <td>18:50:33</td>\n",
       "      <td>300</td>\n",
       "      <td>44196397</td>\n",
       "      <td>elonmusk</td>\n",
       "      <td>Elon Musk</td>\n",
       "      <td>NaN</td>\n",
       "      <td>...</td>\n",
       "      <td>NaN</td>\n",
       "      <td>NaN</td>\n",
       "      <td>NaN</td>\n",
       "      <td>NaN</td>\n",
       "      <td>NaN</td>\n",
       "      <td>[{'screen_name': 'vincent13031925', 'name': 'V...</td>\n",
       "      <td>NaN</td>\n",
       "      <td>NaN</td>\n",
       "      <td>NaN</td>\n",
       "      <td>NaN</td>\n",
       "    </tr>\n",
       "    <tr>\n",
       "      <th>1</th>\n",
       "      <td>1381273076709478403</td>\n",
       "      <td>1372444955050971142</td>\n",
       "      <td>2021-04-11 18:48:58 EEST</td>\n",
       "      <td>2021-04-11</td>\n",
       "      <td>18:48:58</td>\n",
       "      <td>300</td>\n",
       "      <td>44196397</td>\n",
       "      <td>elonmusk</td>\n",
       "      <td>Elon Musk</td>\n",
       "      <td>NaN</td>\n",
       "      <td>...</td>\n",
       "      <td>NaN</td>\n",
       "      <td>NaN</td>\n",
       "      <td>NaN</td>\n",
       "      <td>NaN</td>\n",
       "      <td>NaN</td>\n",
       "      <td>[]</td>\n",
       "      <td>NaN</td>\n",
       "      <td>NaN</td>\n",
       "      <td>NaN</td>\n",
       "      <td>NaN</td>\n",
       "    </tr>\n",
       "  </tbody>\n",
       "</table>\n",
       "<p>2 rows × 36 columns</p>\n",
       "</div>"
      ],
      "text/plain": [
       "                    id      conversation_id                created_at  \\\n",
       "0  1381273474400800773  1381002894032347138  2021-04-11 18:50:33 EEST   \n",
       "1  1381273076709478403  1372444955050971142  2021-04-11 18:48:58 EEST   \n",
       "\n",
       "         date      time  timezone   user_id  username       name  place  ...  \\\n",
       "0  2021-04-11  18:50:33       300  44196397  elonmusk  Elon Musk    NaN  ...   \n",
       "1  2021-04-11  18:48:58       300  44196397  elonmusk  Elon Musk    NaN  ...   \n",
       "\n",
       "  geo source user_rt_id user_rt retweet_id  \\\n",
       "0 NaN    NaN        NaN     NaN        NaN   \n",
       "1 NaN    NaN        NaN     NaN        NaN   \n",
       "\n",
       "                                            reply_to  retweet_date  translate  \\\n",
       "0  [{'screen_name': 'vincent13031925', 'name': 'V...           NaN        NaN   \n",
       "1                                                 []           NaN        NaN   \n",
       "\n",
       "  trans_src trans_dest  \n",
       "0       NaN        NaN  \n",
       "1       NaN        NaN  \n",
       "\n",
       "[2 rows x 36 columns]"
      ]
     },
     "execution_count": 2,
     "metadata": {},
     "output_type": "execute_result"
    }
   ],
   "source": [
    "df_10_21 = pd.read_csv(\"../date Kaggle tweets/TweetsElonMusk.csv\")\n",
    "df_10_21.head(2)"
   ]
  },
  {
   "cell_type": "code",
   "execution_count": 3,
   "id": "5677fd45",
   "metadata": {},
   "outputs": [],
   "source": [
    "columns_to_drop = ['time', 'timezone', 'place', 'language', 'mentions', 'urls',\n",
    "                  'photos', 'hashtags', 'cashtags', 'link', 'quote_url', 'video', 'thumbnail', 'near', 'geo',\n",
    "                  'source', 'user_rt_id', 'user_rt', 'retweet_id', 'reply_to', 'retweet_date', 'translate', \n",
    "                  'trans_src', 'trans_dest']"
   ]
  },
  {
   "cell_type": "code",
   "execution_count": 4,
   "id": "b76a97bb",
   "metadata": {},
   "outputs": [],
   "source": [
    "df_10_21.drop(columns_to_drop, axis=1, inplace=True)\n",
    "# df_10_21.head()"
   ]
  },
  {
   "cell_type": "code",
   "execution_count": 5,
   "id": "7dfe5a6c",
   "metadata": {
    "scrolled": true
   },
   "outputs": [
    {
     "name": "stdout",
     "output_type": "stream",
     "text": [
      "<class 'pandas.core.series.Series'>\n",
      "RangeIndex: 12562 entries, 0 to 12561\n",
      "Series name: date\n",
      "Non-Null Count  Dtype \n",
      "--------------  ----- \n",
      "12562 non-null  object\n",
      "dtypes: object(1)\n",
      "memory usage: 98.3+ KB\n",
      "<class 'pandas.core.series.Series'>\n",
      "RangeIndex: 12562 entries, 0 to 12561\n",
      "Series name: date\n",
      "Non-Null Count  Dtype         \n",
      "--------------  -----         \n",
      "12562 non-null  datetime64[ns]\n",
      "dtypes: datetime64[ns](1)\n",
      "memory usage: 98.3 KB\n",
      "<class 'pandas.core.series.Series'>\n",
      "RangeIndex: 12562 entries, 0 to 12561\n",
      "Series name: created_at\n",
      "Non-Null Count  Dtype \n",
      "--------------  ----- \n",
      "12562 non-null  object\n",
      "dtypes: object(1)\n",
      "memory usage: 98.3+ KB\n",
      "<class 'pandas.core.series.Series'>\n",
      "RangeIndex: 12562 entries, 0 to 12561\n",
      "Series name: created_at\n",
      "Non-Null Count  Dtype         \n",
      "--------------  -----         \n",
      "12562 non-null  datetime64[ns]\n",
      "dtypes: datetime64[ns](1)\n",
      "memory usage: 98.3 KB\n"
     ]
    }
   ],
   "source": [
    "df_10_21['date'].info() # --> initial it was stored as object, not as date\n",
    "df_10_21['date'] = pd.to_datetime(df_10_21['date'])\n",
    "df_10_21['date'].info() # stored as datetime\n",
    "\n",
    "df_10_21['created_at'].info() # --> initial it was stored as object, not as date\n",
    "df_10_21['created_at'] = pd.to_datetime(df_10_21['created_at']).dt.tz_localize(None)\n",
    "df_10_21['created_at'].info() # stored as datetime"
   ]
  },
  {
   "cell_type": "code",
   "execution_count": 6,
   "id": "03352120",
   "metadata": {},
   "outputs": [
    {
     "data": {
      "text/plain": [
       "(12562, 12)"
      ]
     },
     "execution_count": 6,
     "metadata": {},
     "output_type": "execute_result"
    }
   ],
   "source": [
    "df_10_21.shape"
   ]
  },
  {
   "cell_type": "markdown",
   "id": "e41a0f85",
   "metadata": {},
   "source": [
    "*So we need data from 17th April 2021 - 5th July 2022*\n",
    "\n",
    "**Data from 4th June 2010 till 26th December 2022**\n",
    "*We extract data from 17th April 2021 till 5 July 2022*\n",
    "\n",
    "Source: https://www.kaggle.com/datasets/alexhuggler/elon-tweets-wsentimentclassified-via-roberta"
   ]
  },
  {
   "cell_type": "code",
   "execution_count": 7,
   "id": "5bd9f8f6",
   "metadata": {
    "scrolled": true
   },
   "outputs": [
    {
     "data": {
      "text/html": [
       "<div>\n",
       "<style scoped>\n",
       "    .dataframe tbody tr th:only-of-type {\n",
       "        vertical-align: middle;\n",
       "    }\n",
       "\n",
       "    .dataframe tbody tr th {\n",
       "        vertical-align: top;\n",
       "    }\n",
       "\n",
       "    .dataframe thead th {\n",
       "        text-align: right;\n",
       "    }\n",
       "</style>\n",
       "<table border=\"1\" class=\"dataframe\">\n",
       "  <thead>\n",
       "    <tr style=\"text-align: right;\">\n",
       "      <th></th>\n",
       "      <th>Unnamed: 0.1</th>\n",
       "      <th>Unnamed: 0</th>\n",
       "      <th>Datetime</th>\n",
       "      <th>Tweet Id</th>\n",
       "      <th>Text</th>\n",
       "      <th>Username</th>\n",
       "      <th>location</th>\n",
       "      <th>reply count</th>\n",
       "      <th>retweet count</th>\n",
       "      <th>like count</th>\n",
       "      <th>language</th>\n",
       "      <th>Twitter Access Point</th>\n",
       "      <th>Follower Count</th>\n",
       "      <th>Friends Count</th>\n",
       "      <th>verified</th>\n",
       "      <th>Date</th>\n",
       "      <th>mentions</th>\n",
       "      <th>sentiment</th>\n",
       "    </tr>\n",
       "  </thead>\n",
       "  <tbody>\n",
       "    <tr>\n",
       "      <th>0</th>\n",
       "      <td>0</td>\n",
       "      <td>0</td>\n",
       "      <td>2022-12-26 00:11:00+00:00</td>\n",
       "      <td>1607167057573085184</td>\n",
       "      <td>@nixcraft lol</td>\n",
       "      <td>elonmusk</td>\n",
       "      <td>NaN</td>\n",
       "      <td>217</td>\n",
       "      <td>53</td>\n",
       "      <td>1439</td>\n",
       "      <td>und</td>\n",
       "      <td>Twitter for iPhone</td>\n",
       "      <td>123153718</td>\n",
       "      <td>162</td>\n",
       "      <td>True</td>\n",
       "      <td>2022-12-26</td>\n",
       "      <td>nixcraft</td>\n",
       "      <td>['neutral', 0.55792016]</td>\n",
       "    </tr>\n",
       "    <tr>\n",
       "      <th>1</th>\n",
       "      <td>1</td>\n",
       "      <td>1</td>\n",
       "      <td>2022-12-26 00:07:26+00:00</td>\n",
       "      <td>1607166156275879937</td>\n",
       "      <td>@catehall Luck is the greatest superpower</td>\n",
       "      <td>elonmusk</td>\n",
       "      <td>NaN</td>\n",
       "      <td>782</td>\n",
       "      <td>507</td>\n",
       "      <td>7127</td>\n",
       "      <td>en</td>\n",
       "      <td>Twitter for iPhone</td>\n",
       "      <td>123153718</td>\n",
       "      <td>162</td>\n",
       "      <td>True</td>\n",
       "      <td>2022-12-26</td>\n",
       "      <td>catehall</td>\n",
       "      <td>['positive', 0.8802294]</td>\n",
       "    </tr>\n",
       "  </tbody>\n",
       "</table>\n",
       "</div>"
      ],
      "text/plain": [
       "   Unnamed: 0.1  Unnamed: 0                   Datetime             Tweet Id  \\\n",
       "0             0           0  2022-12-26 00:11:00+00:00  1607167057573085184   \n",
       "1             1           1  2022-12-26 00:07:26+00:00  1607166156275879937   \n",
       "\n",
       "                                        Text  Username  location  reply count  \\\n",
       "0                              @nixcraft lol  elonmusk       NaN          217   \n",
       "1  @catehall Luck is the greatest superpower  elonmusk       NaN          782   \n",
       "\n",
       "   retweet count  like count language Twitter Access Point  Follower Count  \\\n",
       "0             53        1439      und   Twitter for iPhone       123153718   \n",
       "1            507        7127       en   Twitter for iPhone       123153718   \n",
       "\n",
       "    Friends Count  verified        Date  mentions                sentiment  \n",
       "0             162      True  2022-12-26  nixcraft  ['neutral', 0.55792016]  \n",
       "1             162      True  2022-12-26  catehall  ['positive', 0.8802294]  "
      ]
     },
     "execution_count": 7,
     "metadata": {},
     "output_type": "execute_result"
    }
   ],
   "source": [
    "df_10_22 = pd.read_csv(\"../date Kaggle tweets/ElonTweets(Sentiment)_12-25-22.csv\")\n",
    "df_10_22.head(2)"
   ]
  },
  {
   "cell_type": "code",
   "execution_count": 8,
   "id": "9f0be496",
   "metadata": {},
   "outputs": [],
   "source": [
    "columns_to_drop = ['Unnamed: 0.1', 'Unnamed: 0', 'location', 'language', 'Twitter Access Point', 'verified', \n",
    "                   'mentions', 'sentiment']"
   ]
  },
  {
   "cell_type": "code",
   "execution_count": 9,
   "id": "5a93ab2f",
   "metadata": {},
   "outputs": [],
   "source": [
    "df_10_22.drop(columns_to_drop, axis=1, inplace=True)"
   ]
  },
  {
   "cell_type": "code",
   "execution_count": 10,
   "id": "b89081ba",
   "metadata": {
    "scrolled": true
   },
   "outputs": [
    {
     "data": {
      "text/html": [
       "<div>\n",
       "<style scoped>\n",
       "    .dataframe tbody tr th:only-of-type {\n",
       "        vertical-align: middle;\n",
       "    }\n",
       "\n",
       "    .dataframe tbody tr th {\n",
       "        vertical-align: top;\n",
       "    }\n",
       "\n",
       "    .dataframe thead th {\n",
       "        text-align: right;\n",
       "    }\n",
       "</style>\n",
       "<table border=\"1\" class=\"dataframe\">\n",
       "  <thead>\n",
       "    <tr style=\"text-align: right;\">\n",
       "      <th></th>\n",
       "      <th>created_at</th>\n",
       "      <th>conversation_id</th>\n",
       "      <th>tweet</th>\n",
       "      <th>username</th>\n",
       "      <th>replies_count</th>\n",
       "      <th>retweets_count</th>\n",
       "      <th>likes_count</th>\n",
       "      <th>user_followers</th>\n",
       "      <th>user_friends</th>\n",
       "      <th>date</th>\n",
       "    </tr>\n",
       "  </thead>\n",
       "  <tbody>\n",
       "    <tr>\n",
       "      <th>0</th>\n",
       "      <td>2022-12-26 00:11:00+00:00</td>\n",
       "      <td>1607167057573085184</td>\n",
       "      <td>@nixcraft lol</td>\n",
       "      <td>elonmusk</td>\n",
       "      <td>217</td>\n",
       "      <td>53</td>\n",
       "      <td>1439</td>\n",
       "      <td>123153718</td>\n",
       "      <td>162</td>\n",
       "      <td>2022-12-26</td>\n",
       "    </tr>\n",
       "    <tr>\n",
       "      <th>1</th>\n",
       "      <td>2022-12-26 00:07:26+00:00</td>\n",
       "      <td>1607166156275879937</td>\n",
       "      <td>@catehall Luck is the greatest superpower</td>\n",
       "      <td>elonmusk</td>\n",
       "      <td>782</td>\n",
       "      <td>507</td>\n",
       "      <td>7127</td>\n",
       "      <td>123153718</td>\n",
       "      <td>162</td>\n",
       "      <td>2022-12-26</td>\n",
       "    </tr>\n",
       "    <tr>\n",
       "      <th>2</th>\n",
       "      <td>2022-12-25 22:56:49+00:00</td>\n",
       "      <td>1607148387799011328</td>\n",
       "      <td>@ashleevance kek</td>\n",
       "      <td>elonmusk</td>\n",
       "      <td>1550</td>\n",
       "      <td>1229</td>\n",
       "      <td>18401</td>\n",
       "      <td>123153718</td>\n",
       "      <td>162</td>\n",
       "      <td>2022-12-25</td>\n",
       "    </tr>\n",
       "  </tbody>\n",
       "</table>\n",
       "</div>"
      ],
      "text/plain": [
       "                  created_at      conversation_id  \\\n",
       "0  2022-12-26 00:11:00+00:00  1607167057573085184   \n",
       "1  2022-12-26 00:07:26+00:00  1607166156275879937   \n",
       "2  2022-12-25 22:56:49+00:00  1607148387799011328   \n",
       "\n",
       "                                       tweet  username  replies_count  \\\n",
       "0                              @nixcraft lol  elonmusk            217   \n",
       "1  @catehall Luck is the greatest superpower  elonmusk            782   \n",
       "2                           @ashleevance kek  elonmusk           1550   \n",
       "\n",
       "   retweets_count  likes_count  user_followers  user_friends        date  \n",
       "0              53         1439       123153718           162  2022-12-26  \n",
       "1             507         7127       123153718           162  2022-12-26  \n",
       "2            1229        18401       123153718           162  2022-12-25  "
      ]
     },
     "execution_count": 10,
     "metadata": {},
     "output_type": "execute_result"
    }
   ],
   "source": [
    "df_10_22 = df_10_22.rename(columns={\"Tweet Id\": \"conversation_id\", \"Datetime\": \"created_at\", \"Text\":'tweet', \n",
    "                                    'reply count': 'replies_count','retweet count':'retweets_count', \n",
    "                                    'like count':\"likes_count\", 'Date':'date','Username': 'username', \n",
    "                                    ' Friends Count':'user_friends', 'Follower Count':'user_followers'})\n",
    "df_10_22.head(3)"
   ]
  },
  {
   "cell_type": "code",
   "execution_count": 11,
   "id": "32e95210",
   "metadata": {},
   "outputs": [],
   "source": [
    "df_10_22['created_at'] = pd.to_datetime(df_10_22['created_at']).dt.tz_localize(None)\n",
    "df_10_22['date'] = pd.to_datetime(df_10_22['date'])\n",
    "# df_10_22['created_at'].info() # stored as datetime"
   ]
  },
  {
   "cell_type": "code",
   "execution_count": 12,
   "id": "5f6dda0d",
   "metadata": {},
   "outputs": [
    {
     "data": {
      "text/plain": [
       "(19190, 10)"
      ]
     },
     "execution_count": 12,
     "metadata": {},
     "output_type": "execute_result"
    }
   ],
   "source": [
    "df_10_22.shape"
   ]
  },
  {
   "cell_type": "markdown",
   "id": "b3b50987",
   "metadata": {},
   "source": [
    "###### Create a copy for df_10_22 so that we have data from 17th April 2021 until 5th July 2022"
   ]
  },
  {
   "cell_type": "code",
   "execution_count": 13,
   "id": "8433dacb",
   "metadata": {},
   "outputs": [],
   "source": [
    "df_22_subset = df_10_22.loc[(df_10_22['date'] >= '2021-04-17') & \n",
    "                                (df_10_22['date'] <= '2022-07-05')]"
   ]
  },
  {
   "cell_type": "code",
   "execution_count": 14,
   "id": "34a2e282",
   "metadata": {},
   "outputs": [
    {
     "data": {
      "text/html": [
       "<div>\n",
       "<style scoped>\n",
       "    .dataframe tbody tr th:only-of-type {\n",
       "        vertical-align: middle;\n",
       "    }\n",
       "\n",
       "    .dataframe tbody tr th {\n",
       "        vertical-align: top;\n",
       "    }\n",
       "\n",
       "    .dataframe thead th {\n",
       "        text-align: right;\n",
       "    }\n",
       "</style>\n",
       "<table border=\"1\" class=\"dataframe\">\n",
       "  <thead>\n",
       "    <tr style=\"text-align: right;\">\n",
       "      <th></th>\n",
       "      <th>created_at</th>\n",
       "      <th>conversation_id</th>\n",
       "      <th>tweet</th>\n",
       "      <th>username</th>\n",
       "      <th>replies_count</th>\n",
       "      <th>retweets_count</th>\n",
       "      <th>likes_count</th>\n",
       "      <th>user_followers</th>\n",
       "      <th>user_friends</th>\n",
       "      <th>date</th>\n",
       "    </tr>\n",
       "  </thead>\n",
       "  <tbody>\n",
       "    <tr>\n",
       "      <th>2972</th>\n",
       "      <td>2022-07-05 17:55:09</td>\n",
       "      <td>1544379368478212100</td>\n",
       "      <td>@BillyM2k I find the gold toe sock – inevitabl...</td>\n",
       "      <td>elonmusk</td>\n",
       "      <td>1002</td>\n",
       "      <td>296</td>\n",
       "      <td>6214</td>\n",
       "      <td>123153823</td>\n",
       "      <td>162</td>\n",
       "      <td>2022-07-05</td>\n",
       "    </tr>\n",
       "    <tr>\n",
       "      <th>2973</th>\n",
       "      <td>2022-07-05 17:47:42</td>\n",
       "      <td>1544377493263720450</td>\n",
       "      <td>Sock Con, the conference for socks</td>\n",
       "      <td>elonmusk</td>\n",
       "      <td>2680</td>\n",
       "      <td>1411</td>\n",
       "      <td>29876</td>\n",
       "      <td>123153823</td>\n",
       "      <td>162</td>\n",
       "      <td>2022-07-05</td>\n",
       "    </tr>\n",
       "    <tr>\n",
       "      <th>2974</th>\n",
       "      <td>2022-07-05 17:46:15</td>\n",
       "      <td>1544377130590552064</td>\n",
       "      <td>Always something new for the magazine cover an...</td>\n",
       "      <td>elonmusk</td>\n",
       "      <td>1556</td>\n",
       "      <td>1251</td>\n",
       "      <td>27787</td>\n",
       "      <td>123153823</td>\n",
       "      <td>162</td>\n",
       "      <td>2022-07-05</td>\n",
       "    </tr>\n",
       "  </tbody>\n",
       "</table>\n",
       "</div>"
      ],
      "text/plain": [
       "              created_at      conversation_id  \\\n",
       "2972 2022-07-05 17:55:09  1544379368478212100   \n",
       "2973 2022-07-05 17:47:42  1544377493263720450   \n",
       "2974 2022-07-05 17:46:15  1544377130590552064   \n",
       "\n",
       "                                                  tweet  username  \\\n",
       "2972  @BillyM2k I find the gold toe sock – inevitabl...  elonmusk   \n",
       "2973                 Sock Con, the conference for socks  elonmusk   \n",
       "2974  Always something new for the magazine cover an...  elonmusk   \n",
       "\n",
       "      replies_count  retweets_count  likes_count  user_followers  \\\n",
       "2972           1002             296         6214       123153823   \n",
       "2973           2680            1411        29876       123153823   \n",
       "2974           1556            1251        27787       123153823   \n",
       "\n",
       "      user_friends       date  \n",
       "2972           162 2022-07-05  \n",
       "2973           162 2022-07-05  \n",
       "2974           162 2022-07-05  "
      ]
     },
     "execution_count": 14,
     "metadata": {},
     "output_type": "execute_result"
    }
   ],
   "source": [
    "df_22_subset.head(3)"
   ]
  },
  {
   "cell_type": "code",
   "execution_count": 15,
   "id": "182cf3ad",
   "metadata": {},
   "outputs": [
    {
     "data": {
      "text/plain": [
       "(12562, 12)"
      ]
     },
     "execution_count": 15,
     "metadata": {},
     "output_type": "execute_result"
    }
   ],
   "source": [
    "df_10_21.shape"
   ]
  },
  {
   "cell_type": "code",
   "execution_count": 16,
   "id": "97a3edfc",
   "metadata": {},
   "outputs": [
    {
     "data": {
      "text/plain": [
       "(4136, 10)"
      ]
     },
     "execution_count": 16,
     "metadata": {},
     "output_type": "execute_result"
    }
   ],
   "source": [
    "df_22_subset.shape"
   ]
  },
  {
   "cell_type": "markdown",
   "id": "4b1ae063",
   "metadata": {},
   "source": [
    "Concatenate the two dataframes so that we have data from 2010 till 2022"
   ]
  },
  {
   "cell_type": "code",
   "execution_count": 17,
   "id": "abcdd570",
   "metadata": {},
   "outputs": [
    {
     "data": {
      "text/plain": [
       "(16698, 14)"
      ]
     },
     "execution_count": 17,
     "metadata": {},
     "output_type": "execute_result"
    }
   ],
   "source": [
    "result_df = pd.concat([df_10_21, df_22_subset], axis = 0)  \n",
    "result_df.shape"
   ]
  },
  {
   "cell_type": "code",
   "execution_count": 18,
   "id": "dd0754c6",
   "metadata": {
    "scrolled": true
   },
   "outputs": [
    {
     "data": {
      "text/html": [
       "<div>\n",
       "<style scoped>\n",
       "    .dataframe tbody tr th:only-of-type {\n",
       "        vertical-align: middle;\n",
       "    }\n",
       "\n",
       "    .dataframe tbody tr th {\n",
       "        vertical-align: top;\n",
       "    }\n",
       "\n",
       "    .dataframe thead th {\n",
       "        text-align: right;\n",
       "    }\n",
       "</style>\n",
       "<table border=\"1\" class=\"dataframe\">\n",
       "  <thead>\n",
       "    <tr style=\"text-align: right;\">\n",
       "      <th></th>\n",
       "      <th>id</th>\n",
       "      <th>conversation_id</th>\n",
       "      <th>created_at</th>\n",
       "      <th>date</th>\n",
       "      <th>user_id</th>\n",
       "      <th>username</th>\n",
       "      <th>name</th>\n",
       "      <th>tweet</th>\n",
       "      <th>replies_count</th>\n",
       "      <th>retweets_count</th>\n",
       "      <th>likes_count</th>\n",
       "      <th>is_retweet</th>\n",
       "      <th>user_followers</th>\n",
       "      <th>user_friends</th>\n",
       "    </tr>\n",
       "  </thead>\n",
       "  <tbody>\n",
       "    <tr>\n",
       "      <th>12514</th>\n",
       "      <td>1.543473e+10</td>\n",
       "      <td>15434727182</td>\n",
       "      <td>2010-06-04 21:31:57</td>\n",
       "      <td>2010-06-04</td>\n",
       "      <td>44196397.0</td>\n",
       "      <td>elonmusk</td>\n",
       "      <td>Elon Musk</td>\n",
       "      <td>Please ignore prior tweets, as that was someon...</td>\n",
       "      <td>398</td>\n",
       "      <td>349</td>\n",
       "      <td>4710</td>\n",
       "      <td>False</td>\n",
       "      <td>NaN</td>\n",
       "      <td>NaN</td>\n",
       "    </tr>\n",
       "    <tr>\n",
       "      <th>12513</th>\n",
       "      <td>1.421799e+17</td>\n",
       "      <td>142179928203460608</td>\n",
       "      <td>2011-12-01 11:55:11</td>\n",
       "      <td>2011-12-01</td>\n",
       "      <td>44196397.0</td>\n",
       "      <td>elonmusk</td>\n",
       "      <td>Elon Musk</td>\n",
       "      <td>Went to Iceland on Sat to ride bumper cars on ...</td>\n",
       "      <td>31</td>\n",
       "      <td>16</td>\n",
       "      <td>191</td>\n",
       "      <td>False</td>\n",
       "      <td>NaN</td>\n",
       "      <td>NaN</td>\n",
       "    </tr>\n",
       "    <tr>\n",
       "      <th>12512</th>\n",
       "      <td>1.421885e+17</td>\n",
       "      <td>142188458125963264</td>\n",
       "      <td>2011-12-01 12:29:04</td>\n",
       "      <td>2011-12-01</td>\n",
       "      <td>44196397.0</td>\n",
       "      <td>elonmusk</td>\n",
       "      <td>Elon Musk</td>\n",
       "      <td>I made the volume on the Model S  http://t.co/...</td>\n",
       "      <td>31</td>\n",
       "      <td>9</td>\n",
       "      <td>79</td>\n",
       "      <td>False</td>\n",
       "      <td>NaN</td>\n",
       "      <td>NaN</td>\n",
       "    </tr>\n",
       "  </tbody>\n",
       "</table>\n",
       "</div>"
      ],
      "text/plain": [
       "                 id     conversation_id          created_at       date  \\\n",
       "12514  1.543473e+10         15434727182 2010-06-04 21:31:57 2010-06-04   \n",
       "12513  1.421799e+17  142179928203460608 2011-12-01 11:55:11 2011-12-01   \n",
       "12512  1.421885e+17  142188458125963264 2011-12-01 12:29:04 2011-12-01   \n",
       "\n",
       "          user_id  username       name  \\\n",
       "12514  44196397.0  elonmusk  Elon Musk   \n",
       "12513  44196397.0  elonmusk  Elon Musk   \n",
       "12512  44196397.0  elonmusk  Elon Musk   \n",
       "\n",
       "                                                   tweet  replies_count  \\\n",
       "12514  Please ignore prior tweets, as that was someon...            398   \n",
       "12513  Went to Iceland on Sat to ride bumper cars on ...             31   \n",
       "12512  I made the volume on the Model S  http://t.co/...             31   \n",
       "\n",
       "       retweets_count  likes_count is_retweet  user_followers  user_friends  \n",
       "12514             349         4710      False             NaN           NaN  \n",
       "12513              16          191      False             NaN           NaN  \n",
       "12512               9           79      False             NaN           NaN  "
      ]
     },
     "execution_count": 18,
     "metadata": {},
     "output_type": "execute_result"
    }
   ],
   "source": [
    "result_df = result_df.rename(columns={'retweet':'is_retweet'})\n",
    "result_df.sort_values(by=['date'], inplace=True) \n",
    "values = {\"user_id\": 44196397, \"user_name\": 'elonmusk', \"name\": 'Elon Musk'}\n",
    "result_df = result_df.fillna(value=values)\n",
    "\n",
    "result_df.head(3)"
   ]
  },
  {
   "cell_type": "markdown",
   "id": "0691a887",
   "metadata": {},
   "source": [
    "**JOIN** DATA FROM 2010 - 5th JULY 2022 TO DATA FROM 5th JULY 2022 - 13 MAY 2023"
   ]
  },
  {
   "cell_type": "markdown",
   "id": "4fdc4984",
   "metadata": {},
   "source": [
    "**Data from 5th July 2022 till 13th May 2023**\n",
    "\n",
    "Source: https://www.kaggle.com/datasets/gpreda/elon-musk-tweets"
   ]
  },
  {
   "cell_type": "code",
   "execution_count": 19,
   "id": "450befe5",
   "metadata": {
    "scrolled": true
   },
   "outputs": [
    {
     "data": {
      "text/html": [
       "<div>\n",
       "<style scoped>\n",
       "    .dataframe tbody tr th:only-of-type {\n",
       "        vertical-align: middle;\n",
       "    }\n",
       "\n",
       "    .dataframe tbody tr th {\n",
       "        vertical-align: top;\n",
       "    }\n",
       "\n",
       "    .dataframe thead th {\n",
       "        text-align: right;\n",
       "    }\n",
       "</style>\n",
       "<table border=\"1\" class=\"dataframe\">\n",
       "  <thead>\n",
       "    <tr style=\"text-align: right;\">\n",
       "      <th></th>\n",
       "      <th>id</th>\n",
       "      <th>user_name</th>\n",
       "      <th>user_location</th>\n",
       "      <th>user_description</th>\n",
       "      <th>user_created</th>\n",
       "      <th>user_followers</th>\n",
       "      <th>user_friends</th>\n",
       "      <th>user_favourites</th>\n",
       "      <th>user_verified</th>\n",
       "      <th>date</th>\n",
       "      <th>text</th>\n",
       "      <th>hashtags</th>\n",
       "      <th>source</th>\n",
       "      <th>retweets</th>\n",
       "      <th>favorites</th>\n",
       "      <th>is_retweet</th>\n",
       "    </tr>\n",
       "  </thead>\n",
       "  <tbody>\n",
       "    <tr>\n",
       "      <th>0</th>\n",
       "      <td>1544379368478212100</td>\n",
       "      <td>Elon Musk</td>\n",
       "      <td>NaN</td>\n",
       "      <td>Mars &amp; Cars, Chips &amp; Dips</td>\n",
       "      <td>2009-06-02 20:12:29+00:00</td>\n",
       "      <td>101240855</td>\n",
       "      <td>115</td>\n",
       "      <td>13503</td>\n",
       "      <td>True</td>\n",
       "      <td>2022-07-05 17:55:09+00:00</td>\n",
       "      <td>@BillyM2k I find the gold toe sock – inevitabl...</td>\n",
       "      <td>NaN</td>\n",
       "      <td>Twitter for iPhone</td>\n",
       "      <td>335</td>\n",
       "      <td>6542</td>\n",
       "      <td>False</td>\n",
       "    </tr>\n",
       "    <tr>\n",
       "      <th>1</th>\n",
       "      <td>1544377493263720450</td>\n",
       "      <td>Elon Musk</td>\n",
       "      <td>NaN</td>\n",
       "      <td>Mars &amp; Cars, Chips &amp; Dips</td>\n",
       "      <td>2009-06-02 20:12:29+00:00</td>\n",
       "      <td>101240806</td>\n",
       "      <td>115</td>\n",
       "      <td>13503</td>\n",
       "      <td>True</td>\n",
       "      <td>2022-07-05 17:47:42+00:00</td>\n",
       "      <td>Sock Con, the conference for socks</td>\n",
       "      <td>NaN</td>\n",
       "      <td>Twitter for iPhone</td>\n",
       "      <td>1451</td>\n",
       "      <td>30753</td>\n",
       "      <td>False</td>\n",
       "    </tr>\n",
       "    <tr>\n",
       "      <th>2</th>\n",
       "      <td>1544377130590552064</td>\n",
       "      <td>Elon Musk</td>\n",
       "      <td>NaN</td>\n",
       "      <td>Mars &amp; Cars, Chips &amp; Dips</td>\n",
       "      <td>2009-06-02 20:12:29+00:00</td>\n",
       "      <td>101240806</td>\n",
       "      <td>115</td>\n",
       "      <td>13503</td>\n",
       "      <td>True</td>\n",
       "      <td>2022-07-05 17:46:15+00:00</td>\n",
       "      <td>Always something new for the magazine cover an...</td>\n",
       "      <td>NaN</td>\n",
       "      <td>Twitter for iPhone</td>\n",
       "      <td>1284</td>\n",
       "      <td>28610</td>\n",
       "      <td>False</td>\n",
       "    </tr>\n",
       "    <tr>\n",
       "      <th>3</th>\n",
       "      <td>1544375575724400645</td>\n",
       "      <td>Elon Musk</td>\n",
       "      <td>NaN</td>\n",
       "      <td>Mars &amp; Cars, Chips &amp; Dips</td>\n",
       "      <td>2009-06-02 20:12:29+00:00</td>\n",
       "      <td>101240806</td>\n",
       "      <td>115</td>\n",
       "      <td>13503</td>\n",
       "      <td>True</td>\n",
       "      <td>2022-07-05 17:40:05+00:00</td>\n",
       "      <td>@ExplainThisBob This guy gets it</td>\n",
       "      <td>NaN</td>\n",
       "      <td>Twitter for iPhone</td>\n",
       "      <td>131</td>\n",
       "      <td>3640</td>\n",
       "      <td>False</td>\n",
       "    </tr>\n",
       "    <tr>\n",
       "      <th>4</th>\n",
       "      <td>1544375148605853699</td>\n",
       "      <td>Elon Musk</td>\n",
       "      <td>NaN</td>\n",
       "      <td>Mars &amp; Cars, Chips &amp; Dips</td>\n",
       "      <td>2009-06-02 20:12:29+00:00</td>\n",
       "      <td>101240806</td>\n",
       "      <td>115</td>\n",
       "      <td>13503</td>\n",
       "      <td>True</td>\n",
       "      <td>2022-07-05 17:38:23+00:00</td>\n",
       "      <td>Sock tech is so advanced that you can get pret...</td>\n",
       "      <td>NaN</td>\n",
       "      <td>Twitter for iPhone</td>\n",
       "      <td>1191</td>\n",
       "      <td>23790</td>\n",
       "      <td>False</td>\n",
       "    </tr>\n",
       "    <tr>\n",
       "      <th>...</th>\n",
       "      <td>...</td>\n",
       "      <td>...</td>\n",
       "      <td>...</td>\n",
       "      <td>...</td>\n",
       "      <td>...</td>\n",
       "      <td>...</td>\n",
       "      <td>...</td>\n",
       "      <td>...</td>\n",
       "      <td>...</td>\n",
       "      <td>...</td>\n",
       "      <td>...</td>\n",
       "      <td>...</td>\n",
       "      <td>...</td>\n",
       "      <td>...</td>\n",
       "      <td>...</td>\n",
       "      <td>...</td>\n",
       "    </tr>\n",
       "    <tr>\n",
       "      <th>5227</th>\n",
       "      <td>1653949097970393089</td>\n",
       "      <td>Elon Musk</td>\n",
       "      <td>NaN</td>\n",
       "      <td>NaN</td>\n",
       "      <td>2009-06-02 20:12:29+00:00</td>\n",
       "      <td>139450414</td>\n",
       "      <td>294</td>\n",
       "      <td>23383</td>\n",
       "      <td>False</td>\n",
       "      <td>2023-05-04 02:26:08+00:00</td>\n",
       "      <td>@zerohedge It’s almost like there’s a pattern</td>\n",
       "      <td>NaN</td>\n",
       "      <td>Twitter for iPhone</td>\n",
       "      <td>1601</td>\n",
       "      <td>25557</td>\n",
       "      <td>False</td>\n",
       "    </tr>\n",
       "    <tr>\n",
       "      <th>5228</th>\n",
       "      <td>1653932618357022720</td>\n",
       "      <td>Elon Musk</td>\n",
       "      <td>NaN</td>\n",
       "      <td>NaN</td>\n",
       "      <td>2009-06-02 20:12:29+00:00</td>\n",
       "      <td>139450414</td>\n",
       "      <td>294</td>\n",
       "      <td>23383</td>\n",
       "      <td>False</td>\n",
       "      <td>2023-05-04 01:20:39+00:00</td>\n",
       "      <td>@RebelNewsOnline Interesting</td>\n",
       "      <td>NaN</td>\n",
       "      <td>Twitter for iPhone</td>\n",
       "      <td>1241</td>\n",
       "      <td>9821</td>\n",
       "      <td>False</td>\n",
       "    </tr>\n",
       "    <tr>\n",
       "      <th>5229</th>\n",
       "      <td>1653891787025690624</td>\n",
       "      <td>Elon Musk</td>\n",
       "      <td>NaN</td>\n",
       "      <td>NaN</td>\n",
       "      <td>2009-06-02 20:12:29+00:00</td>\n",
       "      <td>139450414</td>\n",
       "      <td>294</td>\n",
       "      <td>23383</td>\n",
       "      <td>False</td>\n",
       "      <td>2023-05-03 22:38:24+00:00</td>\n",
       "      <td>@JonErlichman 14 years ago</td>\n",
       "      <td>NaN</td>\n",
       "      <td>Twitter for iPhone</td>\n",
       "      <td>780</td>\n",
       "      <td>14869</td>\n",
       "      <td>False</td>\n",
       "    </tr>\n",
       "    <tr>\n",
       "      <th>5230</th>\n",
       "      <td>1653847700780249089</td>\n",
       "      <td>Elon Musk</td>\n",
       "      <td>NaN</td>\n",
       "      <td>NaN</td>\n",
       "      <td>2009-06-02 20:12:29+00:00</td>\n",
       "      <td>139450414</td>\n",
       "      <td>294</td>\n",
       "      <td>23383</td>\n",
       "      <td>False</td>\n",
       "      <td>2023-05-03 19:43:13+00:00</td>\n",
       "      <td>@realMeetKevin @Tesla Always tough with margin...</td>\n",
       "      <td>NaN</td>\n",
       "      <td>Twitter for iPhone</td>\n",
       "      <td>965</td>\n",
       "      <td>20502</td>\n",
       "      <td>False</td>\n",
       "    </tr>\n",
       "    <tr>\n",
       "      <th>5231</th>\n",
       "      <td>1653790887800078336</td>\n",
       "      <td>Elon Musk</td>\n",
       "      <td>NaN</td>\n",
       "      <td>NaN</td>\n",
       "      <td>2009-06-02 20:12:29+00:00</td>\n",
       "      <td>139450414</td>\n",
       "      <td>294</td>\n",
       "      <td>23383</td>\n",
       "      <td>False</td>\n",
       "      <td>2023-05-03 15:57:28+00:00</td>\n",
       "      <td>@Rainmaker1973 Oh brave new world</td>\n",
       "      <td>NaN</td>\n",
       "      <td>Twitter for iPhone</td>\n",
       "      <td>1064</td>\n",
       "      <td>12965</td>\n",
       "      <td>False</td>\n",
       "    </tr>\n",
       "  </tbody>\n",
       "</table>\n",
       "<p>5232 rows × 16 columns</p>\n",
       "</div>"
      ],
      "text/plain": [
       "                       id  user_name user_location           user_description  \\\n",
       "0     1544379368478212100  Elon Musk           NaN  Mars & Cars, Chips & Dips   \n",
       "1     1544377493263720450  Elon Musk           NaN  Mars & Cars, Chips & Dips   \n",
       "2     1544377130590552064  Elon Musk           NaN  Mars & Cars, Chips & Dips   \n",
       "3     1544375575724400645  Elon Musk           NaN  Mars & Cars, Chips & Dips   \n",
       "4     1544375148605853699  Elon Musk           NaN  Mars & Cars, Chips & Dips   \n",
       "...                   ...        ...           ...                        ...   \n",
       "5227  1653949097970393089  Elon Musk           NaN                        NaN   \n",
       "5228  1653932618357022720  Elon Musk           NaN                        NaN   \n",
       "5229  1653891787025690624  Elon Musk           NaN                        NaN   \n",
       "5230  1653847700780249089  Elon Musk           NaN                        NaN   \n",
       "5231  1653790887800078336  Elon Musk           NaN                        NaN   \n",
       "\n",
       "                   user_created  user_followers  user_friends  \\\n",
       "0     2009-06-02 20:12:29+00:00       101240855           115   \n",
       "1     2009-06-02 20:12:29+00:00       101240806           115   \n",
       "2     2009-06-02 20:12:29+00:00       101240806           115   \n",
       "3     2009-06-02 20:12:29+00:00       101240806           115   \n",
       "4     2009-06-02 20:12:29+00:00       101240806           115   \n",
       "...                         ...             ...           ...   \n",
       "5227  2009-06-02 20:12:29+00:00       139450414           294   \n",
       "5228  2009-06-02 20:12:29+00:00       139450414           294   \n",
       "5229  2009-06-02 20:12:29+00:00       139450414           294   \n",
       "5230  2009-06-02 20:12:29+00:00       139450414           294   \n",
       "5231  2009-06-02 20:12:29+00:00       139450414           294   \n",
       "\n",
       "      user_favourites  user_verified                       date  \\\n",
       "0               13503           True  2022-07-05 17:55:09+00:00   \n",
       "1               13503           True  2022-07-05 17:47:42+00:00   \n",
       "2               13503           True  2022-07-05 17:46:15+00:00   \n",
       "3               13503           True  2022-07-05 17:40:05+00:00   \n",
       "4               13503           True  2022-07-05 17:38:23+00:00   \n",
       "...               ...            ...                        ...   \n",
       "5227            23383          False  2023-05-04 02:26:08+00:00   \n",
       "5228            23383          False  2023-05-04 01:20:39+00:00   \n",
       "5229            23383          False  2023-05-03 22:38:24+00:00   \n",
       "5230            23383          False  2023-05-03 19:43:13+00:00   \n",
       "5231            23383          False  2023-05-03 15:57:28+00:00   \n",
       "\n",
       "                                                   text hashtags  \\\n",
       "0     @BillyM2k I find the gold toe sock – inevitabl...      NaN   \n",
       "1                    Sock Con, the conference for socks      NaN   \n",
       "2     Always something new for the magazine cover an...      NaN   \n",
       "3                      @ExplainThisBob This guy gets it      NaN   \n",
       "4     Sock tech is so advanced that you can get pret...      NaN   \n",
       "...                                                 ...      ...   \n",
       "5227      @zerohedge It’s almost like there’s a pattern      NaN   \n",
       "5228                       @RebelNewsOnline Interesting      NaN   \n",
       "5229                         @JonErlichman 14 years ago      NaN   \n",
       "5230  @realMeetKevin @Tesla Always tough with margin...      NaN   \n",
       "5231                  @Rainmaker1973 Oh brave new world      NaN   \n",
       "\n",
       "                  source  retweets  favorites  is_retweet  \n",
       "0     Twitter for iPhone       335       6542       False  \n",
       "1     Twitter for iPhone      1451      30753       False  \n",
       "2     Twitter for iPhone      1284      28610       False  \n",
       "3     Twitter for iPhone       131       3640       False  \n",
       "4     Twitter for iPhone      1191      23790       False  \n",
       "...                  ...       ...        ...         ...  \n",
       "5227  Twitter for iPhone      1601      25557       False  \n",
       "5228  Twitter for iPhone      1241       9821       False  \n",
       "5229  Twitter for iPhone       780      14869       False  \n",
       "5230  Twitter for iPhone       965      20502       False  \n",
       "5231  Twitter for iPhone      1064      12965       False  \n",
       "\n",
       "[5232 rows x 16 columns]"
      ]
     },
     "execution_count": 19,
     "metadata": {},
     "output_type": "execute_result"
    }
   ],
   "source": [
    "df_2022_2023 = pd.read_csv(\"../date Kaggle tweets/elon_musk_tweets.csv\")\n",
    "df_2022_2023"
   ]
  },
  {
   "cell_type": "code",
   "execution_count": 20,
   "id": "c91df51f",
   "metadata": {},
   "outputs": [],
   "source": [
    "columns_to_drop = ['user_location', 'user_description', 'user_created', 'user_verified', 'hashtags', 'source']"
   ]
  },
  {
   "cell_type": "code",
   "execution_count": 21,
   "id": "c758320f",
   "metadata": {},
   "outputs": [
    {
     "data": {
      "text/html": [
       "<div>\n",
       "<style scoped>\n",
       "    .dataframe tbody tr th:only-of-type {\n",
       "        vertical-align: middle;\n",
       "    }\n",
       "\n",
       "    .dataframe tbody tr th {\n",
       "        vertical-align: top;\n",
       "    }\n",
       "\n",
       "    .dataframe thead th {\n",
       "        text-align: right;\n",
       "    }\n",
       "</style>\n",
       "<table border=\"1\" class=\"dataframe\">\n",
       "  <thead>\n",
       "    <tr style=\"text-align: right;\">\n",
       "      <th></th>\n",
       "      <th>id</th>\n",
       "      <th>user_name</th>\n",
       "      <th>user_followers</th>\n",
       "      <th>user_friends</th>\n",
       "      <th>user_favourites</th>\n",
       "      <th>date</th>\n",
       "      <th>text</th>\n",
       "      <th>retweets</th>\n",
       "      <th>favorites</th>\n",
       "      <th>is_retweet</th>\n",
       "    </tr>\n",
       "  </thead>\n",
       "  <tbody>\n",
       "    <tr>\n",
       "      <th>0</th>\n",
       "      <td>1544379368478212100</td>\n",
       "      <td>Elon Musk</td>\n",
       "      <td>101240855</td>\n",
       "      <td>115</td>\n",
       "      <td>13503</td>\n",
       "      <td>2022-07-05 17:55:09+00:00</td>\n",
       "      <td>@BillyM2k I find the gold toe sock – inevitabl...</td>\n",
       "      <td>335</td>\n",
       "      <td>6542</td>\n",
       "      <td>False</td>\n",
       "    </tr>\n",
       "    <tr>\n",
       "      <th>1</th>\n",
       "      <td>1544377493263720450</td>\n",
       "      <td>Elon Musk</td>\n",
       "      <td>101240806</td>\n",
       "      <td>115</td>\n",
       "      <td>13503</td>\n",
       "      <td>2022-07-05 17:47:42+00:00</td>\n",
       "      <td>Sock Con, the conference for socks</td>\n",
       "      <td>1451</td>\n",
       "      <td>30753</td>\n",
       "      <td>False</td>\n",
       "    </tr>\n",
       "  </tbody>\n",
       "</table>\n",
       "</div>"
      ],
      "text/plain": [
       "                    id  user_name  user_followers  user_friends  \\\n",
       "0  1544379368478212100  Elon Musk       101240855           115   \n",
       "1  1544377493263720450  Elon Musk       101240806           115   \n",
       "\n",
       "   user_favourites                       date  \\\n",
       "0            13503  2022-07-05 17:55:09+00:00   \n",
       "1            13503  2022-07-05 17:47:42+00:00   \n",
       "\n",
       "                                                text  retweets  favorites  \\\n",
       "0  @BillyM2k I find the gold toe sock – inevitabl...       335       6542   \n",
       "1                 Sock Con, the conference for socks      1451      30753   \n",
       "\n",
       "   is_retweet  \n",
       "0       False  \n",
       "1       False  "
      ]
     },
     "execution_count": 21,
     "metadata": {},
     "output_type": "execute_result"
    }
   ],
   "source": [
    "df_2022_2023.drop(columns_to_drop, axis=1, inplace=True)\n",
    "df_2022_2023.head(2)"
   ]
  },
  {
   "cell_type": "code",
   "execution_count": 22,
   "id": "8cea87e7",
   "metadata": {},
   "outputs": [],
   "source": [
    "df_2022_2023 = df_2022_2023.rename(columns={'date':'created_at', \"user_name\":'name', 'text':'tweet',\n",
    "                                           'retweets':'retweets_count', 'favorites':'likes_count'})"
   ]
  },
  {
   "cell_type": "code",
   "execution_count": 23,
   "id": "3e3d29f1",
   "metadata": {
    "scrolled": true
   },
   "outputs": [
    {
     "name": "stdout",
     "output_type": "stream",
     "text": [
      "<class 'pandas.core.frame.DataFrame'>\n",
      "RangeIndex: 5232 entries, 0 to 5231\n",
      "Data columns (total 10 columns):\n",
      " #   Column           Non-Null Count  Dtype \n",
      "---  ------           --------------  ----- \n",
      " 0   id               5232 non-null   int64 \n",
      " 1   name             5232 non-null   object\n",
      " 2   user_followers   5232 non-null   int64 \n",
      " 3   user_friends     5232 non-null   int64 \n",
      " 4   user_favourites  5232 non-null   int64 \n",
      " 5   created_at       5232 non-null   object\n",
      " 6   tweet            5232 non-null   object\n",
      " 7   retweets_count   5232 non-null   int64 \n",
      " 8   likes_count      5232 non-null   int64 \n",
      " 9   is_retweet       5232 non-null   bool  \n",
      "dtypes: bool(1), int64(6), object(3)\n",
      "memory usage: 373.1+ KB\n",
      "<class 'pandas.core.series.Series'>\n",
      "RangeIndex: 5232 entries, 0 to 5231\n",
      "Series name: created_at\n",
      "Non-Null Count  Dtype \n",
      "--------------  ----- \n",
      "5232 non-null   object\n",
      "dtypes: object(1)\n",
      "memory usage: 41.0+ KB\n",
      "<class 'pandas.core.series.Series'>\n",
      "RangeIndex: 5232 entries, 0 to 5231\n",
      "Series name: created_at\n",
      "Non-Null Count  Dtype         \n",
      "--------------  -----         \n",
      "5232 non-null   datetime64[ns]\n",
      "dtypes: datetime64[ns](1)\n",
      "memory usage: 41.0 KB\n"
     ]
    }
   ],
   "source": [
    "df_2022_2023.info()\n",
    "df_2022_2023['created_at'].info() # --> initial it was stored as object, not as date\n",
    "\n",
    "df_2022_2023['created_at'] = pd.to_datetime(df_2022_2023['created_at']).dt.tz_localize(None)\n",
    "df_2022_2023['created_at'].info() # stored as datetime"
   ]
  },
  {
   "cell_type": "code",
   "execution_count": 24,
   "id": "3d5e16e0",
   "metadata": {},
   "outputs": [
    {
     "data": {
      "text/plain": [
       "(16698, 14)"
      ]
     },
     "execution_count": 24,
     "metadata": {},
     "output_type": "execute_result"
    }
   ],
   "source": [
    "result_df.shape"
   ]
  },
  {
   "cell_type": "code",
   "execution_count": 25,
   "id": "503b6479",
   "metadata": {},
   "outputs": [
    {
     "data": {
      "text/plain": [
       "(5232, 10)"
      ]
     },
     "execution_count": 25,
     "metadata": {},
     "output_type": "execute_result"
    }
   ],
   "source": [
    "df_2022_2023.shape"
   ]
  },
  {
   "cell_type": "code",
   "execution_count": 26,
   "id": "5d9667d6",
   "metadata": {},
   "outputs": [
    {
     "data": {
      "text/html": [
       "<div>\n",
       "<style scoped>\n",
       "    .dataframe tbody tr th:only-of-type {\n",
       "        vertical-align: middle;\n",
       "    }\n",
       "\n",
       "    .dataframe tbody tr th {\n",
       "        vertical-align: top;\n",
       "    }\n",
       "\n",
       "    .dataframe thead th {\n",
       "        text-align: right;\n",
       "    }\n",
       "</style>\n",
       "<table border=\"1\" class=\"dataframe\">\n",
       "  <thead>\n",
       "    <tr style=\"text-align: right;\">\n",
       "      <th></th>\n",
       "      <th>id</th>\n",
       "      <th>conversation_id</th>\n",
       "      <th>created_at</th>\n",
       "      <th>date</th>\n",
       "      <th>user_id</th>\n",
       "      <th>username</th>\n",
       "      <th>name</th>\n",
       "      <th>tweet</th>\n",
       "      <th>replies_count</th>\n",
       "      <th>retweets_count</th>\n",
       "      <th>likes_count</th>\n",
       "      <th>is_retweet</th>\n",
       "      <th>user_followers</th>\n",
       "      <th>user_friends</th>\n",
       "      <th>user_favourites</th>\n",
       "    </tr>\n",
       "  </thead>\n",
       "  <tbody>\n",
       "    <tr>\n",
       "      <th>12514</th>\n",
       "      <td>1.543473e+10</td>\n",
       "      <td>1.543473e+10</td>\n",
       "      <td>2010-06-04 21:31:57</td>\n",
       "      <td>2010-06-04</td>\n",
       "      <td>44196397.0</td>\n",
       "      <td>elonmusk</td>\n",
       "      <td>Elon Musk</td>\n",
       "      <td>Please ignore prior tweets, as that was someon...</td>\n",
       "      <td>398.0</td>\n",
       "      <td>349</td>\n",
       "      <td>4710</td>\n",
       "      <td>False</td>\n",
       "      <td>NaN</td>\n",
       "      <td>NaN</td>\n",
       "      <td>NaN</td>\n",
       "    </tr>\n",
       "    <tr>\n",
       "      <th>12513</th>\n",
       "      <td>1.421799e+17</td>\n",
       "      <td>1.421799e+17</td>\n",
       "      <td>2011-12-01 11:55:11</td>\n",
       "      <td>2011-12-01</td>\n",
       "      <td>44196397.0</td>\n",
       "      <td>elonmusk</td>\n",
       "      <td>Elon Musk</td>\n",
       "      <td>Went to Iceland on Sat to ride bumper cars on ...</td>\n",
       "      <td>31.0</td>\n",
       "      <td>16</td>\n",
       "      <td>191</td>\n",
       "      <td>False</td>\n",
       "      <td>NaN</td>\n",
       "      <td>NaN</td>\n",
       "      <td>NaN</td>\n",
       "    </tr>\n",
       "  </tbody>\n",
       "</table>\n",
       "</div>"
      ],
      "text/plain": [
       "                 id  conversation_id          created_at       date  \\\n",
       "12514  1.543473e+10     1.543473e+10 2010-06-04 21:31:57 2010-06-04   \n",
       "12513  1.421799e+17     1.421799e+17 2011-12-01 11:55:11 2011-12-01   \n",
       "\n",
       "          user_id  username       name  \\\n",
       "12514  44196397.0  elonmusk  Elon Musk   \n",
       "12513  44196397.0  elonmusk  Elon Musk   \n",
       "\n",
       "                                                   tweet  replies_count  \\\n",
       "12514  Please ignore prior tweets, as that was someon...          398.0   \n",
       "12513  Went to Iceland on Sat to ride bumper cars on ...           31.0   \n",
       "\n",
       "       retweets_count  likes_count is_retweet  user_followers  user_friends  \\\n",
       "12514             349         4710      False             NaN           NaN   \n",
       "12513              16          191      False             NaN           NaN   \n",
       "\n",
       "       user_favourites  \n",
       "12514              NaN  \n",
       "12513              NaN  "
      ]
     },
     "execution_count": 26,
     "metadata": {},
     "output_type": "execute_result"
    }
   ],
   "source": [
    "df_10_23 = pd.concat([result_df, df_2022_2023], axis=0)\n",
    "df_10_23.head(2)"
   ]
  },
  {
   "cell_type": "code",
   "execution_count": 27,
   "id": "cc0eb911",
   "metadata": {},
   "outputs": [
    {
     "data": {
      "text/html": [
       "<div>\n",
       "<style scoped>\n",
       "    .dataframe tbody tr th:only-of-type {\n",
       "        vertical-align: middle;\n",
       "    }\n",
       "\n",
       "    .dataframe tbody tr th {\n",
       "        vertical-align: top;\n",
       "    }\n",
       "\n",
       "    .dataframe thead th {\n",
       "        text-align: right;\n",
       "    }\n",
       "</style>\n",
       "<table border=\"1\" class=\"dataframe\">\n",
       "  <thead>\n",
       "    <tr style=\"text-align: right;\">\n",
       "      <th></th>\n",
       "      <th>id</th>\n",
       "      <th>conversation_id</th>\n",
       "      <th>created_at</th>\n",
       "      <th>date</th>\n",
       "      <th>user_id</th>\n",
       "      <th>username</th>\n",
       "      <th>name</th>\n",
       "      <th>tweet</th>\n",
       "      <th>replies_count</th>\n",
       "      <th>retweets_count</th>\n",
       "      <th>likes_count</th>\n",
       "      <th>is_retweet</th>\n",
       "      <th>user_followers</th>\n",
       "      <th>user_friends</th>\n",
       "      <th>user_favourites</th>\n",
       "    </tr>\n",
       "  </thead>\n",
       "  <tbody>\n",
       "    <tr>\n",
       "      <th>12514</th>\n",
       "      <td>1.543473e+10</td>\n",
       "      <td>1.543473e+10</td>\n",
       "      <td>2010-06-04 21:31:57</td>\n",
       "      <td>2010-06-04</td>\n",
       "      <td>44196397.0</td>\n",
       "      <td>elonmusk</td>\n",
       "      <td>Elon Musk</td>\n",
       "      <td>Please ignore prior tweets, as that was someon...</td>\n",
       "      <td>398.0</td>\n",
       "      <td>349</td>\n",
       "      <td>4710</td>\n",
       "      <td>False</td>\n",
       "      <td>NaN</td>\n",
       "      <td>NaN</td>\n",
       "      <td>NaN</td>\n",
       "    </tr>\n",
       "    <tr>\n",
       "      <th>12513</th>\n",
       "      <td>1.421799e+17</td>\n",
       "      <td>1.421799e+17</td>\n",
       "      <td>2011-12-01 11:55:11</td>\n",
       "      <td>2011-12-01</td>\n",
       "      <td>44196397.0</td>\n",
       "      <td>elonmusk</td>\n",
       "      <td>Elon Musk</td>\n",
       "      <td>Went to Iceland on Sat to ride bumper cars on ...</td>\n",
       "      <td>31.0</td>\n",
       "      <td>16</td>\n",
       "      <td>191</td>\n",
       "      <td>False</td>\n",
       "      <td>NaN</td>\n",
       "      <td>NaN</td>\n",
       "      <td>NaN</td>\n",
       "    </tr>\n",
       "    <tr>\n",
       "      <th>12512</th>\n",
       "      <td>1.421885e+17</td>\n",
       "      <td>1.421885e+17</td>\n",
       "      <td>2011-12-01 12:29:04</td>\n",
       "      <td>2011-12-01</td>\n",
       "      <td>44196397.0</td>\n",
       "      <td>elonmusk</td>\n",
       "      <td>Elon Musk</td>\n",
       "      <td>I made the volume on the Model S  http://t.co/...</td>\n",
       "      <td>31.0</td>\n",
       "      <td>9</td>\n",
       "      <td>79</td>\n",
       "      <td>False</td>\n",
       "      <td>NaN</td>\n",
       "      <td>NaN</td>\n",
       "      <td>NaN</td>\n",
       "    </tr>\n",
       "    <tr>\n",
       "      <th>12511</th>\n",
       "      <td>1.428809e+17</td>\n",
       "      <td>1.428809e+17</td>\n",
       "      <td>2011-12-03 10:20:28</td>\n",
       "      <td>2011-12-03</td>\n",
       "      <td>44196397.0</td>\n",
       "      <td>elonmusk</td>\n",
       "      <td>Elon Musk</td>\n",
       "      <td>Great Voltaire quote, arguably better than Twa...</td>\n",
       "      <td>7.0</td>\n",
       "      <td>24</td>\n",
       "      <td>30</td>\n",
       "      <td>False</td>\n",
       "      <td>NaN</td>\n",
       "      <td>NaN</td>\n",
       "      <td>NaN</td>\n",
       "    </tr>\n",
       "    <tr>\n",
       "      <th>12510</th>\n",
       "      <td>1.428813e+17</td>\n",
       "      <td>1.428813e+17</td>\n",
       "      <td>2011-12-03 10:22:07</td>\n",
       "      <td>2011-12-03</td>\n",
       "      <td>44196397.0</td>\n",
       "      <td>elonmusk</td>\n",
       "      <td>Elon Musk</td>\n",
       "      <td>That was a total non sequitur btw</td>\n",
       "      <td>29.0</td>\n",
       "      <td>6</td>\n",
       "      <td>52</td>\n",
       "      <td>False</td>\n",
       "      <td>NaN</td>\n",
       "      <td>NaN</td>\n",
       "      <td>NaN</td>\n",
       "    </tr>\n",
       "  </tbody>\n",
       "</table>\n",
       "</div>"
      ],
      "text/plain": [
       "                 id  conversation_id          created_at       date  \\\n",
       "12514  1.543473e+10     1.543473e+10 2010-06-04 21:31:57 2010-06-04   \n",
       "12513  1.421799e+17     1.421799e+17 2011-12-01 11:55:11 2011-12-01   \n",
       "12512  1.421885e+17     1.421885e+17 2011-12-01 12:29:04 2011-12-01   \n",
       "12511  1.428809e+17     1.428809e+17 2011-12-03 10:20:28 2011-12-03   \n",
       "12510  1.428813e+17     1.428813e+17 2011-12-03 10:22:07 2011-12-03   \n",
       "\n",
       "          user_id  username       name  \\\n",
       "12514  44196397.0  elonmusk  Elon Musk   \n",
       "12513  44196397.0  elonmusk  Elon Musk   \n",
       "12512  44196397.0  elonmusk  Elon Musk   \n",
       "12511  44196397.0  elonmusk  Elon Musk   \n",
       "12510  44196397.0  elonmusk  Elon Musk   \n",
       "\n",
       "                                                   tweet  replies_count  \\\n",
       "12514  Please ignore prior tweets, as that was someon...          398.0   \n",
       "12513  Went to Iceland on Sat to ride bumper cars on ...           31.0   \n",
       "12512  I made the volume on the Model S  http://t.co/...           31.0   \n",
       "12511  Great Voltaire quote, arguably better than Twa...            7.0   \n",
       "12510                  That was a total non sequitur btw           29.0   \n",
       "\n",
       "       retweets_count  likes_count is_retweet  user_followers  user_friends  \\\n",
       "12514             349         4710      False             NaN           NaN   \n",
       "12513              16          191      False             NaN           NaN   \n",
       "12512               9           79      False             NaN           NaN   \n",
       "12511              24           30      False             NaN           NaN   \n",
       "12510               6           52      False             NaN           NaN   \n",
       "\n",
       "       user_favourites  \n",
       "12514              NaN  \n",
       "12513              NaN  \n",
       "12512              NaN  \n",
       "12511              NaN  \n",
       "12510              NaN  "
      ]
     },
     "execution_count": 27,
     "metadata": {},
     "output_type": "execute_result"
    }
   ],
   "source": [
    "values = {\"user_id\": 44196397, \"username\": 'elonmusk'}\n",
    "df_10_23 = df_10_23.fillna(value=values)\n",
    "df_10_23.head()"
   ]
  },
  {
   "cell_type": "code",
   "execution_count": 28,
   "id": "20ba3bd4",
   "metadata": {
    "scrolled": true
   },
   "outputs": [
    {
     "name": "stdout",
     "output_type": "stream",
     "text": [
      "<class 'pandas.core.frame.DataFrame'>\n",
      "Int64Index: 21930 entries, 12514 to 5231\n",
      "Data columns (total 15 columns):\n",
      " #   Column           Non-Null Count  Dtype         \n",
      "---  ------           --------------  -----         \n",
      " 0   id               17794 non-null  float64       \n",
      " 1   conversation_id  16698 non-null  float64       \n",
      " 2   created_at       21930 non-null  datetime64[ns]\n",
      " 3   date             16698 non-null  datetime64[ns]\n",
      " 4   user_id          21930 non-null  float64       \n",
      " 5   username         21930 non-null  object        \n",
      " 6   name             21930 non-null  object        \n",
      " 7   tweet            21930 non-null  object        \n",
      " 8   replies_count    16698 non-null  float64       \n",
      " 9   retweets_count   21930 non-null  int64         \n",
      " 10  likes_count      21930 non-null  int64         \n",
      " 11  is_retweet       17794 non-null  object        \n",
      " 12  user_followers   9368 non-null   float64       \n",
      " 13  user_friends     9368 non-null   float64       \n",
      " 14  user_favourites  5232 non-null   float64       \n",
      "dtypes: datetime64[ns](2), float64(7), int64(2), object(4)\n",
      "memory usage: 2.7+ MB\n"
     ]
    }
   ],
   "source": [
    "df_10_23.info()"
   ]
  },
  {
   "cell_type": "code",
   "execution_count": 29,
   "id": "da91779b",
   "metadata": {},
   "outputs": [
    {
     "name": "stdout",
     "output_type": "stream",
     "text": [
      "<class 'pandas.core.frame.DataFrame'>\n",
      "Int64Index: 21930 entries, 12514 to 5231\n",
      "Data columns (total 15 columns):\n",
      " #   Column           Non-Null Count  Dtype         \n",
      "---  ------           --------------  -----         \n",
      " 0   id               17794 non-null  Int64         \n",
      " 1   conversation_id  16698 non-null  Int64         \n",
      " 2   created_at       21930 non-null  datetime64[ns]\n",
      " 3   date             16698 non-null  datetime64[ns]\n",
      " 4   user_id          21930 non-null  Int64         \n",
      " 5   username         21930 non-null  object        \n",
      " 6   name             21930 non-null  object        \n",
      " 7   tweet            21930 non-null  object        \n",
      " 8   replies_count    16698 non-null  Int64         \n",
      " 9   retweets_count   21930 non-null  Int64         \n",
      " 10  likes_count      21930 non-null  Int64         \n",
      " 11  is_retweet       17794 non-null  object        \n",
      " 12  user_followers   9368 non-null   Int64         \n",
      " 13  user_friends     9368 non-null   Int64         \n",
      " 14  user_favourites  5232 non-null   Int64         \n",
      "dtypes: Int64(9), datetime64[ns](2), object(4)\n",
      "memory usage: 2.9+ MB\n"
     ]
    }
   ],
   "source": [
    "df_10_23 = df_10_23.astype({'id': 'Int64', 'conversation_id': 'Int64', 'user_id':'Int64',\n",
    "                            'replies_count': 'Int64', 'user_favourites': 'Int64', 'user_followers': 'Int64',\n",
    "                           'user_friends': 'Int64', 'retweets_count': 'Int64', 'likes_count': 'Int64'})\n",
    "\n",
    "df_10_23.info()"
   ]
  },
  {
   "cell_type": "markdown",
   "id": "e5160b8f",
   "metadata": {},
   "source": [
    "Cleaning Tweets"
   ]
  },
  {
   "cell_type": "code",
   "execution_count": 30,
   "id": "dc023546",
   "metadata": {},
   "outputs": [],
   "source": [
    "df_10_23_cleaned = df_10_23.copy()"
   ]
  },
  {
   "cell_type": "code",
   "execution_count": 31,
   "id": "a0efe69a",
   "metadata": {},
   "outputs": [],
   "source": [
    "# Clean Tweets\n",
    "df_10_23_cleaned = clean_tweets(df=df_10_23_cleaned)"
   ]
  },
  {
   "cell_type": "code",
   "execution_count": 32,
   "id": "6dd264db",
   "metadata": {},
   "outputs": [
    {
     "data": {
      "text/plain": [
       "(21930, 16)"
      ]
     },
     "execution_count": 32,
     "metadata": {},
     "output_type": "execute_result"
    }
   ],
   "source": [
    "df_10_23_cleaned.shape"
   ]
  },
  {
   "cell_type": "code",
   "execution_count": 33,
   "id": "5d9bde98",
   "metadata": {},
   "outputs": [],
   "source": [
    "# Retrieve only Bitcoin Information\n",
    "bitcoin_tweets = df_10_23_cleaned[df_10_23_cleaned[\"tweet\"].str.contains(\"bitcoin\", 'BTC')].reset_index(drop = True)\n",
    "\n",
    "# Retrieve only Dogecoin Information\n",
    "dogecoin_tweets = df_10_23_cleaned[df_10_23_cleaned[\"tweet\"].str.contains(\"dogecoin\")].reset_index(drop = True)\n",
    "\n",
    "# Retrieve only Tesla Information\n",
    "tesla_tweets = df_10_23_cleaned[df_10_23_cleaned[\"tweet\"].str.contains(\"tesla\")].reset_index(drop = True)\n"
   ]
  },
  {
   "cell_type": "code",
   "execution_count": 34,
   "id": "336dccb3",
   "metadata": {},
   "outputs": [
    {
     "data": {
      "text/plain": [
       "(29, 16)"
      ]
     },
     "execution_count": 34,
     "metadata": {},
     "output_type": "execute_result"
    }
   ],
   "source": [
    "bitcoin_tweets.shape"
   ]
  },
  {
   "cell_type": "code",
   "execution_count": 35,
   "id": "8235bc80",
   "metadata": {},
   "outputs": [
    {
     "data": {
      "text/plain": [
       "(23, 16)"
      ]
     },
     "execution_count": 35,
     "metadata": {},
     "output_type": "execute_result"
    }
   ],
   "source": [
    "dogecoin_tweets.shape"
   ]
  },
  {
   "cell_type": "code",
   "execution_count": 36,
   "id": "97a25efe",
   "metadata": {},
   "outputs": [
    {
     "data": {
      "text/plain": [
       "(1392, 16)"
      ]
     },
     "execution_count": 36,
     "metadata": {},
     "output_type": "execute_result"
    }
   ],
   "source": [
    "tesla_tweets.shape"
   ]
  },
  {
   "cell_type": "code",
   "execution_count": 37,
   "id": "aae34314",
   "metadata": {},
   "outputs": [],
   "source": [
    "# df_10_23.to_csv('Elon Musk tweets all.csv')\n",
    "# df_10_23_cleaned.to_csv('Elon Musk tweets cleaned.csv')\n",
    "\n",
    "# bitcoin_tweets.to_csv('Elon Musk tweets about BTC.csv')\n",
    "# dogecoin_tweets.to_csv('Elon Musk tweets about DOGE.csv')\n",
    "# tesla_tweets.to_csv('Elon Musk tweets about TSLA.csv')"
   ]
  }
 ],
 "metadata": {
  "kernelspec": {
   "display_name": "Python 3 (ipykernel)",
   "language": "python",
   "name": "python3"
  },
  "language_info": {
   "codemirror_mode": {
    "name": "ipython",
    "version": 3
   },
   "file_extension": ".py",
   "mimetype": "text/x-python",
   "name": "python",
   "nbconvert_exporter": "python",
   "pygments_lexer": "ipython3",
   "version": "3.8.13"
  }
 },
 "nbformat": 4,
 "nbformat_minor": 5
}
